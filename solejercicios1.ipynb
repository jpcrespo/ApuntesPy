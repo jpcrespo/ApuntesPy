{
 "cells": [
  {
   "cell_type": "markdown",
   "metadata": {},
   "source": [
    "# EJERCICIOS RESUELTOS - Parte Uno\n"
   ]
  },
  {
   "cell_type": "code",
   "execution_count": 6,
   "metadata": {},
   "outputs": [
    {
     "name": "stdout",
     "output_type": "stream",
     "text": [
      "Introduzca una cadena: xhf!\n",
      "¡xhf!\n"
     ]
    }
   ],
   "source": [
    "# ---- EJERCICIO 1 ----\n",
    "def admiracion(cadena):\n",
    "    if cadena[0]!='¡':\n",
    "        cadena='¡'+cadena\n",
    "    if cadena[-1]!='!':\n",
    "        cadena=cadena+'!'\n",
    "    print(cadena)\n",
    "\n",
    "cad = input(\"Introduzca una cadena: \")\n",
    "admiracion(cad)"
   ]
  },
  {
   "cell_type": "code",
   "execution_count": 1,
   "metadata": {},
   "outputs": [
    {
     "name": "stdout",
     "output_type": "stream",
     "text": [
      ", 7, 14, 21, 28, 42, 49, 56, 63, 77, 84, 91, 98\n",
      "None\n"
     ]
    }
   ],
   "source": [
    "# EJERCICIO 2\n",
    "def div7notMult5():\n",
    "    cadena =''\n",
    "    \n",
    "    for i in range(0,101):\n",
    "        if i%7==0 and i%5!=0:\n",
    "            cadena=cadena+', '+str(i)\n",
    "    print(cadena)\n",
    "print(div7notMult5())"
   ]
  },
  {
   "cell_type": "code",
   "execution_count": 13,
   "metadata": {},
   "outputs": [
    {
     "name": "stdout",
     "output_type": "stream",
     "text": [
      "[1, 5, 3, 2, 7]\n"
     ]
    }
   ],
   "source": [
    "# EJERCICIO 3\n",
    "def eliminaDuplicados(lista):\n",
    "    lista2=[]\n",
    "    for i in lista:\n",
    "        if i not in lista2:\n",
    "            lista2.append(i)\n",
    "    print(lista2) \n",
    "eliminaDuplicados([1,5,3,2,1,3,7])"
   ]
  },
  {
   "cell_type": "code",
   "execution_count": 27,
   "metadata": {},
   "outputs": [
    {
     "name": "stdout",
     "output_type": "stream",
     "text": [
      "4\n",
      "[7, 7, 3, 3, 2, 10, -1]\n",
      "[5, 0, 9, 8, 50, -6]\n"
     ]
    }
   ],
   "source": [
    "# EJERCICIO 4\n",
    "def ordenPolinomio(poli):\n",
    "    c = 0\n",
    "    for i in poli[:0:-1]:\n",
    "        c=c+1\n",
    "        if i!=0:\n",
    "            break\n",
    "    return len(poli)-c\n",
    "\n",
    "def sumaPolinomio(pol1, pol2):\n",
    "    suma=[]\n",
    "    for i in range(min(len(pol1),len(pol2))):\n",
    "        suma.append(pol1[i]+pol2[i])\n",
    "    for i in range(min(len(pol1),len(pol2)),max(len(pol1),len(pol2))):\n",
    "        if min(len(pol1),len(pol2))==len(pol1):\n",
    "            suma.append(pol2[i])\n",
    "        else:\n",
    "            suma.append(pol1[i])   \n",
    "    return suma\n",
    "\n",
    "def derivadaPolinomio(poli):\n",
    "    deriv =[]\n",
    "    for i in range(1,len(poli)):\n",
    "        deriv.append(poli[i]*i)\n",
    "    return deriv\n",
    "    \n",
    "print(ordenPolinomio([1,5,3,2,1,0,0]))\n",
    "print(sumaPolinomio([1,2,3],[6,5,0,3,2,10,-1]))\n",
    "print(derivadaPolinomio([6,5,0,3,2,10,-1]))\n"
   ]
  },
  {
   "cell_type": "code",
   "execution_count": 3,
   "metadata": {},
   "outputs": [
    {
     "name": "stdout",
     "output_type": "stream",
     "text": [
      "2020-04-15 00:57:45.478348\n",
      "Introduzca su nombre: s\n",
      "introduzca su edad: 2\n",
      "2092\n"
     ]
    }
   ],
   "source": [
    "# EJERCICIO 5\n",
    "import datetime\n",
    "\n",
    "def nombreEdad():\n",
    "    nombre = input(\"Introduzca su nombre: \")\n",
    "    edad = input(\"introduzca su edad: \")\n",
    "    while not edad.isnumeric():\n",
    "        edad = input(\"Vuelva a introduzca su edad: \")\n",
    "    return datetime.datetime.today().year - int(edad)+74\n",
    "\n",
    "print(datetime.datetime.today())\n",
    "print(nombreEdad())"
   ]
  },
  {
   "cell_type": "code",
   "execution_count": 30,
   "metadata": {},
   "outputs": [
    {
     "name": "stdout",
     "output_type": "stream",
     "text": [
      "False\n"
     ]
    }
   ],
   "source": [
    "edad = '32asdf'\n",
    "print(edad.isnumeric())"
   ]
  }
 ],
 "metadata": {
  "kernelspec": {
   "display_name": "Python 3",
   "language": "python",
   "name": "python3"
  },
  "language_info": {
   "codemirror_mode": {
    "name": "ipython",
    "version": 3
   },
   "file_extension": ".py",
   "mimetype": "text/x-python",
   "name": "python",
   "nbconvert_exporter": "python",
   "pygments_lexer": "ipython3",
   "version": "3.8.2"
  }
 },
 "nbformat": 4,
 "nbformat_minor": 2
}
