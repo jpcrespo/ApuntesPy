{
 "cells": [
  {
   "cell_type": "markdown",
   "metadata": {},
   "source": [
    "# Ejercicios Clase 1"
   ]
  },
  {
   "cell_type": "markdown",
   "metadata": {},
   "source": [
    "1) Escriba una función que reciba un string como argumento de entrada y que devuelva el mismo string, habiéndole agregado signos de exclamación (ambos ¡!). Si el string ya posee signos de exclamación, la función debe devolver el string sin modificar."
   ]
  },
  {
   "cell_type": "markdown",
   "metadata": {},
   "source": [
    "2) Escriba una función que encuentre todos los números enteros, entre 2000 y 3000 (incluidos), que sean divisibles por 7, pero que no sean múltiplos de 5. La función debe imprimir los números encontrados en una sola línea, separados por comas."
   ]
  },
  {
   "cell_type": "markdown",
   "metadata": {},
   "source": [
    "3) Escriba una función que tome como argumento una lista y devuelva otra lista que contenga los mismos elementos que la original, pero habiendo eliminado los elementos duplicados. Guarde la lista resultante en un archivo de texto."
   ]
  },
  {
   "cell_type": "markdown",
   "metadata": {},
   "source": [
    "4) Escriba una serie de funciones que permitan trabajar con polinomios. Vamos a representar a los polinomios como una lista de números reales (los coeficientes):\n",
    "\n",
    "    * Una función que devuelva el orden del polinomio\n",
    "    * Una función que sume dos polinomios y devuelva un polinomio (objeto del mismo tipo)\n",
    "    * Una función devuelva la derivada del polinomio (otro polinomio).\n"
   ]
  },
  {
   "cell_type": "markdown",
   "metadata": {},
   "source": [
    "5) Cree un programa que pregunte por pantalla el nombre y edad del usuario y que imprima el año en que el usuario cumpliría los 74 años. Controle que la edad ingresada este compuesta solo por caracteres numéricos. De no estarlo, el programa debe seguir preguntando hasta que el usuario ingrese su edad con números."
   ]
  }
 ],
 "metadata": {
  "kernelspec": {
   "display_name": "Python 3",
   "language": "python",
   "name": "python3"
  },
  "language_info": {
   "codemirror_mode": {
    "name": "ipython",
    "version": 3
   },
   "file_extension": ".py",
   "mimetype": "text/x-python",
   "name": "python",
   "nbconvert_exporter": "python",
   "pygments_lexer": "ipython3",
   "version": "3.7.3"
  }
 },
 "nbformat": 4,
 "nbformat_minor": 2
}
