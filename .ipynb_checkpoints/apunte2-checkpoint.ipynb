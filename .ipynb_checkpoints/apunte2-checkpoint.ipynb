{
 "cells": [
  {
   "cell_type": "markdown",
   "metadata": {},
   "source": [
    "\n",
    "# Introducción a NumPy"
   ]
  },
  {
   "cell_type": "markdown",
   "metadata": {
    "collapsed": true
   },
   "source": [
    "## 0. Links últiles:\n",
    "\n",
    "https://docs.scipy.org/doc/numpy-dev/user/quickstart.html\n",
    "\n",
    "http://www.scipy-lectures.org/intro/numpy/index.html"
   ]
  },
  {
   "cell_type": "markdown",
   "metadata": {},
   "source": [
    "## 1. Introducción"
   ]
  },
  {
   "cell_type": "markdown",
   "metadata": {},
   "source": [
    "Habíamos visto que se pueden hacer 'secuencias' de elementos 1D, 2D, etc, a través de listas (o tuplas)"
   ]
  },
  {
   "cell_type": "code",
   "execution_count": 3,
   "metadata": {},
   "outputs": [
    {
     "name": "stdout",
     "output_type": "stream",
     "text": [
      "[[1.0, 0.0, 0.0], [0.0, 1.0, 2.0]]\n",
      "<class 'list'>\n"
     ]
    }
   ],
   "source": [
    "A =  [[ 1.0, 0.0, 0.0],[ 0.0, 1.0, 2.0]]\n",
    "\n",
    "print(A)\n",
    "print(type(A))"
   ]
  },
  {
   "cell_type": "markdown",
   "metadata": {},
   "source": [
    "Sin embargo, la biblioteca ideal para trabajar con este tipo de arreglos (arrays), es Numpy"
   ]
  },
  {
   "cell_type": "code",
   "execution_count": 7,
   "metadata": {},
   "outputs": [
    {
     "name": "stdout",
     "output_type": "stream",
     "text": [
      "[[1. 0. 0.]\n",
      " [0. 1. 2.]]\n"
     ]
    },
    {
     "data": {
      "text/plain": [
       "numpy.ndarray"
      ]
     },
     "execution_count": 7,
     "metadata": {},
     "output_type": "execute_result"
    }
   ],
   "source": [
    "import numpy as np\n",
    "\n",
    "A = np.array([[ 1.0, 0.0, 0.0], [ 0.0, 1.0, 2.0]])\n",
    "\n",
    "print(A)\n",
    "type(A)"
   ]
  },
  {
   "cell_type": "markdown",
   "metadata": {},
   "source": [
    "donde el objeto array creado, tiene varios atributos (y métodos) asociados:"
   ]
  },
  {
   "cell_type": "code",
   "execution_count": 8,
   "metadata": {},
   "outputs": [
    {
     "data": {
      "text/plain": [
       "2"
      ]
     },
     "execution_count": 8,
     "metadata": {},
     "output_type": "execute_result"
    }
   ],
   "source": [
    "A.ndim"
   ]
  },
  {
   "cell_type": "code",
   "execution_count": 9,
   "metadata": {},
   "outputs": [
    {
     "data": {
      "text/plain": [
       "(2, 3)"
      ]
     },
     "execution_count": 9,
     "metadata": {},
     "output_type": "execute_result"
    }
   ],
   "source": [
    "A.shape"
   ]
  },
  {
   "cell_type": "code",
   "execution_count": 10,
   "metadata": {},
   "outputs": [
    {
     "data": {
      "text/plain": [
       "6"
      ]
     },
     "execution_count": 10,
     "metadata": {},
     "output_type": "execute_result"
    }
   ],
   "source": [
    "A.size"
   ]
  },
  {
   "cell_type": "code",
   "execution_count": 11,
   "metadata": {},
   "outputs": [
    {
     "data": {
      "text/plain": [
       "dtype('float64')"
      ]
     },
     "execution_count": 11,
     "metadata": {},
     "output_type": "execute_result"
    }
   ],
   "source": [
    "A.dtype"
   ]
  },
  {
   "cell_type": "code",
   "execution_count": 12,
   "metadata": {},
   "outputs": [
    {
     "data": {
      "text/plain": [
       "8"
      ]
     },
     "execution_count": 12,
     "metadata": {},
     "output_type": "execute_result"
    }
   ],
   "source": [
    "A.itemsize"
   ]
  },
  {
   "cell_type": "markdown",
   "metadata": {},
   "source": [
    "Otro ejemplo (utilizando el iterador 'range' visto ateriormente):"
   ]
  },
  {
   "cell_type": "code",
   "execution_count": 13,
   "metadata": {},
   "outputs": [
    {
     "data": {
      "text/plain": [
       "array([ 0,  1,  2,  3,  4,  5,  6,  7,  8,  9, 10, 11, 12, 13, 14])"
      ]
     },
     "execution_count": 13,
     "metadata": {},
     "output_type": "execute_result"
    }
   ],
   "source": [
    "B = np.array(range(15))\n",
    "B"
   ]
  },
  {
   "cell_type": "code",
   "execution_count": 14,
   "metadata": {},
   "outputs": [
    {
     "data": {
      "text/plain": [
       "array([[ 0,  1,  2,  3,  4],\n",
       "       [ 5,  6,  7,  8,  9],\n",
       "       [10, 11, 12, 13, 14]])"
      ]
     },
     "execution_count": 14,
     "metadata": {},
     "output_type": "execute_result"
    }
   ],
   "source": [
    "B = B.reshape(3, 5)\n",
    "B"
   ]
  },
  {
   "cell_type": "code",
   "execution_count": 15,
   "metadata": {},
   "outputs": [
    {
     "name": "stdout",
     "output_type": "stream",
     "text": [
      "Cantidad de filas y columnas:  (3, 5)\n",
      "Dimensiones:  2\n",
      "Tipo de datos:  int32\n",
      "Cantidad de bytes por item:  4\n",
      "Cantidad de elementos en el array:  15\n"
     ]
    },
    {
     "data": {
      "text/plain": [
       "numpy.ndarray"
      ]
     },
     "execution_count": 15,
     "metadata": {},
     "output_type": "execute_result"
    }
   ],
   "source": [
    "print('Cantidad de filas y columnas: ', B.shape)\n",
    "\n",
    "print('Dimensiones: ', B.ndim)\n",
    "\n",
    "print('Tipo de datos: ', B.dtype.name)\n",
    "\n",
    "print('Cantidad de bytes por item: ', B.itemsize)\n",
    "\n",
    "print('Cantidad de elementos en el array: ', B.size)\n",
    "\n",
    "type(B)\n",
    "\n"
   ]
  },
  {
   "cell_type": "markdown",
   "metadata": {},
   "source": [
    "### 1.1 Creación de arrays"
   ]
  },
  {
   "cell_type": "markdown",
   "metadata": {},
   "source": [
    "Un error común es tratar de crear el array con una secuencia de números, en lugar de usar una lista o una tupla"
   ]
  },
  {
   "cell_type": "code",
   "execution_count": 5,
   "metadata": {},
   "outputs": [
    {
     "ename": "ValueError",
     "evalue": "only 2 non-keyword arguments accepted",
     "output_type": "error",
     "traceback": [
      "\u001b[1;31m---------------------------------------------------------------------------\u001b[0m",
      "\u001b[1;31mValueError\u001b[0m                                Traceback (most recent call last)",
      "\u001b[1;32m<ipython-input-5-d53882c985ff>\u001b[0m in \u001b[0;36m<module>\u001b[1;34m\u001b[0m\n\u001b[1;32m----> 1\u001b[1;33m \u001b[0mC\u001b[0m \u001b[1;33m=\u001b[0m \u001b[0mnp\u001b[0m\u001b[1;33m.\u001b[0m\u001b[0marray\u001b[0m\u001b[1;33m(\u001b[0m\u001b[1;36m1\u001b[0m\u001b[1;33m,\u001b[0m\u001b[1;36m2\u001b[0m\u001b[1;33m,\u001b[0m\u001b[1;36m3\u001b[0m\u001b[1;33m,\u001b[0m\u001b[1;36m4\u001b[0m\u001b[1;33m)\u001b[0m    \u001b[1;31m# <---No\u001b[0m\u001b[1;33m\u001b[0m\u001b[1;33m\u001b[0m\u001b[0m\n\u001b[0m",
      "\u001b[1;31mValueError\u001b[0m: only 2 non-keyword arguments accepted"
     ]
    }
   ],
   "source": [
    "C = np.array(1,2,3,4)    # <---No\n"
   ]
  },
  {
   "cell_type": "code",
   "execution_count": 6,
   "metadata": {},
   "outputs": [
    {
     "name": "stdout",
     "output_type": "stream",
     "text": [
      "<class 'numpy.ndarray'>\n",
      "<class 'numpy.ndarray'>\n"
     ]
    }
   ],
   "source": [
    "C = np.array([1,2,3,4])  # <---Si\n",
    "print(type(C))\n",
    "D = np.array((1,2,3,4))  # <---Si\n",
    "print(type(D))"
   ]
  },
  {
   "cell_type": "markdown",
   "metadata": {},
   "source": [
    "Con np.array() podemos transformar listas (o tuplas) en arrays 1D, listas de listas en arrays 2D, listas de listas de listas en arrays 3D, etc.."
   ]
  },
  {
   "cell_type": "code",
   "execution_count": 10,
   "metadata": {},
   "outputs": [
    {
     "name": "stdout",
     "output_type": "stream",
     "text": [
      "(5,)\n",
      "(3,)\n",
      "(2,)\n"
     ]
    }
   ],
   "source": [
    "C = np.array([1,2,3,4,'j'])\n",
    "\n",
    "print(C.shape)\n",
    "\n",
    "E = np.array([[1,2,3,4], [1,2,3,4],'l'])\n",
    "\n",
    "print(E.shape)\n",
    "\n",
    "F = np.array([[[1,2,3,4], [1,2,3,4],'k'], [['k',1,2,3,4], [1,2,3,4]]])\n",
    "\n",
    "print(F.shape)"
   ]
  },
  {
   "cell_type": "markdown",
   "metadata": {},
   "source": [
    "También se puede definir el tipo al momento de creear el array"
   ]
  },
  {
   "cell_type": "code",
   "execution_count": 11,
   "metadata": {},
   "outputs": [
    {
     "data": {
      "text/plain": [
       "dtype('float64')"
      ]
     },
     "execution_count": 11,
     "metadata": {},
     "output_type": "execute_result"
    }
   ],
   "source": [
    "D = np.array([[1,2], [3,4]], dtype=np.float64)\n",
    "D.dtype"
   ]
  },
  {
   "cell_type": "markdown",
   "metadata": {},
   "source": [
    "o se puede hacer un cast luego de creado"
   ]
  },
  {
   "cell_type": "code",
   "execution_count": 12,
   "metadata": {},
   "outputs": [
    {
     "data": {
      "text/plain": [
       "dtype('int32')"
      ]
     },
     "execution_count": 12,
     "metadata": {},
     "output_type": "execute_result"
    }
   ],
   "source": [
    "D = D.astype(np.int32)\n",
    "D.dtype"
   ]
  },
  {
   "cell_type": "markdown",
   "metadata": {},
   "source": [
    "Pre-inicialización de arrays (alloc)"
   ]
  },
  {
   "cell_type": "code",
   "execution_count": 29,
   "metadata": {},
   "outputs": [
    {
     "name": "stdout",
     "output_type": "stream",
     "text": [
      "[[0. 0. 0. 0.]\n",
      " [0. 0. 0. 0.]\n",
      " [0. 0. 0. 0.]]\n",
      "[[1 1 1 1]\n",
      " [1 1 1 1]\n",
      " [1 1 1 1]]\n",
      "[[0. 0. 0. 0.]\n",
      " [0. 0. 0. 0.]\n",
      " [0. 0. 0. 0.]]\n"
     ]
    }
   ],
   "source": [
    "A = np.zeros((3,4))\n",
    "print(A)\n",
    "\n",
    "B = np.ones((3,4), dtype = np.int16) # se puede especificar el tipo\n",
    "print(B)\n",
    "\n",
    "C = np.empty((3,4)) # sin inicializar a un valor (el resultado puede variar)\n",
    "print(C)"
   ]
  },
  {
   "cell_type": "markdown",
   "metadata": {},
   "source": [
    "Con \"np.arange\", se puede crear secuencias de números, al estilo de 'range', pero devolviendo directamente un array:"
   ]
  },
  {
   "cell_type": "code",
   "execution_count": 36,
   "metadata": {},
   "outputs": [
    {
     "name": "stdout",
     "output_type": "stream",
     "text": [
      "[13 18 23 28]\n",
      "<class 'numpy.ndarray'>\n",
      "[10 15 20 25]\n",
      "<class 'numpy.ndarray'>\n",
      "[0.  0.3 0.6 0.9 1.2 1.5 1.8]\n"
     ]
    }
   ],
   "source": [
    "A1=np.array(range(13,30,5))\n",
    "print(A1)\n",
    "print(type(A1))\n",
    "\n",
    "A = np.arange( 10, 30, 5 )\n",
    "print(A)\n",
    "print(type(A))\n",
    "\n",
    "B = np.arange( 0, 2, 0.3 ) \n",
    "print(B)"
   ]
  },
  {
   "cell_type": "markdown",
   "metadata": {},
   "source": [
    "Cuando se utiliza 'arange' con argumentos de punto flotante, generalmente no es posible predecir la cantidad de elementos obtenidos, debido a la precisión finita del punto flotante. Por esta razón, usualmente es mejor usar la función 'linspace' que recibe como argumento la cantidad de elementos que queremos, en lugar del paso:"
   ]
  },
  {
   "cell_type": "code",
   "execution_count": 37,
   "metadata": {},
   "outputs": [
    {
     "data": {
      "text/plain": [
       "array([0.  , 0.25, 0.5 , 0.75, 1.  , 1.25, 1.5 , 1.75, 2.  ])"
      ]
     },
     "execution_count": 37,
     "metadata": {},
     "output_type": "execute_result"
    }
   ],
   "source": [
    "np.linspace( 0, 2, 9 )                 # nueve números de 0 a 2"
   ]
  },
  {
   "cell_type": "code",
   "execution_count": 41,
   "metadata": {},
   "outputs": [],
   "source": [
    "x = np.linspace( 0, 2*np.pi, 50 )       # util para evaluar funciones en muchos puntos\n",
    "f = np.sin(x)"
   ]
  },
  {
   "cell_type": "code",
   "execution_count": 44,
   "metadata": {},
   "outputs": [
    {
     "data": {
      "image/png": "[encoded data removed]",
      "text/plain": [
       "<Figure size 432x288 with 1 Axes>"
      ]
     },
     "metadata": {
      "needs_background": "light"
     },
     "output_type": "display_data"
    }
   ],
   "source": [
    "import matplotlib.pyplot as plt\n",
    "\n",
    "plt.figure()\n",
    "plt.plot(x, f, 'r+')\n",
    "plt.show()"
   ]
  },
  {
   "cell_type": "markdown",
   "metadata": {},
   "source": [
    "### 1.2 Imprimiendo arrays\n",
    "\n",
    "Cuando imprime una matriz, NumPy la muestra de forma similar a las listas anidadas, pero con la siguiente distribución:\n",
    "\n",
    "* el último eje se imprime de izquierda a derecha,\n",
    "* el penúltimo se imprime de arriba abajo,\n",
    "* El resto también se imprime de arriba a abajo, con cada corte separado del siguiente por una línea vacía.\n",
    "\n",
    "Las matrices unidimensionales se imprimen entonces como filas, bidimensionales como matrices y tridimensionales como listas de matrices."
   ]
  },
  {
   "cell_type": "code",
   "execution_count": 45,
   "metadata": {},
   "outputs": [
    {
     "name": "stdout",
     "output_type": "stream",
     "text": [
      "[0 1 2 3 4 5]\n",
      "[[ 0  1  2]\n",
      " [ 3  4  5]\n",
      " [ 6  7  8]\n",
      " [ 9 10 11]]\n",
      "[[[ 0  1  2  3]\n",
      "  [ 4  5  6  7]\n",
      "  [ 8  9 10 11]]\n",
      "\n",
      " [[12 13 14 15]\n",
      "  [16 17 18 19]\n",
      "  [20 21 22 23]]]\n"
     ]
    }
   ],
   "source": [
    "a = np.arange(6)                         # array 1d \n",
    "print(a)\n",
    "\n",
    "\n",
    "b = np.arange(12).reshape(4,3)           # array 2d \n",
    "print(b)\n",
    "\n",
    "\n",
    "c = np.arange(24).reshape(2,3,4)         # array 3d \n",
    "print(c)\n"
   ]
  },
  {
   "cell_type": "markdown",
   "metadata": {},
   "source": [
    "Si un array es demasiado grande para ser impresa, NumPy omite automáticamente la parte central del array y solo imprime las esquinas:"
   ]
  },
  {
   "cell_type": "code",
   "execution_count": 46,
   "metadata": {},
   "outputs": [
    {
     "name": "stdout",
     "output_type": "stream",
     "text": [
      "[0.000e+00 1.000e-02 2.000e-02 ... 9.997e+01 9.998e+01 9.999e+01]\n"
     ]
    }
   ],
   "source": [
    "F = np.arange(0, 100, 0.01)\n",
    "print(F)"
   ]
  },
  {
   "cell_type": "code",
   "execution_count": 47,
   "metadata": {},
   "outputs": [
    {
     "name": "stdout",
     "output_type": "stream",
     "text": [
      "[[0.000e+00 1.000e-02 2.000e-02 ... 9.700e-01 9.800e-01 9.900e-01]\n",
      " [1.000e+00 1.010e+00 1.020e+00 ... 1.970e+00 1.980e+00 1.990e+00]\n",
      " [2.000e+00 2.010e+00 2.020e+00 ... 2.970e+00 2.980e+00 2.990e+00]\n",
      " ...\n",
      " [9.700e+01 9.701e+01 9.702e+01 ... 9.797e+01 9.798e+01 9.799e+01]\n",
      " [9.800e+01 9.801e+01 9.802e+01 ... 9.897e+01 9.898e+01 9.899e+01]\n",
      " [9.900e+01 9.901e+01 9.902e+01 ... 9.997e+01 9.998e+01 9.999e+01]]\n"
     ]
    }
   ],
   "source": [
    "print(F.reshape(100,100))"
   ]
  },
  {
   "cell_type": "markdown",
   "metadata": {},
   "source": [
    "Se puede forzar a que imprima todo, haciendo:"
   ]
  },
  {
   "cell_type": "code",
   "execution_count": 51,
   "metadata": {},
   "outputs": [],
   "source": [
    "np.set_printoptions(threshold=np.inf) #<--- threshold es la cantidad de elementos que acepta imprimir sin truncar"
   ]
  },
  {
   "cell_type": "code",
   "execution_count": 52,
   "metadata": {},
   "outputs": [
    {
     "name": "stdout",
     "output_type": "stream",
     "text": [
      "[0.000e+00 1.000e-02 2.000e-02 3.000e-02 4.000e-02 5.000e-02 6.000e-02\n",
      " 7.000e-02 8.000e-02 9.000e-02 1.000e-01 1.100e-01 1.200e-01 1.300e-01\n",
      " 1.400e-01 1.500e-01 1.600e-01 1.700e-01 1.800e-01 1.900e-01 2.000e-01\n",
      " 2.100e-01 2.200e-01 2.300e-01 2.400e-01 2.500e-01 2.600e-01 2.700e-01\n",
      " 2.800e-01 2.900e-01 3.000e-01 3.100e-01 3.200e-01 3.300e-01 3.400e-01\n",
      " 3.500e-01 3.600e-01 3.700e-01 3.800e-01 3.900e-01 4.000e-01 4.100e-01\n",
      " 4.200e-01 4.300e-01 4.400e-01 4.500e-01 4.600e-01 4.700e-01 4.800e-01\n",
      " 4.900e-01 5.000e-01 5.100e-01 5.200e-01 5.300e-01 5.400e-01 5.500e-01\n",
      " 5.600e-01 5.700e-01 5.800e-01 5.900e-01 6.000e-01 6.100e-01 6.200e-01\n",
      " 6.300e-01 6.400e-01 6.500e-01 6.600e-01 6.700e-01 6.800e-01 6.900e-01\n",
      " 7.000e-01 7.100e-01 7.200e-01 7.300e-01 7.400e-01 7.500e-01 7.600e-01\n",
      " 7.700e-01 7.800e-01 7.900e-01 8.000e-01 8.100e-01 8.200e-01 8.300e-01\n",
      " 8.400e-01 8.500e-01 8.600e-01 8.700e-01 8.800e-01 8.900e-01 9.000e-01\n",
      " 9.100e-01 9.200e-01 9.300e-01 9.400e-01 9.500e-01 9.600e-01 9.700e-01\n",
      " 9.800e-01 9.900e-01 1.000e+00 1.010e+00 1.020e+00 1.030e+00 1.040e+00\n",
      " 1.050e+00 1.060e+00 1.070e+00 1.080e+00 1.090e+00 1.100e+00 1.110e+00\n",
      " 1.120e+00 1.130e+00 1.140e+00 1.150e+00 1.160e+00 1.170e+00 1.180e+00\n",
      " 1.190e+00 1.200e+00 1.210e+00 1.220e+00 1.230e+00 1.240e+00 1.250e+00\n",
      " 1.260e+00 1.270e+00 1.280e+00 1.290e+00 1.300e+00 1.310e+00 1.320e+00\n",
      " 1.330e+00 1.340e+00 1.350e+00 1.360e+00 1.370e+00 1.380e+00 1.390e+00\n",
      " 1.400e+00 1.410e+00 1.420e+00 1.430e+00 1.440e+00 1.450e+00 1.460e+00\n",
      " 1.470e+00 1.480e+00 1.490e+00 1.500e+00 1.510e+00 1.520e+00 1.530e+00\n",
      " 1.540e+00 1.550e+00 1.560e+00 1.570e+00 1.580e+00 1.590e+00 1.600e+00\n",
      " 1.610e+00 1.620e+00 1.630e+00 1.640e+00 1.650e+00 1.660e+00 1.670e+00\n",
      " 1.680e+00 1.690e+00 1.700e+00 1.710e+00 1.720e+00 1.730e+00 1.740e+00\n",
      " 1.750e+00 1.760e+00 1.770e+00 1.780e+00 1.790e+00 1.800e+00 1.810e+00\n",
      " 1.820e+00 1.830e+00 1.840e+00 1.850e+00 1.860e+00 1.870e+00 1.880e+00\n",
      " 1.890e+00 1.900e+00 1.910e+00 1.920e+00 1.930e+00 1.940e+00 1.950e+00\n",
      " 1.960e+00 1.970e+00 1.980e+00 1.990e+00 2.000e+00 2.010e+00 2.020e+00\n",
      " 2.030e+00 2.040e+00 2.050e+00 2.060e+00 2.070e+00 2.080e+00 2.090e+00\n",
      " 2.100e+00 2.110e+00 2.120e+00 2.130e+00 2.140e+00 2.150e+00 2.160e+00\n",
      " 2.170e+00 2.180e+00 2.190e+00 2.200e+00 2.210e+00 2.220e+00 2.230e+00\n",
      " 2.240e+00 2.250e+00 2.260e+00 2.270e+00 2.280e+00 2.290e+00 2.300e+00\n",
      " 2.310e+00 2.320e+00 2.330e+00 2.340e+00 2.350e+00 2.360e+00 2.370e+00\n",
      " 2.380e+00 2.390e+00 2.400e+00 2.410e+00 2.420e+00 2.430e+00 2.440e+00\n",
      " 2.450e+00 2.460e+00 2.470e+00 2.480e+00 2.490e+00 2.500e+00 2.510e+00\n",
      " 2.520e+00 2.530e+00 2.540e+00 2.550e+00 2.560e+00 2.570e+00 2.580e+00\n",
      " 2.590e+00 2.600e+00 2.610e+00 2.620e+00 2.630e+00 2.640e+00 2.650e+00\n",
      " 2.660e+00 2.670e+00 2.680e+00 2.690e+00 2.700e+00 2.710e+00 2.720e+00\n",
      " 2.730e+00 2.740e+00 2.750e+00 2.760e+00 2.770e+00 2.780e+00 2.790e+00\n",
      " 2.800e+00 2.810e+00 2.820e+00 2.830e+00 2.840e+00 2.850e+00 2.860e+00\n",
      " 2.870e+00 2.880e+00 2.890e+00 2.900e+00 2.910e+00 2.920e+00 2.930e+00\n",
      " 2.940e+00 2.950e+00 2.960e+00 2.970e+00 2.980e+00 2.990e+00 3.000e+00\n",
      " 3.010e+00 3.020e+00 3.030e+00 3.040e+00 3.050e+00 3.060e+00 3.070e+00\n",
      " 3.080e+00 3.090e+00 3.100e+00 3.110e+00 3.120e+00 3.130e+00 3.140e+00\n",
      " 3.150e+00 3.160e+00 3.170e+00 3.180e+00 3.190e+00 3.200e+00 3.210e+00\n",
      " 3.220e+00 3.230e+00 3.240e+00 3.250e+00 3.260e+00 3.270e+00 3.280e+00\n",
      " 3.290e+00 3.300e+00 3.310e+00 3.320e+00 3.330e+00 3.340e+00 3.350e+00\n",
      " 3.360e+00 3.370e+00 3.380e+00 3.390e+00 3.400e+00 3.410e+00 3.420e+00\n",
      " 3.430e+00 3.440e+00 3.450e+00 3.460e+00 3.470e+00 3.480e+00 3.490e+00\n",
      " 3.500e+00 3.510e+00 3.520e+00 3.530e+00 3.540e+00 3.550e+00 3.560e+00\n",
      " 3.570e+00 3.580e+00 3.590e+00 3.600e+00 3.610e+00 3.620e+00 3.630e+00\n",
      " 3.640e+00 3.650e+00 3.660e+00 3.670e+00 3.680e+00 3.690e+00 3.700e+00\n",
      " 3.710e+00 3.720e+00 3.730e+00 3.740e+00 3.750e+00 3.760e+00 3.770e+00\n",
      " 3.780e+00 3.790e+00 3.800e+00 3.810e+00 3.820e+00 3.830e+00 3.840e+00\n",
      " 3.850e+00 3.860e+00 3.870e+00 3.880e+00 3.890e+00 3.900e+00 3.910e+00\n",
      " 3.920e+00 3.930e+00 3.940e+00 3.950e+00 3.960e+00 3.970e+00 3.980e+00\n",
      " 3.990e+00 4.000e+00 4.010e+00 4.020e+00 4.030e+00 4.040e+00 4.050e+00\n",
      " 4.060e+00 4.070e+00 4.080e+00 4.090e+00 4.100e+00 4.110e+00 4.120e+00\n",
      " 4.130e+00 4.140e+00 4.150e+00 4.160e+00 4.170e+00 4.180e+00 4.190e+00\n",
      " 4.200e+00 4.210e+00 4.220e+00 4.230e+00 4.240e+00 4.250e+00 4.260e+00\n",
      " 4.270e+00 4.280e+00 4.290e+00 4.300e+00 4.310e+00 4.320e+00 4.330e+00\n",
      " 4.340e+00 4.350e+00 4.360e+00 4.370e+00 4.380e+00 4.390e+00 4.400e+00\n",
      " 4.410e+00 4.420e+00 4.430e+00 4.440e+00 4.450e+00 4.460e+00 4.470e+00\n",
      " 4.480e+00 4.490e+00 4.500e+00 4.510e+00 4.520e+00 4.530e+00 4.540e+00\n",
      " 4.550e+00 4.560e+00 4.570e+00 4.580e+00 4.590e+00 4.600e+00 4.610e+00\n",
      " 4.620e+00 4.630e+00 4.640e+00 4.650e+00 4.660e+00 4.670e+00 4.680e+00\n",
      " 4.690e+00 4.700e+00 4.710e+00 4.720e+00 4.730e+00 4.740e+00 4.750e+00\n",
      " 4.760e+00 4.770e+00 4.780e+00 4.790e+00 4.800e+00 4.810e+00 4.820e+00\n",
      " 4.830e+00 4.840e+00 4.850e+00 4.860e+00 4.870e+00 4.880e+00 4.890e+00\n",
      " 4.900e+00 4.910e+00 4.920e+00 4.930e+00 4.940e+00 4.950e+00 4.960e+00\n",
      " 4.970e+00 4.980e+00 4.990e+00 5.000e+00 5.010e+00 5.020e+00 5.030e+00\n",
      " 5.040e+00 5.050e+00 5.060e+00 5.070e+00 5.080e+00 5.090e+00 5.100e+00\n",
      " 5.110e+00 5.120e+00 5.130e+00 5.140e+00 5.150e+00 5.160e+00 5.170e+00\n",
      " 5.180e+00 5.190e+00 5.200e+00 5.210e+00 5.220e+00 5.230e+00 5.240e+00\n",
      " 5.250e+00 5.260e+00 5.270e+00 5.280e+00 5.290e+00 5.300e+00 5.310e+00\n",
      " 5.320e+00 5.330e+00 5.340e+00 5.350e+00 5.360e+00 5.370e+00 5.380e+00\n",
      " 5.390e+00 5.400e+00 5.410e+00 5.420e+00 5.430e+00 5.440e+00 5.450e+00\n",
      " 5.460e+00 5.470e+00 5.480e+00 5.490e+00 5.500e+00 5.510e+00 5.520e+00\n",
      " 5.530e+00 5.540e+00 5.550e+00 5.560e+00 5.570e+00 5.580e+00 5.590e+00\n",
      " 5.600e+00 5.610e+00 5.620e+00 5.630e+00 5.640e+00 5.650e+00 5.660e+00\n",
      " 5.670e+00 5.680e+00 5.690e+00 5.700e+00 5.710e+00 5.720e+00 5.730e+00\n",
      " 5.740e+00 5.750e+00 5.760e+00 5.770e+00 5.780e+00 5.790e+00 5.800e+00\n",
      " 5.810e+00 5.820e+00 5.830e+00 5.840e+00 5.850e+00 5.860e+00 5.870e+00\n",
      " 5.880e+00 5.890e+00 5.900e+00 5.910e+00 5.920e+00 5.930e+00 5.940e+00\n",
      " 5.950e+00 5.960e+00 5.970e+00 5.980e+00 5.990e+00 6.000e+00 6.010e+00\n",
      " 6.020e+00 6.030e+00 6.040e+00 6.050e+00 6.060e+00 6.070e+00 6.080e+00\n",
      " 6.090e+00 6.100e+00 6.110e+00 6.120e+00 6.130e+00 6.140e+00 6.150e+00\n",
      " 6.160e+00 6.170e+00 6.180e+00 6.190e+00 6.200e+00 6.210e+00 6.220e+00\n",
      " 6.230e+00 6.240e+00 6.250e+00 6.260e+00 6.270e+00 6.280e+00 6.290e+00\n",
      " 6.300e+00 6.310e+00 6.320e+00 6.330e+00 6.340e+00 6.350e+00 6.360e+00\n",
      " 6.370e+00 6.380e+00 6.390e+00 6.400e+00 6.410e+00 6.420e+00 6.430e+00\n",
      " 6.440e+00 6.450e+00 6.460e+00 6.470e+00 6.480e+00 6.490e+00 6.500e+00\n",
      " 6.510e+00 6.520e+00 6.530e+00 6.540e+00 6.550e+00 6.560e+00 6.570e+00\n",
      " 6.580e+00 6.590e+00 6.600e+00 6.610e+00 6.620e+00 6.630e+00 6.640e+00\n",
      " 6.650e+00 6.660e+00 6.670e+00 6.680e+00 6.690e+00 6.700e+00 6.710e+00\n",
      " 6.720e+00 6.730e+00 6.740e+00 6.750e+00 6.760e+00 6.770e+00 6.780e+00\n",
      " 6.790e+00 6.800e+00 6.810e+00 6.820e+00 6.830e+00 6.840e+00 6.850e+00\n",
      " 6.860e+00 6.870e+00 6.880e+00 6.890e+00 6.900e+00 6.910e+00 6.920e+00\n",
      " 6.930e+00 6.940e+00 6.950e+00 6.960e+00 6.970e+00 6.980e+00 6.990e+00\n",
      " 7.000e+00 7.010e+00 7.020e+00 7.030e+00 7.040e+00 7.050e+00 7.060e+00\n",
      " 7.070e+00 7.080e+00 7.090e+00 7.100e+00 7.110e+00 7.120e+00 7.130e+00\n",
      " 7.140e+00 7.150e+00 7.160e+00 7.170e+00 7.180e+00 7.190e+00 7.200e+00\n",
      " 7.210e+00 7.220e+00 7.230e+00 7.240e+00 7.250e+00 7.260e+00 7.270e+00\n",
      " 7.280e+00 7.290e+00 7.300e+00 7.310e+00 7.320e+00 7.330e+00 7.340e+00\n",
      " 7.350e+00 7.360e+00 7.370e+00 7.380e+00 7.390e+00 7.400e+00 7.410e+00\n",
      " 7.420e+00 7.430e+00 7.440e+00 7.450e+00 7.460e+00 7.470e+00 7.480e+00\n",
      " 7.490e+00 7.500e+00 7.510e+00 7.520e+00 7.530e+00 7.540e+00 7.550e+00\n",
      " 7.560e+00 7.570e+00 7.580e+00 7.590e+00 7.600e+00 7.610e+00 7.620e+00\n",
      " 7.630e+00 7.640e+00 7.650e+00 7.660e+00 7.670e+00 7.680e+00 7.690e+00\n",
      " 7.700e+00 7.710e+00 7.720e+00 7.730e+00 7.740e+00 7.750e+00 7.760e+00\n",
      " 7.770e+00 7.780e+00 7.790e+00 7.800e+00 7.810e+00 7.820e+00 7.830e+00\n",
      " 7.840e+00 7.850e+00 7.860e+00 7.870e+00 7.880e+00 7.890e+00 7.900e+00\n",
      " 7.910e+00 7.920e+00 7.930e+00 7.940e+00 7.950e+00 7.960e+00 7.970e+00\n",
      " 7.980e+00 7.990e+00 8.000e+00 8.010e+00 8.020e+00 8.030e+00 8.040e+00\n",
      " 8.050e+00 8.060e+00 8.070e+00 8.080e+00 8.090e+00 8.100e+00 8.110e+00\n",
      " 8.120e+00 8.130e+00 8.140e+00 8.150e+00 8.160e+00 8.170e+00 8.180e+00\n",
      " 8.190e+00 8.200e+00 8.210e+00 8.220e+00 8.230e+00 8.240e+00 8.250e+00\n",
      " 8.260e+00 8.270e+00 8.280e+00 8.290e+00 8.300e+00 8.310e+00 8.320e+00\n",
      " 8.330e+00 8.340e+00 8.350e+00 8.360e+00 8.370e+00 8.380e+00 8.390e+00\n",
      " 8.400e+00 8.410e+00 8.420e+00 8.430e+00 8.440e+00 8.450e+00 8.460e+00\n",
      " 8.470e+00 8.480e+00 8.490e+00 8.500e+00 8.510e+00 8.520e+00 8.530e+00\n",
      " 8.540e+00 8.550e+00 8.560e+00 8.570e+00 8.580e+00 8.590e+00 8.600e+00\n",
      " 8.610e+00 8.620e+00 8.630e+00 8.640e+00 8.650e+00 8.660e+00 8.670e+00\n",
      " 8.680e+00 8.690e+00 8.700e+00 8.710e+00 8.720e+00 8.730e+00 8.740e+00\n",
      " 8.750e+00 8.760e+00 8.770e+00 8.780e+00 8.790e+00 8.800e+00 8.810e+00\n",
      " 8.820e+00 8.830e+00 8.840e+00 8.850e+00 8.860e+00 8.870e+00 8.880e+00\n",
      " 8.890e+00 8.900e+00 8.910e+00 8.920e+00 8.930e+00 8.940e+00 8.950e+00\n",
      " 8.960e+00 8.970e+00 8.980e+00 8.990e+00 9.000e+00 9.010e+00 9.020e+00\n",
      " 9.030e+00 9.040e+00 9.050e+00 9.060e+00 9.070e+00 9.080e+00 9.090e+00\n",
      " 9.100e+00 9.110e+00 9.120e+00 9.130e+00 9.140e+00 9.150e+00 9.160e+00\n",
      " 9.170e+00 9.180e+00 9.190e+00 9.200e+00 9.210e+00 9.220e+00 9.230e+00\n",
      " 9.240e+00 9.250e+00 9.260e+00 9.270e+00 9.280e+00 9.290e+00 9.300e+00\n",
      " 9.310e+00 9.320e+00 9.330e+00 9.340e+00 9.350e+00 9.360e+00 9.370e+00\n",
      " 9.380e+00 9.390e+00 9.400e+00 9.410e+00 9.420e+00 9.430e+00 9.440e+00\n",
      " 9.450e+00 9.460e+00 9.470e+00 9.480e+00 9.490e+00 9.500e+00 9.510e+00\n",
      " 9.520e+00 9.530e+00 9.540e+00 9.550e+00 9.560e+00 9.570e+00 9.580e+00\n",
      " 9.590e+00 9.600e+00 9.610e+00 9.620e+00 9.630e+00 9.640e+00 9.650e+00\n",
      " 9.660e+00 9.670e+00 9.680e+00 9.690e+00 9.700e+00 9.710e+00 9.720e+00\n",
      " 9.730e+00 9.740e+00 9.750e+00 9.760e+00 9.770e+00 9.780e+00 9.790e+00\n",
      " 9.800e+00 9.810e+00 9.820e+00 9.830e+00 9.840e+00 9.850e+00 9.860e+00\n",
      " 9.870e+00 9.880e+00 9.890e+00 9.900e+00 9.910e+00 9.920e+00 9.930e+00\n",
      " 9.940e+00 9.950e+00 9.960e+00 9.970e+00 9.980e+00 9.990e+00 1.000e+01\n",
      " 1.001e+01 1.002e+01 1.003e+01 1.004e+01 1.005e+01 1.006e+01 1.007e+01\n",
      " 1.008e+01 1.009e+01 1.010e+01 1.011e+01 1.012e+01 1.013e+01 1.014e+01\n",
      " 1.015e+01 1.016e+01 1.017e+01 1.018e+01 1.019e+01 1.020e+01 1.021e+01\n",
      " 1.022e+01 1.023e+01 1.024e+01 1.025e+01 1.026e+01 1.027e+01 1.028e+01\n",
      " 1.029e+01 1.030e+01 1.031e+01 1.032e+01 1.033e+01 1.034e+01 1.035e+01\n",
      " 1.036e+01 1.037e+01 1.038e+01 1.039e+01 1.040e+01 1.041e+01 1.042e+01\n",
      " 1.043e+01 1.044e+01 1.045e+01 1.046e+01 1.047e+01 1.048e+01 1.049e+01\n",
      " 1.050e+01 1.051e+01 1.052e+01 1.053e+01 1.054e+01 1.055e+01 1.056e+01\n",
      " 1.057e+01 1.058e+01 1.059e+01 1.060e+01 1.061e+01 1.062e+01 1.063e+01\n",
      " 1.064e+01 1.065e+01 1.066e+01 1.067e+01 1.068e+01 1.069e+01 1.070e+01\n",
      " 1.071e+01 1.072e+01 1.073e+01 1.074e+01 1.075e+01 1.076e+01 1.077e+01\n",
      " 1.078e+01 1.079e+01 1.080e+01 1.081e+01 1.082e+01 1.083e+01 1.084e+01\n",
      " 1.085e+01 1.086e+01 1.087e+01 1.088e+01 1.089e+01 1.090e+01 1.091e+01\n",
      " 1.092e+01 1.093e+01 1.094e+01 1.095e+01 1.096e+01 1.097e+01 1.098e+01\n",
      " 1.099e+01 1.100e+01 1.101e+01 1.102e+01 1.103e+01 1.104e+01 1.105e+01\n",
      " 1.106e+01 1.107e+01 1.108e+01 1.109e+01 1.110e+01 1.111e+01 1.112e+01\n",
      " 1.113e+01 1.114e+01 1.115e+01 1.116e+01 1.117e+01 1.118e+01 1.119e+01\n",
      " 1.120e+01 1.121e+01 1.122e+01 1.123e+01 1.124e+01 1.125e+01 1.126e+01\n",
      " 1.127e+01 1.128e+01 1.129e+01 1.130e+01 1.131e+01 1.132e+01 1.133e+01\n",
      " 1.134e+01 1.135e+01 1.136e+01 1.137e+01 1.138e+01 1.139e+01 1.140e+01\n",
      " 1.141e+01 1.142e+01 1.143e+01 1.144e+01 1.145e+01 1.146e+01 1.147e+01\n",
      " 1.148e+01 1.149e+01 1.150e+01 1.151e+01 1.152e+01 1.153e+01 1.154e+01\n",
      " 1.155e+01 1.156e+01 1.157e+01 1.158e+01 1.159e+01 1.160e+01 1.161e+01\n",
      " 1.162e+01 1.163e+01 1.164e+01 1.165e+01 1.166e+01 1.167e+01 1.168e+01\n",
      " 1.169e+01 1.170e+01 1.171e+01 1.172e+01 1.173e+01 1.174e+01 1.175e+01\n",
      " 1.176e+01 1.177e+01 1.178e+01 1.179e+01 1.180e+01 1.181e+01 1.182e+01\n",
      " 1.183e+01 1.184e+01 1.185e+01 1.186e+01 1.187e+01 1.188e+01 1.189e+01\n",
      " 1.190e+01 1.191e+01 1.192e+01 1.193e+01 1.194e+01 1.195e+01 1.196e+01\n",
      " 1.197e+01 1.198e+01 1.199e+01 1.200e+01 1.201e+01 1.202e+01 1.203e+01\n",
      " 1.204e+01 1.205e+01 1.206e+01 1.207e+01 1.208e+01 1.209e+01 1.210e+01\n",
      " 1.211e+01 1.212e+01 1.213e+01 1.214e+01 1.215e+01 1.216e+01 1.217e+01\n",
      " 1.218e+01 1.219e+01 1.220e+01 1.221e+01 1.222e+01 1.223e+01 1.224e+01\n",
      " 1.225e+01 1.226e+01 1.227e+01 1.228e+01 1.229e+01 1.230e+01 1.231e+01\n",
      " 1.232e+01 1.233e+01 1.234e+01 1.235e+01 1.236e+01 1.237e+01 1.238e+01\n",
      " 1.239e+01 1.240e+01 1.241e+01 1.242e+01 1.243e+01 1.244e+01 1.245e+01\n",
      " 1.246e+01 1.247e+01 1.248e+01 1.249e+01 1.250e+01 1.251e+01 1.252e+01\n",
      " 1.253e+01 1.254e+01 1.255e+01 1.256e+01 1.257e+01 1.258e+01 1.259e+01\n",
      " 1.260e+01 1.261e+01 1.262e+01 1.263e+01 1.264e+01 1.265e+01 1.266e+01\n",
      " 1.267e+01 1.268e+01 1.269e+01 1.270e+01 1.271e+01 1.272e+01 1.273e+01\n",
      " 1.274e+01 1.275e+01 1.276e+01 1.277e+01 1.278e+01 1.279e+01 1.280e+01\n",
      " 1.281e+01 1.282e+01 1.283e+01 1.284e+01 1.285e+01 1.286e+01 1.287e+01\n",
      " 1.288e+01 1.289e+01 1.290e+01 1.291e+01 1.292e+01 1.293e+01 1.294e+01\n",
      " 1.295e+01 1.296e+01 1.297e+01 1.298e+01 1.299e+01 1.300e+01 1.301e+01\n",
      " 1.302e+01 1.303e+01 1.304e+01 1.305e+01 1.306e+01 1.307e+01 1.308e+01\n",
      " 1.309e+01 1.310e+01 1.311e+01 1.312e+01 1.313e+01 1.314e+01 1.315e+01\n",
      " 1.316e+01 1.317e+01 1.318e+01 1.319e+01 1.320e+01 1.321e+01 1.322e+01\n",
      " 1.323e+01 1.324e+01 1.325e+01 1.326e+01 1.327e+01 1.328e+01 1.329e+01\n",
      " 1.330e+01 1.331e+01 1.332e+01 1.333e+01 1.334e+01 1.335e+01 1.336e+01\n",
      " 1.337e+01 1.338e+01 1.339e+01 1.340e+01 1.341e+01 1.342e+01 1.343e+01\n",
      " 1.344e+01 1.345e+01 1.346e+01 1.347e+01 1.348e+01 1.349e+01 1.350e+01\n",
      " 1.351e+01 1.352e+01 1.353e+01 1.354e+01 1.355e+01 1.356e+01 1.357e+01\n",
      " 1.358e+01 1.359e+01 1.360e+01 1.361e+01 1.362e+01 1.363e+01 1.364e+01\n",
      " 1.365e+01 1.366e+01 1.367e+01 1.368e+01 1.369e+01 1.370e+01 1.371e+01\n",
      " 1.372e+01 1.373e+01 1.374e+01 1.375e+01 1.376e+01 1.377e+01 1.378e+01\n",
      " 1.379e+01 1.380e+01 1.381e+01 1.382e+01 1.383e+01 1.384e+01 1.385e+01\n",
      " 1.386e+01 1.387e+01 1.388e+01 1.389e+01 1.390e+01 1.391e+01 1.392e+01\n",
      " 1.393e+01 1.394e+01 1.395e+01 1.396e+01 1.397e+01 1.398e+01 1.399e+01\n",
      " 1.400e+01 1.401e+01 1.402e+01 1.403e+01 1.404e+01 1.405e+01 1.406e+01\n",
      " 1.407e+01 1.408e+01 1.409e+01 1.410e+01 1.411e+01 1.412e+01 1.413e+01\n",
      " 1.414e+01 1.415e+01 1.416e+01 1.417e+01 1.418e+01 1.419e+01 1.420e+01\n",
      " 1.421e+01 1.422e+01 1.423e+01 1.424e+01 1.425e+01 1.426e+01 1.427e+01\n",
      " 1.428e+01 1.429e+01 1.430e+01 1.431e+01 1.432e+01 1.433e+01 1.434e+01\n",
      " 1.435e+01 1.436e+01 1.437e+01 1.438e+01 1.439e+01 1.440e+01 1.441e+01\n",
      " 1.442e+01 1.443e+01 1.444e+01 1.445e+01 1.446e+01 1.447e+01 1.448e+01\n",
      " 1.449e+01 1.450e+01 1.451e+01 1.452e+01 1.453e+01 1.454e+01 1.455e+01\n",
      " 1.456e+01 1.457e+01 1.458e+01 1.459e+01 1.460e+01 1.461e+01 1.462e+01\n",
      " 1.463e+01 1.464e+01 1.465e+01 1.466e+01 1.467e+01 1.468e+01 1.469e+01\n",
      " 1.470e+01 1.471e+01 1.472e+01 1.473e+01 1.474e+01 1.475e+01 1.476e+01\n",
      " 1.477e+01 1.478e+01 1.479e+01 1.480e+01 1.481e+01 1.482e+01 1.483e+01\n",
      " 1.484e+01 1.485e+01 1.486e+01 1.487e+01 1.488e+01 1.489e+01 1.490e+01\n",
      " 1.491e+01 1.492e+01 1.493e+01 1.494e+01 1.495e+01 1.496e+01 1.497e+01\n",
      " 1.498e+01 1.499e+01 1.500e+01 1.501e+01 1.502e+01 1.503e+01 1.504e+01\n",
      " 1.505e+01 1.506e+01 1.507e+01 1.508e+01 1.509e+01 1.510e+01 1.511e+01\n",
      " 1.512e+01 1.513e+01 1.514e+01 1.515e+01 1.516e+01 1.517e+01 1.518e+01\n",
      " 1.519e+01 1.520e+01 1.521e+01 1.522e+01 1.523e+01 1.524e+01 1.525e+01\n",
      " 1.526e+01 1.527e+01 1.528e+01 1.529e+01 1.530e+01 1.531e+01 1.532e+01\n",
      " 1.533e+01 1.534e+01 1.535e+01 1.536e+01 1.537e+01 1.538e+01 1.539e+01\n",
      " 1.540e+01 1.541e+01 1.542e+01 1.543e+01 1.544e+01 1.545e+01 1.546e+01\n",
      " 1.547e+01 1.548e+01 1.549e+01 1.550e+01 1.551e+01 1.552e+01 1.553e+01\n",
      " 1.554e+01 1.555e+01 1.556e+01 1.557e+01 1.558e+01 1.559e+01 1.560e+01\n",
      " 1.561e+01 1.562e+01 1.563e+01 1.564e+01 1.565e+01 1.566e+01 1.567e+01\n",
      " 1.568e+01 1.569e+01 1.570e+01 1.571e+01 1.572e+01 1.573e+01 1.574e+01\n",
      " 1.575e+01 1.576e+01 1.577e+01 1.578e+01 1.579e+01 1.580e+01 1.581e+01\n",
      " 1.582e+01 1.583e+01 1.584e+01 1.585e+01 1.586e+01 1.587e+01 1.588e+01\n",
      " 1.589e+01 1.590e+01 1.591e+01 1.592e+01 1.593e+01 1.594e+01 1.595e+01\n",
      " 1.596e+01 1.597e+01 1.598e+01 1.599e+01 1.600e+01 1.601e+01 1.602e+01\n",
      " 1.603e+01 1.604e+01 1.605e+01 1.606e+01 1.607e+01 1.608e+01 1.609e+01\n",
      " 1.610e+01 1.611e+01 1.612e+01 1.613e+01 1.614e+01 1.615e+01 1.616e+01\n",
      " 1.617e+01 1.618e+01 1.619e+01 1.620e+01 1.621e+01 1.622e+01 1.623e+01\n",
      " 1.624e+01 1.625e+01 1.626e+01 1.627e+01 1.628e+01 1.629e+01 1.630e+01\n",
      " 1.631e+01 1.632e+01 1.633e+01 1.634e+01 1.635e+01 1.636e+01 1.637e+01\n",
      " 1.638e+01 1.639e+01 1.640e+01 1.641e+01 1.642e+01 1.643e+01 1.644e+01\n",
      " 1.645e+01 1.646e+01 1.647e+01 1.648e+01 1.649e+01 1.650e+01 1.651e+01\n",
      " 1.652e+01 1.653e+01 1.654e+01 1.655e+01 1.656e+01 1.657e+01 1.658e+01\n",
      " 1.659e+01 1.660e+01 1.661e+01 1.662e+01 1.663e+01 1.664e+01 1.665e+01\n",
      " 1.666e+01 1.667e+01 1.668e+01 1.669e+01 1.670e+01 1.671e+01 1.672e+01\n",
      " 1.673e+01 1.674e+01 1.675e+01 1.676e+01 1.677e+01 1.678e+01 1.679e+01\n",
      " 1.680e+01 1.681e+01 1.682e+01 1.683e+01 1.684e+01 1.685e+01 1.686e+01\n",
      " 1.687e+01 1.688e+01 1.689e+01 1.690e+01 1.691e+01 1.692e+01 1.693e+01\n",
      " 1.694e+01 1.695e+01 1.696e+01 1.697e+01 1.698e+01 1.699e+01 1.700e+01\n",
      " 1.701e+01 1.702e+01 1.703e+01 1.704e+01 1.705e+01 1.706e+01 1.707e+01\n",
      " 1.708e+01 1.709e+01 1.710e+01 1.711e+01 1.712e+01 1.713e+01 1.714e+01\n",
      " 1.715e+01 1.716e+01 1.717e+01 1.718e+01 1.719e+01 1.720e+01 1.721e+01\n",
      " 1.722e+01 1.723e+01 1.724e+01 1.725e+01 1.726e+01 1.727e+01 1.728e+01\n",
      " 1.729e+01 1.730e+01 1.731e+01 1.732e+01 1.733e+01 1.734e+01 1.735e+01\n",
      " 1.736e+01 1.737e+01 1.738e+01 1.739e+01 1.740e+01 1.741e+01 1.742e+01\n",
      " 1.743e+01 1.744e+01 1.745e+01 1.746e+01 1.747e+01 1.748e+01 1.749e+01\n",
      " 1.750e+01 1.751e+01 1.752e+01 1.753e+01 1.754e+01 1.755e+01 1.756e+01\n",
      " 1.757e+01 1.758e+01 1.759e+01 1.760e+01 1.761e+01 1.762e+01 1.763e+01\n",
      " 1.764e+01 1.765e+01 1.766e+01 1.767e+01 1.768e+01 1.769e+01 1.770e+01\n",
      " 1.771e+01 1.772e+01 1.773e+01 1.774e+01 1.775e+01 1.776e+01 1.777e+01\n",
      " 1.778e+01 1.779e+01 1.780e+01 1.781e+01 1.782e+01 1.783e+01 1.784e+01\n",
      " 1.785e+01 1.786e+01 1.787e+01 1.788e+01 1.789e+01 1.790e+01 1.791e+01\n",
      " 1.792e+01 1.793e+01 1.794e+01 1.795e+01 1.796e+01 1.797e+01 1.798e+01\n",
      " 1.799e+01 1.800e+01 1.801e+01 1.802e+01 1.803e+01 1.804e+01 1.805e+01\n",
      " 1.806e+01 1.807e+01 1.808e+01 1.809e+01 1.810e+01 1.811e+01 1.812e+01\n",
      " 1.813e+01 1.814e+01 1.815e+01 1.816e+01 1.817e+01 1.818e+01 1.819e+01\n",
      " 1.820e+01 1.821e+01 1.822e+01 1.823e+01 1.824e+01 1.825e+01 1.826e+01\n",
      " 1.827e+01 1.828e+01 1.829e+01 1.830e+01 1.831e+01 1.832e+01 1.833e+01\n",
      " 1.834e+01 1.835e+01 1.836e+01 1.837e+01 1.838e+01 1.839e+01 1.840e+01\n",
      " 1.841e+01 1.842e+01 1.843e+01 1.844e+01 1.845e+01 1.846e+01 1.847e+01\n",
      " 1.848e+01 1.849e+01 1.850e+01 1.851e+01 1.852e+01 1.853e+01 1.854e+01\n",
      " 1.855e+01 1.856e+01 1.857e+01 1.858e+01 1.859e+01 1.860e+01 1.861e+01\n",
      " 1.862e+01 1.863e+01 1.864e+01 1.865e+01 1.866e+01 1.867e+01 1.868e+01\n",
      " 1.869e+01 1.870e+01 1.871e+01 1.872e+01 1.873e+01 1.874e+01 1.875e+01\n",
      " 1.876e+01 1.877e+01 1.878e+01 1.879e+01 1.880e+01 1.881e+01 1.882e+01\n",
      " 1.883e+01 1.884e+01 1.885e+01 1.886e+01 1.887e+01 1.888e+01 1.889e+01\n",
      " 1.890e+01 1.891e+01 1.892e+01 1.893e+01 1.894e+01 1.895e+01 1.896e+01\n",
      " 1.897e+01 1.898e+01 1.899e+01 1.900e+01 1.901e+01 1.902e+01 1.903e+01\n",
      " 1.904e+01 1.905e+01 1.906e+01 1.907e+01 1.908e+01 1.909e+01 1.910e+01\n",
      " 1.911e+01 1.912e+01 1.913e+01 1.914e+01 1.915e+01 1.916e+01 1.917e+01\n",
      " 1.918e+01 1.919e+01 1.920e+01 1.921e+01 1.922e+01 1.923e+01 1.924e+01\n",
      " 1.925e+01 1.926e+01 1.927e+01 1.928e+01 1.929e+01 1.930e+01 1.931e+01\n",
      " 1.932e+01 1.933e+01 1.934e+01 1.935e+01 1.936e+01 1.937e+01 1.938e+01\n",
      " 1.939e+01 1.940e+01 1.941e+01 1.942e+01 1.943e+01 1.944e+01 1.945e+01\n",
      " 1.946e+01 1.947e+01 1.948e+01 1.949e+01 1.950e+01 1.951e+01 1.952e+01\n",
      " 1.953e+01 1.954e+01 1.955e+01 1.956e+01 1.957e+01 1.958e+01 1.959e+01\n",
      " 1.960e+01 1.961e+01 1.962e+01 1.963e+01 1.964e+01 1.965e+01 1.966e+01\n",
      " 1.967e+01 1.968e+01 1.969e+01 1.970e+01 1.971e+01 1.972e+01 1.973e+01\n",
      " 1.974e+01 1.975e+01 1.976e+01 1.977e+01 1.978e+01 1.979e+01 1.980e+01\n",
      " 1.981e+01 1.982e+01 1.983e+01 1.984e+01 1.985e+01 1.986e+01 1.987e+01\n",
      " 1.988e+01 1.989e+01 1.990e+01 1.991e+01 1.992e+01 1.993e+01 1.994e+01\n",
      " 1.995e+01 1.996e+01 1.997e+01 1.998e+01 1.999e+01 2.000e+01 2.001e+01\n",
      " 2.002e+01 2.003e+01 2.004e+01 2.005e+01 2.006e+01 2.007e+01 2.008e+01\n",
      " 2.009e+01 2.010e+01 2.011e+01 2.012e+01 2.013e+01 2.014e+01 2.015e+01\n",
      " 2.016e+01 2.017e+01 2.018e+01 2.019e+01 2.020e+01 2.021e+01 2.022e+01\n",
      " 2.023e+01 2.024e+01 2.025e+01 2.026e+01 2.027e+01 2.028e+01 2.029e+01\n",
      " 2.030e+01 2.031e+01 2.032e+01 2.033e+01 2.034e+01 2.035e+01 2.036e+01\n",
      " 2.037e+01 2.038e+01 2.039e+01 2.040e+01 2.041e+01 2.042e+01 2.043e+01\n",
      " 2.044e+01 2.045e+01 2.046e+01 2.047e+01 2.048e+01 2.049e+01 2.050e+01\n",
      " 2.051e+01 2.052e+01 2.053e+01 2.054e+01 2.055e+01 2.056e+01 2.057e+01\n",
      " 2.058e+01 2.059e+01 2.060e+01 2.061e+01 2.062e+01 2.063e+01 2.064e+01\n",
      " 2.065e+01 2.066e+01 2.067e+01 2.068e+01 2.069e+01 2.070e+01 2.071e+01\n",
      " 2.072e+01 2.073e+01 2.074e+01 2.075e+01 2.076e+01 2.077e+01 2.078e+01\n",
      " 2.079e+01 2.080e+01 2.081e+01 2.082e+01 2.083e+01 2.084e+01 2.085e+01\n",
      " 2.086e+01 2.087e+01 2.088e+01 2.089e+01 2.090e+01 2.091e+01 2.092e+01\n",
      " 2.093e+01 2.094e+01 2.095e+01 2.096e+01 2.097e+01 2.098e+01 2.099e+01\n",
      " 2.100e+01 2.101e+01 2.102e+01 2.103e+01 2.104e+01 2.105e+01 2.106e+01\n",
      " 2.107e+01 2.108e+01 2.109e+01 2.110e+01 2.111e+01 2.112e+01 2.113e+01\n",
      " 2.114e+01 2.115e+01 2.116e+01 2.117e+01 2.118e+01 2.119e+01 2.120e+01\n",
      " 2.121e+01 2.122e+01 2.123e+01 2.124e+01 2.125e+01 2.126e+01 2.127e+01\n",
      " 2.128e+01 2.129e+01 2.130e+01 2.131e+01 2.132e+01 2.133e+01 2.134e+01\n",
      " 2.135e+01 2.136e+01 2.137e+01 2.138e+01 2.139e+01 2.140e+01 2.141e+01\n",
      " 2.142e+01 2.143e+01 2.144e+01 2.145e+01 2.146e+01 2.147e+01 2.148e+01\n",
      " 2.149e+01 2.150e+01 2.151e+01 2.152e+01 2.153e+01 2.154e+01 2.155e+01\n",
      " 2.156e+01 2.157e+01 2.158e+01 2.159e+01 2.160e+01 2.161e+01 2.162e+01\n",
      " 2.163e+01 2.164e+01 2.165e+01 2.166e+01 2.167e+01 2.168e+01 2.169e+01\n",
      " 2.170e+01 2.171e+01 2.172e+01 2.173e+01 2.174e+01 2.175e+01 2.176e+01\n",
      " 2.177e+01 2.178e+01 2.179e+01 2.180e+01 2.181e+01 2.182e+01 2.183e+01\n",
      " 2.184e+01 2.185e+01 2.186e+01 2.187e+01 2.188e+01 2.189e+01 2.190e+01\n",
      " 2.191e+01 2.192e+01 2.193e+01 2.194e+01 2.195e+01 2.196e+01 2.197e+01\n",
      " 2.198e+01 2.199e+01 2.200e+01 2.201e+01 2.202e+01 2.203e+01 2.204e+01\n",
      " 2.205e+01 2.206e+01 2.207e+01 2.208e+01 2.209e+01 2.210e+01 2.211e+01\n",
      " 2.212e+01 2.213e+01 2.214e+01 2.215e+01 2.216e+01 2.217e+01 2.218e+01\n",
      " 2.219e+01 2.220e+01 2.221e+01 2.222e+01 2.223e+01 2.224e+01 2.225e+01\n",
      " 2.226e+01 2.227e+01 2.228e+01 2.229e+01 2.230e+01 2.231e+01 2.232e+01\n",
      " 2.233e+01 2.234e+01 2.235e+01 2.236e+01 2.237e+01 2.238e+01 2.239e+01\n",
      " 2.240e+01 2.241e+01 2.242e+01 2.243e+01 2.244e+01 2.245e+01 2.246e+01\n",
      " 2.247e+01 2.248e+01 2.249e+01 2.250e+01 2.251e+01 2.252e+01 2.253e+01\n",
      " 2.254e+01 2.255e+01 2.256e+01 2.257e+01 2.258e+01 2.259e+01 2.260e+01\n",
      " 2.261e+01 2.262e+01 2.263e+01 2.264e+01 2.265e+01 2.266e+01 2.267e+01\n",
      " 2.268e+01 2.269e+01 2.270e+01 2.271e+01 2.272e+01 2.273e+01 2.274e+01\n",
      " 2.275e+01 2.276e+01 2.277e+01 2.278e+01 2.279e+01 2.280e+01 2.281e+01\n",
      " 2.282e+01 2.283e+01 2.284e+01 2.285e+01 2.286e+01 2.287e+01 2.288e+01\n",
      " 2.289e+01 2.290e+01 2.291e+01 2.292e+01 2.293e+01 2.294e+01 2.295e+01\n",
      " 2.296e+01 2.297e+01 2.298e+01 2.299e+01 2.300e+01 2.301e+01 2.302e+01\n",
      " 2.303e+01 2.304e+01 2.305e+01 2.306e+01 2.307e+01 2.308e+01 2.309e+01\n",
      " 2.310e+01 2.311e+01 2.312e+01 2.313e+01 2.314e+01 2.315e+01 2.316e+01\n",
      " 2.317e+01 2.318e+01 2.319e+01 2.320e+01 2.321e+01 2.322e+01 2.323e+01\n",
      " 2.324e+01 2.325e+01 2.326e+01 2.327e+01 2.328e+01 2.329e+01 2.330e+01\n",
      " 2.331e+01 2.332e+01 2.333e+01 2.334e+01 2.335e+01 2.336e+01 2.337e+01\n",
      " 2.338e+01 2.339e+01 2.340e+01 2.341e+01 2.342e+01 2.343e+01 2.344e+01\n",
      " 2.345e+01 2.346e+01 2.347e+01 2.348e+01 2.349e+01 2.350e+01 2.351e+01\n",
      " 2.352e+01 2.353e+01 2.354e+01 2.355e+01 2.356e+01 2.357e+01 2.358e+01\n",
      " 2.359e+01 2.360e+01 2.361e+01 2.362e+01 2.363e+01 2.364e+01 2.365e+01\n",
      " 2.366e+01 2.367e+01 2.368e+01 2.369e+01 2.370e+01 2.371e+01 2.372e+01\n",
      " 2.373e+01 2.374e+01 2.375e+01 2.376e+01 2.377e+01 2.378e+01 2.379e+01\n",
      " 2.380e+01 2.381e+01 2.382e+01 2.383e+01 2.384e+01 2.385e+01 2.386e+01\n",
      " 2.387e+01 2.388e+01 2.389e+01 2.390e+01 2.391e+01 2.392e+01 2.393e+01\n",
      " 2.394e+01 2.395e+01 2.396e+01 2.397e+01 2.398e+01 2.399e+01 2.400e+01\n",
      " 2.401e+01 2.402e+01 2.403e+01 2.404e+01 2.405e+01 2.406e+01 2.407e+01\n",
      " 2.408e+01 2.409e+01 2.410e+01 2.411e+01 2.412e+01 2.413e+01 2.414e+01\n",
      " 2.415e+01 2.416e+01 2.417e+01 2.418e+01 2.419e+01 2.420e+01 2.421e+01\n",
      " 2.422e+01 2.423e+01 2.424e+01 2.425e+01 2.426e+01 2.427e+01 2.428e+01\n",
      " 2.429e+01 2.430e+01 2.431e+01 2.432e+01 2.433e+01 2.434e+01 2.435e+01\n",
      " 2.436e+01 2.437e+01 2.438e+01 2.439e+01 2.440e+01 2.441e+01 2.442e+01\n",
      " 2.443e+01 2.444e+01 2.445e+01 2.446e+01 2.447e+01 2.448e+01 2.449e+01\n",
      " 2.450e+01 2.451e+01 2.452e+01 2.453e+01 2.454e+01 2.455e+01 2.456e+01\n",
      " 2.457e+01 2.458e+01 2.459e+01 2.460e+01 2.461e+01 2.462e+01 2.463e+01\n",
      " 2.464e+01 2.465e+01 2.466e+01 2.467e+01 2.468e+01 2.469e+01 2.470e+01\n",
      " 2.471e+01 2.472e+01 2.473e+01 2.474e+01 2.475e+01 2.476e+01 2.477e+01\n",
      " 2.478e+01 2.479e+01 2.480e+01 2.481e+01 2.482e+01 2.483e+01 2.484e+01\n",
      " 2.485e+01 2.486e+01 2.487e+01 2.488e+01 2.489e+01 2.490e+01 2.491e+01\n",
      " 2.492e+01 2.493e+01 2.494e+01 2.495e+01 2.496e+01 2.497e+01 2.498e+01\n",
      " 2.499e+01 2.500e+01 2.501e+01 2.502e+01 2.503e+01 2.504e+01 2.505e+01\n",
      " 2.506e+01 2.507e+01 2.508e+01 2.509e+01 2.510e+01 2.511e+01 2.512e+01\n",
      " 2.513e+01 2.514e+01 2.515e+01 2.516e+01 2.517e+01 2.518e+01 2.519e+01\n",
      " 2.520e+01 2.521e+01 2.522e+01 2.523e+01 2.524e+01 2.525e+01 2.526e+01\n",
      " 2.527e+01 2.528e+01 2.529e+01 2.530e+01 2.531e+01 2.532e+01 2.533e+01\n",
      " 2.534e+01 2.535e+01 2.536e+01 2.537e+01 2.538e+01 2.539e+01 2.540e+01\n",
      " 2.541e+01 2.542e+01 2.543e+01 2.544e+01 2.545e+01 2.546e+01 2.547e+01\n",
      " 2.548e+01 2.549e+01 2.550e+01 2.551e+01 2.552e+01 2.553e+01 2.554e+01\n",
      " 2.555e+01 2.556e+01 2.557e+01 2.558e+01 2.559e+01 2.560e+01 2.561e+01\n",
      " 2.562e+01 2.563e+01 2.564e+01 2.565e+01 2.566e+01 2.567e+01 2.568e+01\n",
      " 2.569e+01 2.570e+01 2.571e+01 2.572e+01 2.573e+01 2.574e+01 2.575e+01\n",
      " 2.576e+01 2.577e+01 2.578e+01 2.579e+01 2.580e+01 2.581e+01 2.582e+01\n",
      " 2.583e+01 2.584e+01 2.585e+01 2.586e+01 2.587e+01 2.588e+01 2.589e+01\n",
      " 2.590e+01 2.591e+01 2.592e+01 2.593e+01 2.594e+01 2.595e+01 2.596e+01\n",
      " 2.597e+01 2.598e+01 2.599e+01 2.600e+01 2.601e+01 2.602e+01 2.603e+01\n",
      " 2.604e+01 2.605e+01 2.606e+01 2.607e+01 2.608e+01 2.609e+01 2.610e+01\n",
      " 2.611e+01 2.612e+01 2.613e+01 2.614e+01 2.615e+01 2.616e+01 2.617e+01\n",
      " 2.618e+01 2.619e+01 2.620e+01 2.621e+01 2.622e+01 2.623e+01 2.624e+01\n",
      " 2.625e+01 2.626e+01 2.627e+01 2.628e+01 2.629e+01 2.630e+01 2.631e+01\n",
      " 2.632e+01 2.633e+01 2.634e+01 2.635e+01 2.636e+01 2.637e+01 2.638e+01\n",
      " 2.639e+01 2.640e+01 2.641e+01 2.642e+01 2.643e+01 2.644e+01 2.645e+01\n",
      " 2.646e+01 2.647e+01 2.648e+01 2.649e+01 2.650e+01 2.651e+01 2.652e+01\n",
      " 2.653e+01 2.654e+01 2.655e+01 2.656e+01 2.657e+01 2.658e+01 2.659e+01\n",
      " 2.660e+01 2.661e+01 2.662e+01 2.663e+01 2.664e+01 2.665e+01 2.666e+01\n",
      " 2.667e+01 2.668e+01 2.669e+01 2.670e+01 2.671e+01 2.672e+01 2.673e+01\n",
      " 2.674e+01 2.675e+01 2.676e+01 2.677e+01 2.678e+01 2.679e+01 2.680e+01\n",
      " 2.681e+01 2.682e+01 2.683e+01 2.684e+01 2.685e+01 2.686e+01 2.687e+01\n",
      " 2.688e+01 2.689e+01 2.690e+01 2.691e+01 2.692e+01 2.693e+01 2.694e+01\n",
      " 2.695e+01 2.696e+01 2.697e+01 2.698e+01 2.699e+01 2.700e+01 2.701e+01\n",
      " 2.702e+01 2.703e+01 2.704e+01 2.705e+01 2.706e+01 2.707e+01 2.708e+01\n",
      " 2.709e+01 2.710e+01 2.711e+01 2.712e+01 2.713e+01 2.714e+01 2.715e+01\n",
      " 2.716e+01 2.717e+01 2.718e+01 2.719e+01 2.720e+01 2.721e+01 2.722e+01\n",
      " 2.723e+01 2.724e+01 2.725e+01 2.726e+01 2.727e+01 2.728e+01 2.729e+01\n",
      " 2.730e+01 2.731e+01 2.732e+01 2.733e+01 2.734e+01 2.735e+01 2.736e+01\n",
      " 2.737e+01 2.738e+01 2.739e+01 2.740e+01 2.741e+01 2.742e+01 2.743e+01\n",
      " 2.744e+01 2.745e+01 2.746e+01 2.747e+01 2.748e+01 2.749e+01 2.750e+01\n",
      " 2.751e+01 2.752e+01 2.753e+01 2.754e+01 2.755e+01 2.756e+01 2.757e+01\n",
      " 2.758e+01 2.759e+01 2.760e+01 2.761e+01 2.762e+01 2.763e+01 2.764e+01\n",
      " 2.765e+01 2.766e+01 2.767e+01 2.768e+01 2.769e+01 2.770e+01 2.771e+01\n",
      " 2.772e+01 2.773e+01 2.774e+01 2.775e+01 2.776e+01 2.777e+01 2.778e+01\n",
      " 2.779e+01 2.780e+01 2.781e+01 2.782e+01 2.783e+01 2.784e+01 2.785e+01\n",
      " 2.786e+01 2.787e+01 2.788e+01 2.789e+01 2.790e+01 2.791e+01 2.792e+01\n",
      " 2.793e+01 2.794e+01 2.795e+01 2.796e+01 2.797e+01 2.798e+01 2.799e+01\n",
      " 2.800e+01 2.801e+01 2.802e+01 2.803e+01 2.804e+01 2.805e+01 2.806e+01\n",
      " 2.807e+01 2.808e+01 2.809e+01 2.810e+01 2.811e+01 2.812e+01 2.813e+01\n",
      " 2.814e+01 2.815e+01 2.816e+01 2.817e+01 2.818e+01 2.819e+01 2.820e+01\n",
      " 2.821e+01 2.822e+01 2.823e+01 2.824e+01 2.825e+01 2.826e+01 2.827e+01\n",
      " 2.828e+01 2.829e+01 2.830e+01 2.831e+01 2.832e+01 2.833e+01 2.834e+01\n",
      " 2.835e+01 2.836e+01 2.837e+01 2.838e+01 2.839e+01 2.840e+01 2.841e+01\n",
      " 2.842e+01 2.843e+01 2.844e+01 2.845e+01 2.846e+01 2.847e+01 2.848e+01\n",
      " 2.849e+01 2.850e+01 2.851e+01 2.852e+01 2.853e+01 2.854e+01 2.855e+01\n",
      " 2.856e+01 2.857e+01 2.858e+01 2.859e+01 2.860e+01 2.861e+01 2.862e+01\n",
      " 2.863e+01 2.864e+01 2.865e+01 2.866e+01 2.867e+01 2.868e+01 2.869e+01\n",
      " 2.870e+01 2.871e+01 2.872e+01 2.873e+01 2.874e+01 2.875e+01 2.876e+01\n",
      " 2.877e+01 2.878e+01 2.879e+01 2.880e+01 2.881e+01 2.882e+01 2.883e+01\n",
      " 2.884e+01 2.885e+01 2.886e+01 2.887e+01 2.888e+01 2.889e+01 2.890e+01\n",
      " 2.891e+01 2.892e+01 2.893e+01 2.894e+01 2.895e+01 2.896e+01 2.897e+01\n",
      " 2.898e+01 2.899e+01 2.900e+01 2.901e+01 2.902e+01 2.903e+01 2.904e+01\n",
      " 2.905e+01 2.906e+01 2.907e+01 2.908e+01 2.909e+01 2.910e+01 2.911e+01\n",
      " 2.912e+01 2.913e+01 2.914e+01 2.915e+01 2.916e+01 2.917e+01 2.918e+01\n",
      " 2.919e+01 2.920e+01 2.921e+01 2.922e+01 2.923e+01 2.924e+01 2.925e+01\n",
      " 2.926e+01 2.927e+01 2.928e+01 2.929e+01 2.930e+01 2.931e+01 2.932e+01\n",
      " 2.933e+01 2.934e+01 2.935e+01 2.936e+01 2.937e+01 2.938e+01 2.939e+01\n",
      " 2.940e+01 2.941e+01 2.942e+01 2.943e+01 2.944e+01 2.945e+01 2.946e+01\n",
      " 2.947e+01 2.948e+01 2.949e+01 2.950e+01 2.951e+01 2.952e+01 2.953e+01\n",
      " 2.954e+01 2.955e+01 2.956e+01 2.957e+01 2.958e+01 2.959e+01 2.960e+01\n",
      " 2.961e+01 2.962e+01 2.963e+01 2.964e+01 2.965e+01 2.966e+01 2.967e+01\n",
      " 2.968e+01 2.969e+01 2.970e+01 2.971e+01 2.972e+01 2.973e+01 2.974e+01\n",
      " 2.975e+01 2.976e+01 2.977e+01 2.978e+01 2.979e+01 2.980e+01 2.981e+01\n",
      " 2.982e+01 2.983e+01 2.984e+01 2.985e+01 2.986e+01 2.987e+01 2.988e+01\n",
      " 2.989e+01 2.990e+01 2.991e+01 2.992e+01 2.993e+01 2.994e+01 2.995e+01\n",
      " 2.996e+01 2.997e+01 2.998e+01 2.999e+01 3.000e+01 3.001e+01 3.002e+01\n",
      " 3.003e+01 3.004e+01 3.005e+01 3.006e+01 3.007e+01 3.008e+01 3.009e+01\n",
      " 3.010e+01 3.011e+01 3.012e+01 3.013e+01 3.014e+01 3.015e+01 3.016e+01\n",
      " 3.017e+01 3.018e+01 3.019e+01 3.020e+01 3.021e+01 3.022e+01 3.023e+01\n",
      " 3.024e+01 3.025e+01 3.026e+01 3.027e+01 3.028e+01 3.029e+01 3.030e+01\n",
      " 3.031e+01 3.032e+01 3.033e+01 3.034e+01 3.035e+01 3.036e+01 3.037e+01\n",
      " 3.038e+01 3.039e+01 3.040e+01 3.041e+01 3.042e+01 3.043e+01 3.044e+01\n",
      " 3.045e+01 3.046e+01 3.047e+01 3.048e+01 3.049e+01 3.050e+01 3.051e+01\n",
      " 3.052e+01 3.053e+01 3.054e+01 3.055e+01 3.056e+01 3.057e+01 3.058e+01\n",
      " 3.059e+01 3.060e+01 3.061e+01 3.062e+01 3.063e+01 3.064e+01 3.065e+01\n",
      " 3.066e+01 3.067e+01 3.068e+01 3.069e+01 3.070e+01 3.071e+01 3.072e+01\n",
      " 3.073e+01 3.074e+01 3.075e+01 3.076e+01 3.077e+01 3.078e+01 3.079e+01\n",
      " 3.080e+01 3.081e+01 3.082e+01 3.083e+01 3.084e+01 3.085e+01 3.086e+01\n",
      " 3.087e+01 3.088e+01 3.089e+01 3.090e+01 3.091e+01 3.092e+01 3.093e+01\n",
      " 3.094e+01 3.095e+01 3.096e+01 3.097e+01 3.098e+01 3.099e+01 3.100e+01\n",
      " 3.101e+01 3.102e+01 3.103e+01 3.104e+01 3.105e+01 3.106e+01 3.107e+01\n",
      " 3.108e+01 3.109e+01 3.110e+01 3.111e+01 3.112e+01 3.113e+01 3.114e+01\n",
      " 3.115e+01 3.116e+01 3.117e+01 3.118e+01 3.119e+01 3.120e+01 3.121e+01\n",
      " 3.122e+01 3.123e+01 3.124e+01 3.125e+01 3.126e+01 3.127e+01 3.128e+01\n",
      " 3.129e+01 3.130e+01 3.131e+01 3.132e+01 3.133e+01 3.134e+01 3.135e+01\n",
      " 3.136e+01 3.137e+01 3.138e+01 3.139e+01 3.140e+01 3.141e+01 3.142e+01\n",
      " 3.143e+01 3.144e+01 3.145e+01 3.146e+01 3.147e+01 3.148e+01 3.149e+01\n",
      " 3.150e+01 3.151e+01 3.152e+01 3.153e+01 3.154e+01 3.155e+01 3.156e+01\n",
      " 3.157e+01 3.158e+01 3.159e+01 3.160e+01 3.161e+01 3.162e+01 3.163e+01\n",
      " 3.164e+01 3.165e+01 3.166e+01 3.167e+01 3.168e+01 3.169e+01 3.170e+01\n",
      " 3.171e+01 3.172e+01 3.173e+01 3.174e+01 3.175e+01 3.176e+01 3.177e+01\n",
      " 3.178e+01 3.179e+01 3.180e+01 3.181e+01 3.182e+01 3.183e+01 3.184e+01\n",
      " 3.185e+01 3.186e+01 3.187e+01 3.188e+01 3.189e+01 3.190e+01 3.191e+01\n",
      " 3.192e+01 3.193e+01 3.194e+01 3.195e+01 3.196e+01 3.197e+01 3.198e+01\n",
      " 3.199e+01 3.200e+01 3.201e+01 3.202e+01 3.203e+01 3.204e+01 3.205e+01\n",
      " 3.206e+01 3.207e+01 3.208e+01 3.209e+01 3.210e+01 3.211e+01 3.212e+01\n",
      " 3.213e+01 3.214e+01 3.215e+01 3.216e+01 3.217e+01 3.218e+01 3.219e+01\n",
      " 3.220e+01 3.221e+01 3.222e+01 3.223e+01 3.224e+01 3.225e+01 3.226e+01\n",
      " 3.227e+01 3.228e+01 3.229e+01 3.230e+01 3.231e+01 3.232e+01 3.233e+01\n",
      " 3.234e+01 3.235e+01 3.236e+01 3.237e+01 3.238e+01 3.239e+01 3.240e+01\n",
      " 3.241e+01 3.242e+01 3.243e+01 3.244e+01 3.245e+01 3.246e+01 3.247e+01\n",
      " 3.248e+01 3.249e+01 3.250e+01 3.251e+01 3.252e+01 3.253e+01 3.254e+01\n",
      " 3.255e+01 3.256e+01 3.257e+01 3.258e+01 3.259e+01 3.260e+01 3.261e+01\n",
      " 3.262e+01 3.263e+01 3.264e+01 3.265e+01 3.266e+01 3.267e+01 3.268e+01\n",
      " 3.269e+01 3.270e+01 3.271e+01 3.272e+01 3.273e+01 3.274e+01 3.275e+01\n",
      " 3.276e+01 3.277e+01 3.278e+01 3.279e+01 3.280e+01 3.281e+01 3.282e+01\n",
      " 3.283e+01 3.284e+01 3.285e+01 3.286e+01 3.287e+01 3.288e+01 3.289e+01\n",
      " 3.290e+01 3.291e+01 3.292e+01 3.293e+01 3.294e+01 3.295e+01 3.296e+01\n",
      " 3.297e+01 3.298e+01 3.299e+01 3.300e+01 3.301e+01 3.302e+01 3.303e+01\n",
      " 3.304e+01 3.305e+01 3.306e+01 3.307e+01 3.308e+01 3.309e+01 3.310e+01\n",
      " 3.311e+01 3.312e+01 3.313e+01 3.314e+01 3.315e+01 3.316e+01 3.317e+01\n",
      " 3.318e+01 3.319e+01 3.320e+01 3.321e+01 3.322e+01 3.323e+01 3.324e+01\n",
      " 3.325e+01 3.326e+01 3.327e+01 3.328e+01 3.329e+01 3.330e+01 3.331e+01\n",
      " 3.332e+01 3.333e+01 3.334e+01 3.335e+01 3.336e+01 3.337e+01 3.338e+01\n",
      " 3.339e+01 3.340e+01 3.341e+01 3.342e+01 3.343e+01 3.344e+01 3.345e+01\n",
      " 3.346e+01 3.347e+01 3.348e+01 3.349e+01 3.350e+01 3.351e+01 3.352e+01\n",
      " 3.353e+01 3.354e+01 3.355e+01 3.356e+01 3.357e+01 3.358e+01 3.359e+01\n",
      " 3.360e+01 3.361e+01 3.362e+01 3.363e+01 3.364e+01 3.365e+01 3.366e+01\n",
      " 3.367e+01 3.368e+01 3.369e+01 3.370e+01 3.371e+01 3.372e+01 3.373e+01\n",
      " 3.374e+01 3.375e+01 3.376e+01 3.377e+01 3.378e+01 3.379e+01 3.380e+01\n",
      " 3.381e+01 3.382e+01 3.383e+01 3.384e+01 3.385e+01 3.386e+01 3.387e+01\n",
      " 3.388e+01 3.389e+01 3.390e+01 3.391e+01 3.392e+01 3.393e+01 3.394e+01\n",
      " 3.395e+01 3.396e+01 3.397e+01 3.398e+01 3.399e+01 3.400e+01 3.401e+01\n",
      " 3.402e+01 3.403e+01 3.404e+01 3.405e+01 3.406e+01 3.407e+01 3.408e+01\n",
      " 3.409e+01 3.410e+01 3.411e+01 3.412e+01 3.413e+01 3.414e+01 3.415e+01\n",
      " 3.416e+01 3.417e+01 3.418e+01 3.419e+01 3.420e+01 3.421e+01 3.422e+01\n",
      " 3.423e+01 3.424e+01 3.425e+01 3.426e+01 3.427e+01 3.428e+01 3.429e+01\n",
      " 3.430e+01 3.431e+01 3.432e+01 3.433e+01 3.434e+01 3.435e+01 3.436e+01\n",
      " 3.437e+01 3.438e+01 3.439e+01 3.440e+01 3.441e+01 3.442e+01 3.443e+01\n",
      " 3.444e+01 3.445e+01 3.446e+01 3.447e+01 3.448e+01 3.449e+01 3.450e+01\n",
      " 3.451e+01 3.452e+01 3.453e+01 3.454e+01 3.455e+01 3.456e+01 3.457e+01\n",
      " 3.458e+01 3.459e+01 3.460e+01 3.461e+01 3.462e+01 3.463e+01 3.464e+01\n",
      " 3.465e+01 3.466e+01 3.467e+01 3.468e+01 3.469e+01 3.470e+01 3.471e+01\n",
      " 3.472e+01 3.473e+01 3.474e+01 3.475e+01 3.476e+01 3.477e+01 3.478e+01\n",
      " 3.479e+01 3.480e+01 3.481e+01 3.482e+01 3.483e+01 3.484e+01 3.485e+01\n",
      " 3.486e+01 3.487e+01 3.488e+01 3.489e+01 3.490e+01 3.491e+01 3.492e+01\n",
      " 3.493e+01 3.494e+01 3.495e+01 3.496e+01 3.497e+01 3.498e+01 3.499e+01\n",
      " 3.500e+01 3.501e+01 3.502e+01 3.503e+01 3.504e+01 3.505e+01 3.506e+01\n",
      " 3.507e+01 3.508e+01 3.509e+01 3.510e+01 3.511e+01 3.512e+01 3.513e+01\n",
      " 3.514e+01 3.515e+01 3.516e+01 3.517e+01 3.518e+01 3.519e+01 3.520e+01\n",
      " 3.521e+01 3.522e+01 3.523e+01 3.524e+01 3.525e+01 3.526e+01 3.527e+01\n",
      " 3.528e+01 3.529e+01 3.530e+01 3.531e+01 3.532e+01 3.533e+01 3.534e+01\n",
      " 3.535e+01 3.536e+01 3.537e+01 3.538e+01 3.539e+01 3.540e+01 3.541e+01\n",
      " 3.542e+01 3.543e+01 3.544e+01 3.545e+01 3.546e+01 3.547e+01 3.548e+01\n",
      " 3.549e+01 3.550e+01 3.551e+01 3.552e+01 3.553e+01 3.554e+01 3.555e+01\n",
      " 3.556e+01 3.557e+01 3.558e+01 3.559e+01 3.560e+01 3.561e+01 3.562e+01\n",
      " 3.563e+01 3.564e+01 3.565e+01 3.566e+01 3.567e+01 3.568e+01 3.569e+01\n",
      " 3.570e+01 3.571e+01 3.572e+01 3.573e+01 3.574e+01 3.575e+01 3.576e+01\n",
      " 3.577e+01 3.578e+01 3.579e+01 3.580e+01 3.581e+01 3.582e+01 3.583e+01\n",
      " 3.584e+01 3.585e+01 3.586e+01 3.587e+01 3.588e+01 3.589e+01 3.590e+01\n",
      " 3.591e+01 3.592e+01 3.593e+01 3.594e+01 3.595e+01 3.596e+01 3.597e+01\n",
      " 3.598e+01 3.599e+01 3.600e+01 3.601e+01 3.602e+01 3.603e+01 3.604e+01\n",
      " 3.605e+01 3.606e+01 3.607e+01 3.608e+01 3.609e+01 3.610e+01 3.611e+01\n",
      " 3.612e+01 3.613e+01 3.614e+01 3.615e+01 3.616e+01 3.617e+01 3.618e+01\n",
      " 3.619e+01 3.620e+01 3.621e+01 3.622e+01 3.623e+01 3.624e+01 3.625e+01\n",
      " 3.626e+01 3.627e+01 3.628e+01 3.629e+01 3.630e+01 3.631e+01 3.632e+01\n",
      " 3.633e+01 3.634e+01 3.635e+01 3.636e+01 3.637e+01 3.638e+01 3.639e+01\n",
      " 3.640e+01 3.641e+01 3.642e+01 3.643e+01 3.644e+01 3.645e+01 3.646e+01\n",
      " 3.647e+01 3.648e+01 3.649e+01 3.650e+01 3.651e+01 3.652e+01 3.653e+01\n",
      " 3.654e+01 3.655e+01 3.656e+01 3.657e+01 3.658e+01 3.659e+01 3.660e+01\n",
      " 3.661e+01 3.662e+01 3.663e+01 3.664e+01 3.665e+01 3.666e+01 3.667e+01\n",
      " 3.668e+01 3.669e+01 3.670e+01 3.671e+01 3.672e+01 3.673e+01 3.674e+01\n",
      " 3.675e+01 3.676e+01 3.677e+01 3.678e+01 3.679e+01 3.680e+01 3.681e+01\n",
      " 3.682e+01 3.683e+01 3.684e+01 3.685e+01 3.686e+01 3.687e+01 3.688e+01\n",
      " 3.689e+01 3.690e+01 3.691e+01 3.692e+01 3.693e+01 3.694e+01 3.695e+01\n",
      " 3.696e+01 3.697e+01 3.698e+01 3.699e+01 3.700e+01 3.701e+01 3.702e+01\n",
      " 3.703e+01 3.704e+01 3.705e+01 3.706e+01 3.707e+01 3.708e+01 3.709e+01\n",
      " 3.710e+01 3.711e+01 3.712e+01 3.713e+01 3.714e+01 3.715e+01 3.716e+01\n",
      " 3.717e+01 3.718e+01 3.719e+01 3.720e+01 3.721e+01 3.722e+01 3.723e+01\n",
      " 3.724e+01 3.725e+01 3.726e+01 3.727e+01 3.728e+01 3.729e+01 3.730e+01\n",
      " 3.731e+01 3.732e+01 3.733e+01 3.734e+01 3.735e+01 3.736e+01 3.737e+01\n",
      " 3.738e+01 3.739e+01 3.740e+01 3.741e+01 3.742e+01 3.743e+01 3.744e+01\n",
      " 3.745e+01 3.746e+01 3.747e+01 3.748e+01 3.749e+01 3.750e+01 3.751e+01\n",
      " 3.752e+01 3.753e+01 3.754e+01 3.755e+01 3.756e+01 3.757e+01 3.758e+01\n",
      " 3.759e+01 3.760e+01 3.761e+01 3.762e+01 3.763e+01 3.764e+01 3.765e+01\n",
      " 3.766e+01 3.767e+01 3.768e+01 3.769e+01 3.770e+01 3.771e+01 3.772e+01\n",
      " 3.773e+01 3.774e+01 3.775e+01 3.776e+01 3.777e+01 3.778e+01 3.779e+01\n",
      " 3.780e+01 3.781e+01 3.782e+01 3.783e+01 3.784e+01 3.785e+01 3.786e+01\n",
      " 3.787e+01 3.788e+01 3.789e+01 3.790e+01 3.791e+01 3.792e+01 3.793e+01\n",
      " 3.794e+01 3.795e+01 3.796e+01 3.797e+01 3.798e+01 3.799e+01 3.800e+01\n",
      " 3.801e+01 3.802e+01 3.803e+01 3.804e+01 3.805e+01 3.806e+01 3.807e+01\n",
      " 3.808e+01 3.809e+01 3.810e+01 3.811e+01 3.812e+01 3.813e+01 3.814e+01\n",
      " 3.815e+01 3.816e+01 3.817e+01 3.818e+01 3.819e+01 3.820e+01 3.821e+01\n",
      " 3.822e+01 3.823e+01 3.824e+01 3.825e+01 3.826e+01 3.827e+01 3.828e+01\n",
      " 3.829e+01 3.830e+01 3.831e+01 3.832e+01 3.833e+01 3.834e+01 3.835e+01\n",
      " 3.836e+01 3.837e+01 3.838e+01 3.839e+01 3.840e+01 3.841e+01 3.842e+01\n",
      " 3.843e+01 3.844e+01 3.845e+01 3.846e+01 3.847e+01 3.848e+01 3.849e+01\n",
      " 3.850e+01 3.851e+01 3.852e+01 3.853e+01 3.854e+01 3.855e+01 3.856e+01\n",
      " 3.857e+01 3.858e+01 3.859e+01 3.860e+01 3.861e+01 3.862e+01 3.863e+01\n",
      " 3.864e+01 3.865e+01 3.866e+01 3.867e+01 3.868e+01 3.869e+01 3.870e+01\n",
      " 3.871e+01 3.872e+01 3.873e+01 3.874e+01 3.875e+01 3.876e+01 3.877e+01\n",
      " 3.878e+01 3.879e+01 3.880e+01 3.881e+01 3.882e+01 3.883e+01 3.884e+01\n",
      " 3.885e+01 3.886e+01 3.887e+01 3.888e+01 3.889e+01 3.890e+01 3.891e+01\n",
      " 3.892e+01 3.893e+01 3.894e+01 3.895e+01 3.896e+01 3.897e+01 3.898e+01\n",
      " 3.899e+01 3.900e+01 3.901e+01 3.902e+01 3.903e+01 3.904e+01 3.905e+01\n",
      " 3.906e+01 3.907e+01 3.908e+01 3.909e+01 3.910e+01 3.911e+01 3.912e+01\n",
      " 3.913e+01 3.914e+01 3.915e+01 3.916e+01 3.917e+01 3.918e+01 3.919e+01\n",
      " 3.920e+01 3.921e+01 3.922e+01 3.923e+01 3.924e+01 3.925e+01 3.926e+01\n",
      " 3.927e+01 3.928e+01 3.929e+01 3.930e+01 3.931e+01 3.932e+01 3.933e+01\n",
      " 3.934e+01 3.935e+01 3.936e+01 3.937e+01 3.938e+01 3.939e+01 3.940e+01\n",
      " 3.941e+01 3.942e+01 3.943e+01 3.944e+01 3.945e+01 3.946e+01 3.947e+01\n",
      " 3.948e+01 3.949e+01 3.950e+01 3.951e+01 3.952e+01 3.953e+01 3.954e+01\n",
      " 3.955e+01 3.956e+01 3.957e+01 3.958e+01 3.959e+01 3.960e+01 3.961e+01\n",
      " 3.962e+01 3.963e+01 3.964e+01 3.965e+01 3.966e+01 3.967e+01 3.968e+01\n",
      " 3.969e+01 3.970e+01 3.971e+01 3.972e+01 3.973e+01 3.974e+01 3.975e+01\n",
      " 3.976e+01 3.977e+01 3.978e+01 3.979e+01 3.980e+01 3.981e+01 3.982e+01\n",
      " 3.983e+01 3.984e+01 3.985e+01 3.986e+01 3.987e+01 3.988e+01 3.989e+01\n",
      " 3.990e+01 3.991e+01 3.992e+01 3.993e+01 3.994e+01 3.995e+01 3.996e+01\n",
      " 3.997e+01 3.998e+01 3.999e+01 4.000e+01 4.001e+01 4.002e+01 4.003e+01\n",
      " 4.004e+01 4.005e+01 4.006e+01 4.007e+01 4.008e+01 4.009e+01 4.010e+01\n",
      " 4.011e+01 4.012e+01 4.013e+01 4.014e+01 4.015e+01 4.016e+01 4.017e+01\n",
      " 4.018e+01 4.019e+01 4.020e+01 4.021e+01 4.022e+01 4.023e+01 4.024e+01\n",
      " 4.025e+01 4.026e+01 4.027e+01 4.028e+01 4.029e+01 4.030e+01 4.031e+01\n",
      " 4.032e+01 4.033e+01 4.034e+01 4.035e+01 4.036e+01 4.037e+01 4.038e+01\n",
      " 4.039e+01 4.040e+01 4.041e+01 4.042e+01 4.043e+01 4.044e+01 4.045e+01\n",
      " 4.046e+01 4.047e+01 4.048e+01 4.049e+01 4.050e+01 4.051e+01 4.052e+01\n",
      " 4.053e+01 4.054e+01 4.055e+01 4.056e+01 4.057e+01 4.058e+01 4.059e+01\n",
      " 4.060e+01 4.061e+01 4.062e+01 4.063e+01 4.064e+01 4.065e+01 4.066e+01\n",
      " 4.067e+01 4.068e+01 4.069e+01 4.070e+01 4.071e+01 4.072e+01 4.073e+01\n",
      " 4.074e+01 4.075e+01 4.076e+01 4.077e+01 4.078e+01 4.079e+01 4.080e+01\n",
      " 4.081e+01 4.082e+01 4.083e+01 4.084e+01 4.085e+01 4.086e+01 4.087e+01\n",
      " 4.088e+01 4.089e+01 4.090e+01 4.091e+01 4.092e+01 4.093e+01 4.094e+01\n",
      " 4.095e+01 4.096e+01 4.097e+01 4.098e+01 4.099e+01 4.100e+01 4.101e+01\n",
      " 4.102e+01 4.103e+01 4.104e+01 4.105e+01 4.106e+01 4.107e+01 4.108e+01\n",
      " 4.109e+01 4.110e+01 4.111e+01 4.112e+01 4.113e+01 4.114e+01 4.115e+01\n",
      " 4.116e+01 4.117e+01 4.118e+01 4.119e+01 4.120e+01 4.121e+01 4.122e+01\n",
      " 4.123e+01 4.124e+01 4.125e+01 4.126e+01 4.127e+01 4.128e+01 4.129e+01\n",
      " 4.130e+01 4.131e+01 4.132e+01 4.133e+01 4.134e+01 4.135e+01 4.136e+01\n",
      " 4.137e+01 4.138e+01 4.139e+01 4.140e+01 4.141e+01 4.142e+01 4.143e+01\n",
      " 4.144e+01 4.145e+01 4.146e+01 4.147e+01 4.148e+01 4.149e+01 4.150e+01\n",
      " 4.151e+01 4.152e+01 4.153e+01 4.154e+01 4.155e+01 4.156e+01 4.157e+01\n",
      " 4.158e+01 4.159e+01 4.160e+01 4.161e+01 4.162e+01 4.163e+01 4.164e+01\n",
      " 4.165e+01 4.166e+01 4.167e+01 4.168e+01 4.169e+01 4.170e+01 4.171e+01\n",
      " 4.172e+01 4.173e+01 4.174e+01 4.175e+01 4.176e+01 4.177e+01 4.178e+01\n",
      " 4.179e+01 4.180e+01 4.181e+01 4.182e+01 4.183e+01 4.184e+01 4.185e+01\n",
      " 4.186e+01 4.187e+01 4.188e+01 4.189e+01 4.190e+01 4.191e+01 4.192e+01\n",
      " 4.193e+01 4.194e+01 4.195e+01 4.196e+01 4.197e+01 4.198e+01 4.199e+01\n",
      " 4.200e+01 4.201e+01 4.202e+01 4.203e+01 4.204e+01 4.205e+01 4.206e+01\n",
      " 4.207e+01 4.208e+01 4.209e+01 4.210e+01 4.211e+01 4.212e+01 4.213e+01\n",
      " 4.214e+01 4.215e+01 4.216e+01 4.217e+01 4.218e+01 4.219e+01 4.220e+01\n",
      " 4.221e+01 4.222e+01 4.223e+01 4.224e+01 4.225e+01 4.226e+01 4.227e+01\n",
      " 4.228e+01 4.229e+01 4.230e+01 4.231e+01 4.232e+01 4.233e+01 4.234e+01\n",
      " 4.235e+01 4.236e+01 4.237e+01 4.238e+01 4.239e+01 4.240e+01 4.241e+01\n",
      " 4.242e+01 4.243e+01 4.244e+01 4.245e+01 4.246e+01 4.247e+01 4.248e+01\n",
      " 4.249e+01 4.250e+01 4.251e+01 4.252e+01 4.253e+01 4.254e+01 4.255e+01\n",
      " 4.256e+01 4.257e+01 4.258e+01 4.259e+01 4.260e+01 4.261e+01 4.262e+01\n",
      " 4.263e+01 4.264e+01 4.265e+01 4.266e+01 4.267e+01 4.268e+01 4.269e+01\n",
      " 4.270e+01 4.271e+01 4.272e+01 4.273e+01 4.274e+01 4.275e+01 4.276e+01\n",
      " 4.277e+01 4.278e+01 4.279e+01 4.280e+01 4.281e+01 4.282e+01 4.283e+01\n",
      " 4.284e+01 4.285e+01 4.286e+01 4.287e+01 4.288e+01 4.289e+01 4.290e+01\n",
      " 4.291e+01 4.292e+01 4.293e+01 4.294e+01 4.295e+01 4.296e+01 4.297e+01\n",
      " 4.298e+01 4.299e+01 4.300e+01 4.301e+01 4.302e+01 4.303e+01 4.304e+01\n",
      " 4.305e+01 4.306e+01 4.307e+01 4.308e+01 4.309e+01 4.310e+01 4.311e+01\n",
      " 4.312e+01 4.313e+01 4.314e+01 4.315e+01 4.316e+01 4.317e+01 4.318e+01\n",
      " 4.319e+01 4.320e+01 4.321e+01 4.322e+01 4.323e+01 4.324e+01 4.325e+01\n",
      " 4.326e+01 4.327e+01 4.328e+01 4.329e+01 4.330e+01 4.331e+01 4.332e+01\n",
      " 4.333e+01 4.334e+01 4.335e+01 4.336e+01 4.337e+01 4.338e+01 4.339e+01\n",
      " 4.340e+01 4.341e+01 4.342e+01 4.343e+01 4.344e+01 4.345e+01 4.346e+01\n",
      " 4.347e+01 4.348e+01 4.349e+01 4.350e+01 4.351e+01 4.352e+01 4.353e+01\n",
      " 4.354e+01 4.355e+01 4.356e+01 4.357e+01 4.358e+01 4.359e+01 4.360e+01\n",
      " 4.361e+01 4.362e+01 4.363e+01 4.364e+01 4.365e+01 4.366e+01 4.367e+01\n",
      " 4.368e+01 4.369e+01 4.370e+01 4.371e+01 4.372e+01 4.373e+01 4.374e+01\n",
      " 4.375e+01 4.376e+01 4.377e+01 4.378e+01 4.379e+01 4.380e+01 4.381e+01\n",
      " 4.382e+01 4.383e+01 4.384e+01 4.385e+01 4.386e+01 4.387e+01 4.388e+01\n",
      " 4.389e+01 4.390e+01 4.391e+01 4.392e+01 4.393e+01 4.394e+01 4.395e+01\n",
      " 4.396e+01 4.397e+01 4.398e+01 4.399e+01 4.400e+01 4.401e+01 4.402e+01\n",
      " 4.403e+01 4.404e+01 4.405e+01 4.406e+01 4.407e+01 4.408e+01 4.409e+01\n",
      " 4.410e+01 4.411e+01 4.412e+01 4.413e+01 4.414e+01 4.415e+01 4.416e+01\n",
      " 4.417e+01 4.418e+01 4.419e+01 4.420e+01 4.421e+01 4.422e+01 4.423e+01\n",
      " 4.424e+01 4.425e+01 4.426e+01 4.427e+01 4.428e+01 4.429e+01 4.430e+01\n",
      " 4.431e+01 4.432e+01 4.433e+01 4.434e+01 4.435e+01 4.436e+01 4.437e+01\n",
      " 4.438e+01 4.439e+01 4.440e+01 4.441e+01 4.442e+01 4.443e+01 4.444e+01\n",
      " 4.445e+01 4.446e+01 4.447e+01 4.448e+01 4.449e+01 4.450e+01 4.451e+01\n",
      " 4.452e+01 4.453e+01 4.454e+01 4.455e+01 4.456e+01 4.457e+01 4.458e+01\n",
      " 4.459e+01 4.460e+01 4.461e+01 4.462e+01 4.463e+01 4.464e+01 4.465e+01\n",
      " 4.466e+01 4.467e+01 4.468e+01 4.469e+01 4.470e+01 4.471e+01 4.472e+01\n",
      " 4.473e+01 4.474e+01 4.475e+01 4.476e+01 4.477e+01 4.478e+01 4.479e+01\n",
      " 4.480e+01 4.481e+01 4.482e+01 4.483e+01 4.484e+01 4.485e+01 4.486e+01\n",
      " 4.487e+01 4.488e+01 4.489e+01 4.490e+01 4.491e+01 4.492e+01 4.493e+01\n",
      " 4.494e+01 4.495e+01 4.496e+01 4.497e+01 4.498e+01 4.499e+01 4.500e+01\n",
      " 4.501e+01 4.502e+01 4.503e+01 4.504e+01 4.505e+01 4.506e+01 4.507e+01\n",
      " 4.508e+01 4.509e+01 4.510e+01 4.511e+01 4.512e+01 4.513e+01 4.514e+01\n",
      " 4.515e+01 4.516e+01 4.517e+01 4.518e+01 4.519e+01 4.520e+01 4.521e+01\n",
      " 4.522e+01 4.523e+01 4.524e+01 4.525e+01 4.526e+01 4.527e+01 4.528e+01\n",
      " 4.529e+01 4.530e+01 4.531e+01 4.532e+01 4.533e+01 4.534e+01 4.535e+01\n",
      " 4.536e+01 4.537e+01 4.538e+01 4.539e+01 4.540e+01 4.541e+01 4.542e+01\n",
      " 4.543e+01 4.544e+01 4.545e+01 4.546e+01 4.547e+01 4.548e+01 4.549e+01\n",
      " 4.550e+01 4.551e+01 4.552e+01 4.553e+01 4.554e+01 4.555e+01 4.556e+01\n",
      " 4.557e+01 4.558e+01 4.559e+01 4.560e+01 4.561e+01 4.562e+01 4.563e+01\n",
      " 4.564e+01 4.565e+01 4.566e+01 4.567e+01 4.568e+01 4.569e+01 4.570e+01\n",
      " 4.571e+01 4.572e+01 4.573e+01 4.574e+01 4.575e+01 4.576e+01 4.577e+01\n",
      " 4.578e+01 4.579e+01 4.580e+01 4.581e+01 4.582e+01 4.583e+01 4.584e+01\n",
      " 4.585e+01 4.586e+01 4.587e+01 4.588e+01 4.589e+01 4.590e+01 4.591e+01\n",
      " 4.592e+01 4.593e+01 4.594e+01 4.595e+01 4.596e+01 4.597e+01 4.598e+01\n",
      " 4.599e+01 4.600e+01 4.601e+01 4.602e+01 4.603e+01 4.604e+01 4.605e+01\n",
      " 4.606e+01 4.607e+01 4.608e+01 4.609e+01 4.610e+01 4.611e+01 4.612e+01\n",
      " 4.613e+01 4.614e+01 4.615e+01 4.616e+01 4.617e+01 4.618e+01 4.619e+01\n",
      " 4.620e+01 4.621e+01 4.622e+01 4.623e+01 4.624e+01 4.625e+01 4.626e+01\n",
      " 4.627e+01 4.628e+01 4.629e+01 4.630e+01 4.631e+01 4.632e+01 4.633e+01\n",
      " 4.634e+01 4.635e+01 4.636e+01 4.637e+01 4.638e+01 4.639e+01 4.640e+01\n",
      " 4.641e+01 4.642e+01 4.643e+01 4.644e+01 4.645e+01 4.646e+01 4.647e+01\n",
      " 4.648e+01 4.649e+01 4.650e+01 4.651e+01 4.652e+01 4.653e+01 4.654e+01\n",
      " 4.655e+01 4.656e+01 4.657e+01 4.658e+01 4.659e+01 4.660e+01 4.661e+01\n",
      " 4.662e+01 4.663e+01 4.664e+01 4.665e+01 4.666e+01 4.667e+01 4.668e+01\n",
      " 4.669e+01 4.670e+01 4.671e+01 4.672e+01 4.673e+01 4.674e+01 4.675e+01\n",
      " 4.676e+01 4.677e+01 4.678e+01 4.679e+01 4.680e+01 4.681e+01 4.682e+01\n",
      " 4.683e+01 4.684e+01 4.685e+01 4.686e+01 4.687e+01 4.688e+01 4.689e+01\n",
      " 4.690e+01 4.691e+01 4.692e+01 4.693e+01 4.694e+01 4.695e+01 4.696e+01\n",
      " 4.697e+01 4.698e+01 4.699e+01 4.700e+01 4.701e+01 4.702e+01 4.703e+01\n",
      " 4.704e+01 4.705e+01 4.706e+01 4.707e+01 4.708e+01 4.709e+01 4.710e+01\n",
      " 4.711e+01 4.712e+01 4.713e+01 4.714e+01 4.715e+01 4.716e+01 4.717e+01\n",
      " 4.718e+01 4.719e+01 4.720e+01 4.721e+01 4.722e+01 4.723e+01 4.724e+01\n",
      " 4.725e+01 4.726e+01 4.727e+01 4.728e+01 4.729e+01 4.730e+01 4.731e+01\n",
      " 4.732e+01 4.733e+01 4.734e+01 4.735e+01 4.736e+01 4.737e+01 4.738e+01\n",
      " 4.739e+01 4.740e+01 4.741e+01 4.742e+01 4.743e+01 4.744e+01 4.745e+01\n",
      " 4.746e+01 4.747e+01 4.748e+01 4.749e+01 4.750e+01 4.751e+01 4.752e+01\n",
      " 4.753e+01 4.754e+01 4.755e+01 4.756e+01 4.757e+01 4.758e+01 4.759e+01\n",
      " 4.760e+01 4.761e+01 4.762e+01 4.763e+01 4.764e+01 4.765e+01 4.766e+01\n",
      " 4.767e+01 4.768e+01 4.769e+01 4.770e+01 4.771e+01 4.772e+01 4.773e+01\n",
      " 4.774e+01 4.775e+01 4.776e+01 4.777e+01 4.778e+01 4.779e+01 4.780e+01\n",
      " 4.781e+01 4.782e+01 4.783e+01 4.784e+01 4.785e+01 4.786e+01 4.787e+01\n",
      " 4.788e+01 4.789e+01 4.790e+01 4.791e+01 4.792e+01 4.793e+01 4.794e+01\n",
      " 4.795e+01 4.796e+01 4.797e+01 4.798e+01 4.799e+01 4.800e+01 4.801e+01\n",
      " 4.802e+01 4.803e+01 4.804e+01 4.805e+01 4.806e+01 4.807e+01 4.808e+01\n",
      " 4.809e+01 4.810e+01 4.811e+01 4.812e+01 4.813e+01 4.814e+01 4.815e+01\n",
      " 4.816e+01 4.817e+01 4.818e+01 4.819e+01 4.820e+01 4.821e+01 4.822e+01\n",
      " 4.823e+01 4.824e+01 4.825e+01 4.826e+01 4.827e+01 4.828e+01 4.829e+01\n",
      " 4.830e+01 4.831e+01 4.832e+01 4.833e+01 4.834e+01 4.835e+01 4.836e+01\n",
      " 4.837e+01 4.838e+01 4.839e+01 4.840e+01 4.841e+01 4.842e+01 4.843e+01\n",
      " 4.844e+01 4.845e+01 4.846e+01 4.847e+01 4.848e+01 4.849e+01 4.850e+01\n",
      " 4.851e+01 4.852e+01 4.853e+01 4.854e+01 4.855e+01 4.856e+01 4.857e+01\n",
      " 4.858e+01 4.859e+01 4.860e+01 4.861e+01 4.862e+01 4.863e+01 4.864e+01\n",
      " 4.865e+01 4.866e+01 4.867e+01 4.868e+01 4.869e+01 4.870e+01 4.871e+01\n",
      " 4.872e+01 4.873e+01 4.874e+01 4.875e+01 4.876e+01 4.877e+01 4.878e+01\n",
      " 4.879e+01 4.880e+01 4.881e+01 4.882e+01 4.883e+01 4.884e+01 4.885e+01\n",
      " 4.886e+01 4.887e+01 4.888e+01 4.889e+01 4.890e+01 4.891e+01 4.892e+01\n",
      " 4.893e+01 4.894e+01 4.895e+01 4.896e+01 4.897e+01 4.898e+01 4.899e+01\n",
      " 4.900e+01 4.901e+01 4.902e+01 4.903e+01 4.904e+01 4.905e+01 4.906e+01\n",
      " 4.907e+01 4.908e+01 4.909e+01 4.910e+01 4.911e+01 4.912e+01 4.913e+01\n",
      " 4.914e+01 4.915e+01 4.916e+01 4.917e+01 4.918e+01 4.919e+01 4.920e+01\n",
      " 4.921e+01 4.922e+01 4.923e+01 4.924e+01 4.925e+01 4.926e+01 4.927e+01\n",
      " 4.928e+01 4.929e+01 4.930e+01 4.931e+01 4.932e+01 4.933e+01 4.934e+01\n",
      " 4.935e+01 4.936e+01 4.937e+01 4.938e+01 4.939e+01 4.940e+01 4.941e+01\n",
      " 4.942e+01 4.943e+01 4.944e+01 4.945e+01 4.946e+01 4.947e+01 4.948e+01\n",
      " 4.949e+01 4.950e+01 4.951e+01 4.952e+01 4.953e+01 4.954e+01 4.955e+01\n",
      " 4.956e+01 4.957e+01 4.958e+01 4.959e+01 4.960e+01 4.961e+01 4.962e+01\n",
      " 4.963e+01 4.964e+01 4.965e+01 4.966e+01 4.967e+01 4.968e+01 4.969e+01\n",
      " 4.970e+01 4.971e+01 4.972e+01 4.973e+01 4.974e+01 4.975e+01 4.976e+01\n",
      " 4.977e+01 4.978e+01 4.979e+01 4.980e+01 4.981e+01 4.982e+01 4.983e+01\n",
      " 4.984e+01 4.985e+01 4.986e+01 4.987e+01 4.988e+01 4.989e+01 4.990e+01\n",
      " 4.991e+01 4.992e+01 4.993e+01 4.994e+01 4.995e+01 4.996e+01 4.997e+01\n",
      " 4.998e+01 4.999e+01 5.000e+01 5.001e+01 5.002e+01 5.003e+01 5.004e+01\n",
      " 5.005e+01 5.006e+01 5.007e+01 5.008e+01 5.009e+01 5.010e+01 5.011e+01\n",
      " 5.012e+01 5.013e+01 5.014e+01 5.015e+01 5.016e+01 5.017e+01 5.018e+01\n",
      " 5.019e+01 5.020e+01 5.021e+01 5.022e+01 5.023e+01 5.024e+01 5.025e+01\n",
      " 5.026e+01 5.027e+01 5.028e+01 5.029e+01 5.030e+01 5.031e+01 5.032e+01\n",
      " 5.033e+01 5.034e+01 5.035e+01 5.036e+01 5.037e+01 5.038e+01 5.039e+01\n",
      " 5.040e+01 5.041e+01 5.042e+01 5.043e+01 5.044e+01 5.045e+01 5.046e+01\n",
      " 5.047e+01 5.048e+01 5.049e+01 5.050e+01 5.051e+01 5.052e+01 5.053e+01\n",
      " 5.054e+01 5.055e+01 5.056e+01 5.057e+01 5.058e+01 5.059e+01 5.060e+01\n",
      " 5.061e+01 5.062e+01 5.063e+01 5.064e+01 5.065e+01 5.066e+01 5.067e+01\n",
      " 5.068e+01 5.069e+01 5.070e+01 5.071e+01 5.072e+01 5.073e+01 5.074e+01\n",
      " 5.075e+01 5.076e+01 5.077e+01 5.078e+01 5.079e+01 5.080e+01 5.081e+01\n",
      " 5.082e+01 5.083e+01 5.084e+01 5.085e+01 5.086e+01 5.087e+01 5.088e+01\n",
      " 5.089e+01 5.090e+01 5.091e+01 5.092e+01 5.093e+01 5.094e+01 5.095e+01\n",
      " 5.096e+01 5.097e+01 5.098e+01 5.099e+01 5.100e+01 5.101e+01 5.102e+01\n",
      " 5.103e+01 5.104e+01 5.105e+01 5.106e+01 5.107e+01 5.108e+01 5.109e+01\n",
      " 5.110e+01 5.111e+01 5.112e+01 5.113e+01 5.114e+01 5.115e+01 5.116e+01\n",
      " 5.117e+01 5.118e+01 5.119e+01 5.120e+01 5.121e+01 5.122e+01 5.123e+01\n",
      " 5.124e+01 5.125e+01 5.126e+01 5.127e+01 5.128e+01 5.129e+01 5.130e+01\n",
      " 5.131e+01 5.132e+01 5.133e+01 5.134e+01 5.135e+01 5.136e+01 5.137e+01\n",
      " 5.138e+01 5.139e+01 5.140e+01 5.141e+01 5.142e+01 5.143e+01 5.144e+01\n",
      " 5.145e+01 5.146e+01 5.147e+01 5.148e+01 5.149e+01 5.150e+01 5.151e+01\n",
      " 5.152e+01 5.153e+01 5.154e+01 5.155e+01 5.156e+01 5.157e+01 5.158e+01\n",
      " 5.159e+01 5.160e+01 5.161e+01 5.162e+01 5.163e+01 5.164e+01 5.165e+01\n",
      " 5.166e+01 5.167e+01 5.168e+01 5.169e+01 5.170e+01 5.171e+01 5.172e+01\n",
      " 5.173e+01 5.174e+01 5.175e+01 5.176e+01 5.177e+01 5.178e+01 5.179e+01\n",
      " 5.180e+01 5.181e+01 5.182e+01 5.183e+01 5.184e+01 5.185e+01 5.186e+01\n",
      " 5.187e+01 5.188e+01 5.189e+01 5.190e+01 5.191e+01 5.192e+01 5.193e+01\n",
      " 5.194e+01 5.195e+01 5.196e+01 5.197e+01 5.198e+01 5.199e+01 5.200e+01\n",
      " 5.201e+01 5.202e+01 5.203e+01 5.204e+01 5.205e+01 5.206e+01 5.207e+01\n",
      " 5.208e+01 5.209e+01 5.210e+01 5.211e+01 5.212e+01 5.213e+01 5.214e+01\n",
      " 5.215e+01 5.216e+01 5.217e+01 5.218e+01 5.219e+01 5.220e+01 5.221e+01\n",
      " 5.222e+01 5.223e+01 5.224e+01 5.225e+01 5.226e+01 5.227e+01 5.228e+01\n",
      " 5.229e+01 5.230e+01 5.231e+01 5.232e+01 5.233e+01 5.234e+01 5.235e+01\n",
      " 5.236e+01 5.237e+01 5.238e+01 5.239e+01 5.240e+01 5.241e+01 5.242e+01\n",
      " 5.243e+01 5.244e+01 5.245e+01 5.246e+01 5.247e+01 5.248e+01 5.249e+01\n",
      " 5.250e+01 5.251e+01 5.252e+01 5.253e+01 5.254e+01 5.255e+01 5.256e+01\n",
      " 5.257e+01 5.258e+01 5.259e+01 5.260e+01 5.261e+01 5.262e+01 5.263e+01\n",
      " 5.264e+01 5.265e+01 5.266e+01 5.267e+01 5.268e+01 5.269e+01 5.270e+01\n",
      " 5.271e+01 5.272e+01 5.273e+01 5.274e+01 5.275e+01 5.276e+01 5.277e+01\n",
      " 5.278e+01 5.279e+01 5.280e+01 5.281e+01 5.282e+01 5.283e+01 5.284e+01\n",
      " 5.285e+01 5.286e+01 5.287e+01 5.288e+01 5.289e+01 5.290e+01 5.291e+01\n",
      " 5.292e+01 5.293e+01 5.294e+01 5.295e+01 5.296e+01 5.297e+01 5.298e+01\n",
      " 5.299e+01 5.300e+01 5.301e+01 5.302e+01 5.303e+01 5.304e+01 5.305e+01\n",
      " 5.306e+01 5.307e+01 5.308e+01 5.309e+01 5.310e+01 5.311e+01 5.312e+01\n",
      " 5.313e+01 5.314e+01 5.315e+01 5.316e+01 5.317e+01 5.318e+01 5.319e+01\n",
      " 5.320e+01 5.321e+01 5.322e+01 5.323e+01 5.324e+01 5.325e+01 5.326e+01\n",
      " 5.327e+01 5.328e+01 5.329e+01 5.330e+01 5.331e+01 5.332e+01 5.333e+01\n",
      " 5.334e+01 5.335e+01 5.336e+01 5.337e+01 5.338e+01 5.339e+01 5.340e+01\n",
      " 5.341e+01 5.342e+01 5.343e+01 5.344e+01 5.345e+01 5.346e+01 5.347e+01\n",
      " 5.348e+01 5.349e+01 5.350e+01 5.351e+01 5.352e+01 5.353e+01 5.354e+01\n",
      " 5.355e+01 5.356e+01 5.357e+01 5.358e+01 5.359e+01 5.360e+01 5.361e+01\n",
      " 5.362e+01 5.363e+01 5.364e+01 5.365e+01 5.366e+01 5.367e+01 5.368e+01\n",
      " 5.369e+01 5.370e+01 5.371e+01 5.372e+01 5.373e+01 5.374e+01 5.375e+01\n",
      " 5.376e+01 5.377e+01 5.378e+01 5.379e+01 5.380e+01 5.381e+01 5.382e+01\n",
      " 5.383e+01 5.384e+01 5.385e+01 5.386e+01 5.387e+01 5.388e+01 5.389e+01\n",
      " 5.390e+01 5.391e+01 5.392e+01 5.393e+01 5.394e+01 5.395e+01 5.396e+01\n",
      " 5.397e+01 5.398e+01 5.399e+01 5.400e+01 5.401e+01 5.402e+01 5.403e+01\n",
      " 5.404e+01 5.405e+01 5.406e+01 5.407e+01 5.408e+01 5.409e+01 5.410e+01\n",
      " 5.411e+01 5.412e+01 5.413e+01 5.414e+01 5.415e+01 5.416e+01 5.417e+01\n",
      " 5.418e+01 5.419e+01 5.420e+01 5.421e+01 5.422e+01 5.423e+01 5.424e+01\n",
      " 5.425e+01 5.426e+01 5.427e+01 5.428e+01 5.429e+01 5.430e+01 5.431e+01\n",
      " 5.432e+01 5.433e+01 5.434e+01 5.435e+01 5.436e+01 5.437e+01 5.438e+01\n",
      " 5.439e+01 5.440e+01 5.441e+01 5.442e+01 5.443e+01 5.444e+01 5.445e+01\n",
      " 5.446e+01 5.447e+01 5.448e+01 5.449e+01 5.450e+01 5.451e+01 5.452e+01\n",
      " 5.453e+01 5.454e+01 5.455e+01 5.456e+01 5.457e+01 5.458e+01 5.459e+01\n",
      " 5.460e+01 5.461e+01 5.462e+01 5.463e+01 5.464e+01 5.465e+01 5.466e+01\n",
      " 5.467e+01 5.468e+01 5.469e+01 5.470e+01 5.471e+01 5.472e+01 5.473e+01\n",
      " 5.474e+01 5.475e+01 5.476e+01 5.477e+01 5.478e+01 5.479e+01 5.480e+01\n",
      " 5.481e+01 5.482e+01 5.483e+01 5.484e+01 5.485e+01 5.486e+01 5.487e+01\n",
      " 5.488e+01 5.489e+01 5.490e+01 5.491e+01 5.492e+01 5.493e+01 5.494e+01\n",
      " 5.495e+01 5.496e+01 5.497e+01 5.498e+01 5.499e+01 5.500e+01 5.501e+01\n",
      " 5.502e+01 5.503e+01 5.504e+01 5.505e+01 5.506e+01 5.507e+01 5.508e+01\n",
      " 5.509e+01 5.510e+01 5.511e+01 5.512e+01 5.513e+01 5.514e+01 5.515e+01\n",
      " 5.516e+01 5.517e+01 5.518e+01 5.519e+01 5.520e+01 5.521e+01 5.522e+01\n",
      " 5.523e+01 5.524e+01 5.525e+01 5.526e+01 5.527e+01 5.528e+01 5.529e+01\n",
      " 5.530e+01 5.531e+01 5.532e+01 5.533e+01 5.534e+01 5.535e+01 5.536e+01\n",
      " 5.537e+01 5.538e+01 5.539e+01 5.540e+01 5.541e+01 5.542e+01 5.543e+01\n",
      " 5.544e+01 5.545e+01 5.546e+01 5.547e+01 5.548e+01 5.549e+01 5.550e+01\n",
      " 5.551e+01 5.552e+01 5.553e+01 5.554e+01 5.555e+01 5.556e+01 5.557e+01\n",
      " 5.558e+01 5.559e+01 5.560e+01 5.561e+01 5.562e+01 5.563e+01 5.564e+01\n",
      " 5.565e+01 5.566e+01 5.567e+01 5.568e+01 5.569e+01 5.570e+01 5.571e+01\n",
      " 5.572e+01 5.573e+01 5.574e+01 5.575e+01 5.576e+01 5.577e+01 5.578e+01\n",
      " 5.579e+01 5.580e+01 5.581e+01 5.582e+01 5.583e+01 5.584e+01 5.585e+01\n",
      " 5.586e+01 5.587e+01 5.588e+01 5.589e+01 5.590e+01 5.591e+01 5.592e+01\n",
      " 5.593e+01 5.594e+01 5.595e+01 5.596e+01 5.597e+01 5.598e+01 5.599e+01\n",
      " 5.600e+01 5.601e+01 5.602e+01 5.603e+01 5.604e+01 5.605e+01 5.606e+01\n",
      " 5.607e+01 5.608e+01 5.609e+01 5.610e+01 5.611e+01 5.612e+01 5.613e+01\n",
      " 5.614e+01 5.615e+01 5.616e+01 5.617e+01 5.618e+01 5.619e+01 5.620e+01\n",
      " 5.621e+01 5.622e+01 5.623e+01 5.624e+01 5.625e+01 5.626e+01 5.627e+01\n",
      " 5.628e+01 5.629e+01 5.630e+01 5.631e+01 5.632e+01 5.633e+01 5.634e+01\n",
      " 5.635e+01 5.636e+01 5.637e+01 5.638e+01 5.639e+01 5.640e+01 5.641e+01\n",
      " 5.642e+01 5.643e+01 5.644e+01 5.645e+01 5.646e+01 5.647e+01 5.648e+01\n",
      " 5.649e+01 5.650e+01 5.651e+01 5.652e+01 5.653e+01 5.654e+01 5.655e+01\n",
      " 5.656e+01 5.657e+01 5.658e+01 5.659e+01 5.660e+01 5.661e+01 5.662e+01\n",
      " 5.663e+01 5.664e+01 5.665e+01 5.666e+01 5.667e+01 5.668e+01 5.669e+01\n",
      " 5.670e+01 5.671e+01 5.672e+01 5.673e+01 5.674e+01 5.675e+01 5.676e+01\n",
      " 5.677e+01 5.678e+01 5.679e+01 5.680e+01 5.681e+01 5.682e+01 5.683e+01\n",
      " 5.684e+01 5.685e+01 5.686e+01 5.687e+01 5.688e+01 5.689e+01 5.690e+01\n",
      " 5.691e+01 5.692e+01 5.693e+01 5.694e+01 5.695e+01 5.696e+01 5.697e+01\n",
      " 5.698e+01 5.699e+01 5.700e+01 5.701e+01 5.702e+01 5.703e+01 5.704e+01\n",
      " 5.705e+01 5.706e+01 5.707e+01 5.708e+01 5.709e+01 5.710e+01 5.711e+01\n",
      " 5.712e+01 5.713e+01 5.714e+01 5.715e+01 5.716e+01 5.717e+01 5.718e+01\n",
      " 5.719e+01 5.720e+01 5.721e+01 5.722e+01 5.723e+01 5.724e+01 5.725e+01\n",
      " 5.726e+01 5.727e+01 5.728e+01 5.729e+01 5.730e+01 5.731e+01 5.732e+01\n",
      " 5.733e+01 5.734e+01 5.735e+01 5.736e+01 5.737e+01 5.738e+01 5.739e+01\n",
      " 5.740e+01 5.741e+01 5.742e+01 5.743e+01 5.744e+01 5.745e+01 5.746e+01\n",
      " 5.747e+01 5.748e+01 5.749e+01 5.750e+01 5.751e+01 5.752e+01 5.753e+01\n",
      " 5.754e+01 5.755e+01 5.756e+01 5.757e+01 5.758e+01 5.759e+01 5.760e+01\n",
      " 5.761e+01 5.762e+01 5.763e+01 5.764e+01 5.765e+01 5.766e+01 5.767e+01\n",
      " 5.768e+01 5.769e+01 5.770e+01 5.771e+01 5.772e+01 5.773e+01 5.774e+01\n",
      " 5.775e+01 5.776e+01 5.777e+01 5.778e+01 5.779e+01 5.780e+01 5.781e+01\n",
      " 5.782e+01 5.783e+01 5.784e+01 5.785e+01 5.786e+01 5.787e+01 5.788e+01\n",
      " 5.789e+01 5.790e+01 5.791e+01 5.792e+01 5.793e+01 5.794e+01 5.795e+01\n",
      " 5.796e+01 5.797e+01 5.798e+01 5.799e+01 5.800e+01 5.801e+01 5.802e+01\n",
      " 5.803e+01 5.804e+01 5.805e+01 5.806e+01 5.807e+01 5.808e+01 5.809e+01\n",
      " 5.810e+01 5.811e+01 5.812e+01 5.813e+01 5.814e+01 5.815e+01 5.816e+01\n",
      " 5.817e+01 5.818e+01 5.819e+01 5.820e+01 5.821e+01 5.822e+01 5.823e+01\n",
      " 5.824e+01 5.825e+01 5.826e+01 5.827e+01 5.828e+01 5.829e+01 5.830e+01\n",
      " 5.831e+01 5.832e+01 5.833e+01 5.834e+01 5.835e+01 5.836e+01 5.837e+01\n",
      " 5.838e+01 5.839e+01 5.840e+01 5.841e+01 5.842e+01 5.843e+01 5.844e+01\n",
      " 5.845e+01 5.846e+01 5.847e+01 5.848e+01 5.849e+01 5.850e+01 5.851e+01\n",
      " 5.852e+01 5.853e+01 5.854e+01 5.855e+01 5.856e+01 5.857e+01 5.858e+01\n",
      " 5.859e+01 5.860e+01 5.861e+01 5.862e+01 5.863e+01 5.864e+01 5.865e+01\n",
      " 5.866e+01 5.867e+01 5.868e+01 5.869e+01 5.870e+01 5.871e+01 5.872e+01\n",
      " 5.873e+01 5.874e+01 5.875e+01 5.876e+01 5.877e+01 5.878e+01 5.879e+01\n",
      " 5.880e+01 5.881e+01 5.882e+01 5.883e+01 5.884e+01 5.885e+01 5.886e+01\n",
      " 5.887e+01 5.888e+01 5.889e+01 5.890e+01 5.891e+01 5.892e+01 5.893e+01\n",
      " 5.894e+01 5.895e+01 5.896e+01 5.897e+01 5.898e+01 5.899e+01 5.900e+01\n",
      " 5.901e+01 5.902e+01 5.903e+01 5.904e+01 5.905e+01 5.906e+01 5.907e+01\n",
      " 5.908e+01 5.909e+01 5.910e+01 5.911e+01 5.912e+01 5.913e+01 5.914e+01\n",
      " 5.915e+01 5.916e+01 5.917e+01 5.918e+01 5.919e+01 5.920e+01 5.921e+01\n",
      " 5.922e+01 5.923e+01 5.924e+01 5.925e+01 5.926e+01 5.927e+01 5.928e+01\n",
      " 5.929e+01 5.930e+01 5.931e+01 5.932e+01 5.933e+01 5.934e+01 5.935e+01\n",
      " 5.936e+01 5.937e+01 5.938e+01 5.939e+01 5.940e+01 5.941e+01 5.942e+01\n",
      " 5.943e+01 5.944e+01 5.945e+01 5.946e+01 5.947e+01 5.948e+01 5.949e+01\n",
      " 5.950e+01 5.951e+01 5.952e+01 5.953e+01 5.954e+01 5.955e+01 5.956e+01\n",
      " 5.957e+01 5.958e+01 5.959e+01 5.960e+01 5.961e+01 5.962e+01 5.963e+01\n",
      " 5.964e+01 5.965e+01 5.966e+01 5.967e+01 5.968e+01 5.969e+01 5.970e+01\n",
      " 5.971e+01 5.972e+01 5.973e+01 5.974e+01 5.975e+01 5.976e+01 5.977e+01\n",
      " 5.978e+01 5.979e+01 5.980e+01 5.981e+01 5.982e+01 5.983e+01 5.984e+01\n",
      " 5.985e+01 5.986e+01 5.987e+01 5.988e+01 5.989e+01 5.990e+01 5.991e+01\n",
      " 5.992e+01 5.993e+01 5.994e+01 5.995e+01 5.996e+01 5.997e+01 5.998e+01\n",
      " 5.999e+01 6.000e+01 6.001e+01 6.002e+01 6.003e+01 6.004e+01 6.005e+01\n",
      " 6.006e+01 6.007e+01 6.008e+01 6.009e+01 6.010e+01 6.011e+01 6.012e+01\n",
      " 6.013e+01 6.014e+01 6.015e+01 6.016e+01 6.017e+01 6.018e+01 6.019e+01\n",
      " 6.020e+01 6.021e+01 6.022e+01 6.023e+01 6.024e+01 6.025e+01 6.026e+01\n",
      " 6.027e+01 6.028e+01 6.029e+01 6.030e+01 6.031e+01 6.032e+01 6.033e+01\n",
      " 6.034e+01 6.035e+01 6.036e+01 6.037e+01 6.038e+01 6.039e+01 6.040e+01\n",
      " 6.041e+01 6.042e+01 6.043e+01 6.044e+01 6.045e+01 6.046e+01 6.047e+01\n",
      " 6.048e+01 6.049e+01 6.050e+01 6.051e+01 6.052e+01 6.053e+01 6.054e+01\n",
      " 6.055e+01 6.056e+01 6.057e+01 6.058e+01 6.059e+01 6.060e+01 6.061e+01\n",
      " 6.062e+01 6.063e+01 6.064e+01 6.065e+01 6.066e+01 6.067e+01 6.068e+01\n",
      " 6.069e+01 6.070e+01 6.071e+01 6.072e+01 6.073e+01 6.074e+01 6.075e+01\n",
      " 6.076e+01 6.077e+01 6.078e+01 6.079e+01 6.080e+01 6.081e+01 6.082e+01\n",
      " 6.083e+01 6.084e+01 6.085e+01 6.086e+01 6.087e+01 6.088e+01 6.089e+01\n",
      " 6.090e+01 6.091e+01 6.092e+01 6.093e+01 6.094e+01 6.095e+01 6.096e+01\n",
      " 6.097e+01 6.098e+01 6.099e+01 6.100e+01 6.101e+01 6.102e+01 6.103e+01\n",
      " 6.104e+01 6.105e+01 6.106e+01 6.107e+01 6.108e+01 6.109e+01 6.110e+01\n",
      " 6.111e+01 6.112e+01 6.113e+01 6.114e+01 6.115e+01 6.116e+01 6.117e+01\n",
      " 6.118e+01 6.119e+01 6.120e+01 6.121e+01 6.122e+01 6.123e+01 6.124e+01\n",
      " 6.125e+01 6.126e+01 6.127e+01 6.128e+01 6.129e+01 6.130e+01 6.131e+01\n",
      " 6.132e+01 6.133e+01 6.134e+01 6.135e+01 6.136e+01 6.137e+01 6.138e+01\n",
      " 6.139e+01 6.140e+01 6.141e+01 6.142e+01 6.143e+01 6.144e+01 6.145e+01\n",
      " 6.146e+01 6.147e+01 6.148e+01 6.149e+01 6.150e+01 6.151e+01 6.152e+01\n",
      " 6.153e+01 6.154e+01 6.155e+01 6.156e+01 6.157e+01 6.158e+01 6.159e+01\n",
      " 6.160e+01 6.161e+01 6.162e+01 6.163e+01 6.164e+01 6.165e+01 6.166e+01\n",
      " 6.167e+01 6.168e+01 6.169e+01 6.170e+01 6.171e+01 6.172e+01 6.173e+01\n",
      " 6.174e+01 6.175e+01 6.176e+01 6.177e+01 6.178e+01 6.179e+01 6.180e+01\n",
      " 6.181e+01 6.182e+01 6.183e+01 6.184e+01 6.185e+01 6.186e+01 6.187e+01\n",
      " 6.188e+01 6.189e+01 6.190e+01 6.191e+01 6.192e+01 6.193e+01 6.194e+01\n",
      " 6.195e+01 6.196e+01 6.197e+01 6.198e+01 6.199e+01 6.200e+01 6.201e+01\n",
      " 6.202e+01 6.203e+01 6.204e+01 6.205e+01 6.206e+01 6.207e+01 6.208e+01\n",
      " 6.209e+01 6.210e+01 6.211e+01 6.212e+01 6.213e+01 6.214e+01 6.215e+01\n",
      " 6.216e+01 6.217e+01 6.218e+01 6.219e+01 6.220e+01 6.221e+01 6.222e+01\n",
      " 6.223e+01 6.224e+01 6.225e+01 6.226e+01 6.227e+01 6.228e+01 6.229e+01\n",
      " 6.230e+01 6.231e+01 6.232e+01 6.233e+01 6.234e+01 6.235e+01 6.236e+01\n",
      " 6.237e+01 6.238e+01 6.239e+01 6.240e+01 6.241e+01 6.242e+01 6.243e+01\n",
      " 6.244e+01 6.245e+01 6.246e+01 6.247e+01 6.248e+01 6.249e+01 6.250e+01\n",
      " 6.251e+01 6.252e+01 6.253e+01 6.254e+01 6.255e+01 6.256e+01 6.257e+01\n",
      " 6.258e+01 6.259e+01 6.260e+01 6.261e+01 6.262e+01 6.263e+01 6.264e+01\n",
      " 6.265e+01 6.266e+01 6.267e+01 6.268e+01 6.269e+01 6.270e+01 6.271e+01\n",
      " 6.272e+01 6.273e+01 6.274e+01 6.275e+01 6.276e+01 6.277e+01 6.278e+01\n",
      " 6.279e+01 6.280e+01 6.281e+01 6.282e+01 6.283e+01 6.284e+01 6.285e+01\n",
      " 6.286e+01 6.287e+01 6.288e+01 6.289e+01 6.290e+01 6.291e+01 6.292e+01\n",
      " 6.293e+01 6.294e+01 6.295e+01 6.296e+01 6.297e+01 6.298e+01 6.299e+01\n",
      " 6.300e+01 6.301e+01 6.302e+01 6.303e+01 6.304e+01 6.305e+01 6.306e+01\n",
      " 6.307e+01 6.308e+01 6.309e+01 6.310e+01 6.311e+01 6.312e+01 6.313e+01\n",
      " 6.314e+01 6.315e+01 6.316e+01 6.317e+01 6.318e+01 6.319e+01 6.320e+01\n",
      " 6.321e+01 6.322e+01 6.323e+01 6.324e+01 6.325e+01 6.326e+01 6.327e+01\n",
      " 6.328e+01 6.329e+01 6.330e+01 6.331e+01 6.332e+01 6.333e+01 6.334e+01\n",
      " 6.335e+01 6.336e+01 6.337e+01 6.338e+01 6.339e+01 6.340e+01 6.341e+01\n",
      " 6.342e+01 6.343e+01 6.344e+01 6.345e+01 6.346e+01 6.347e+01 6.348e+01\n",
      " 6.349e+01 6.350e+01 6.351e+01 6.352e+01 6.353e+01 6.354e+01 6.355e+01\n",
      " 6.356e+01 6.357e+01 6.358e+01 6.359e+01 6.360e+01 6.361e+01 6.362e+01\n",
      " 6.363e+01 6.364e+01 6.365e+01 6.366e+01 6.367e+01 6.368e+01 6.369e+01\n",
      " 6.370e+01 6.371e+01 6.372e+01 6.373e+01 6.374e+01 6.375e+01 6.376e+01\n",
      " 6.377e+01 6.378e+01 6.379e+01 6.380e+01 6.381e+01 6.382e+01 6.383e+01\n",
      " 6.384e+01 6.385e+01 6.386e+01 6.387e+01 6.388e+01 6.389e+01 6.390e+01\n",
      " 6.391e+01 6.392e+01 6.393e+01 6.394e+01 6.395e+01 6.396e+01 6.397e+01\n",
      " 6.398e+01 6.399e+01 6.400e+01 6.401e+01 6.402e+01 6.403e+01 6.404e+01\n",
      " 6.405e+01 6.406e+01 6.407e+01 6.408e+01 6.409e+01 6.410e+01 6.411e+01\n",
      " 6.412e+01 6.413e+01 6.414e+01 6.415e+01 6.416e+01 6.417e+01 6.418e+01\n",
      " 6.419e+01 6.420e+01 6.421e+01 6.422e+01 6.423e+01 6.424e+01 6.425e+01\n",
      " 6.426e+01 6.427e+01 6.428e+01 6.429e+01 6.430e+01 6.431e+01 6.432e+01\n",
      " 6.433e+01 6.434e+01 6.435e+01 6.436e+01 6.437e+01 6.438e+01 6.439e+01\n",
      " 6.440e+01 6.441e+01 6.442e+01 6.443e+01 6.444e+01 6.445e+01 6.446e+01\n",
      " 6.447e+01 6.448e+01 6.449e+01 6.450e+01 6.451e+01 6.452e+01 6.453e+01\n",
      " 6.454e+01 6.455e+01 6.456e+01 6.457e+01 6.458e+01 6.459e+01 6.460e+01\n",
      " 6.461e+01 6.462e+01 6.463e+01 6.464e+01 6.465e+01 6.466e+01 6.467e+01\n",
      " 6.468e+01 6.469e+01 6.470e+01 6.471e+01 6.472e+01 6.473e+01 6.474e+01\n",
      " 6.475e+01 6.476e+01 6.477e+01 6.478e+01 6.479e+01 6.480e+01 6.481e+01\n",
      " 6.482e+01 6.483e+01 6.484e+01 6.485e+01 6.486e+01 6.487e+01 6.488e+01\n",
      " 6.489e+01 6.490e+01 6.491e+01 6.492e+01 6.493e+01 6.494e+01 6.495e+01\n",
      " 6.496e+01 6.497e+01 6.498e+01 6.499e+01 6.500e+01 6.501e+01 6.502e+01\n",
      " 6.503e+01 6.504e+01 6.505e+01 6.506e+01 6.507e+01 6.508e+01 6.509e+01\n",
      " 6.510e+01 6.511e+01 6.512e+01 6.513e+01 6.514e+01 6.515e+01 6.516e+01\n",
      " 6.517e+01 6.518e+01 6.519e+01 6.520e+01 6.521e+01 6.522e+01 6.523e+01\n",
      " 6.524e+01 6.525e+01 6.526e+01 6.527e+01 6.528e+01 6.529e+01 6.530e+01\n",
      " 6.531e+01 6.532e+01 6.533e+01 6.534e+01 6.535e+01 6.536e+01 6.537e+01\n",
      " 6.538e+01 6.539e+01 6.540e+01 6.541e+01 6.542e+01 6.543e+01 6.544e+01\n",
      " 6.545e+01 6.546e+01 6.547e+01 6.548e+01 6.549e+01 6.550e+01 6.551e+01\n",
      " 6.552e+01 6.553e+01 6.554e+01 6.555e+01 6.556e+01 6.557e+01 6.558e+01\n",
      " 6.559e+01 6.560e+01 6.561e+01 6.562e+01 6.563e+01 6.564e+01 6.565e+01\n",
      " 6.566e+01 6.567e+01 6.568e+01 6.569e+01 6.570e+01 6.571e+01 6.572e+01\n",
      " 6.573e+01 6.574e+01 6.575e+01 6.576e+01 6.577e+01 6.578e+01 6.579e+01\n",
      " 6.580e+01 6.581e+01 6.582e+01 6.583e+01 6.584e+01 6.585e+01 6.586e+01\n",
      " 6.587e+01 6.588e+01 6.589e+01 6.590e+01 6.591e+01 6.592e+01 6.593e+01\n",
      " 6.594e+01 6.595e+01 6.596e+01 6.597e+01 6.598e+01 6.599e+01 6.600e+01\n",
      " 6.601e+01 6.602e+01 6.603e+01 6.604e+01 6.605e+01 6.606e+01 6.607e+01\n",
      " 6.608e+01 6.609e+01 6.610e+01 6.611e+01 6.612e+01 6.613e+01 6.614e+01\n",
      " 6.615e+01 6.616e+01 6.617e+01 6.618e+01 6.619e+01 6.620e+01 6.621e+01\n",
      " 6.622e+01 6.623e+01 6.624e+01 6.625e+01 6.626e+01 6.627e+01 6.628e+01\n",
      " 6.629e+01 6.630e+01 6.631e+01 6.632e+01 6.633e+01 6.634e+01 6.635e+01\n",
      " 6.636e+01 6.637e+01 6.638e+01 6.639e+01 6.640e+01 6.641e+01 6.642e+01\n",
      " 6.643e+01 6.644e+01 6.645e+01 6.646e+01 6.647e+01 6.648e+01 6.649e+01\n",
      " 6.650e+01 6.651e+01 6.652e+01 6.653e+01 6.654e+01 6.655e+01 6.656e+01\n",
      " 6.657e+01 6.658e+01 6.659e+01 6.660e+01 6.661e+01 6.662e+01 6.663e+01\n",
      " 6.664e+01 6.665e+01 6.666e+01 6.667e+01 6.668e+01 6.669e+01 6.670e+01\n",
      " 6.671e+01 6.672e+01 6.673e+01 6.674e+01 6.675e+01 6.676e+01 6.677e+01\n",
      " 6.678e+01 6.679e+01 6.680e+01 6.681e+01 6.682e+01 6.683e+01 6.684e+01\n",
      " 6.685e+01 6.686e+01 6.687e+01 6.688e+01 6.689e+01 6.690e+01 6.691e+01\n",
      " 6.692e+01 6.693e+01 6.694e+01 6.695e+01 6.696e+01 6.697e+01 6.698e+01\n",
      " 6.699e+01 6.700e+01 6.701e+01 6.702e+01 6.703e+01 6.704e+01 6.705e+01\n",
      " 6.706e+01 6.707e+01 6.708e+01 6.709e+01 6.710e+01 6.711e+01 6.712e+01\n",
      " 6.713e+01 6.714e+01 6.715e+01 6.716e+01 6.717e+01 6.718e+01 6.719e+01\n",
      " 6.720e+01 6.721e+01 6.722e+01 6.723e+01 6.724e+01 6.725e+01 6.726e+01\n",
      " 6.727e+01 6.728e+01 6.729e+01 6.730e+01 6.731e+01 6.732e+01 6.733e+01\n",
      " 6.734e+01 6.735e+01 6.736e+01 6.737e+01 6.738e+01 6.739e+01 6.740e+01\n",
      " 6.741e+01 6.742e+01 6.743e+01 6.744e+01 6.745e+01 6.746e+01 6.747e+01\n",
      " 6.748e+01 6.749e+01 6.750e+01 6.751e+01 6.752e+01 6.753e+01 6.754e+01\n",
      " 6.755e+01 6.756e+01 6.757e+01 6.758e+01 6.759e+01 6.760e+01 6.761e+01\n",
      " 6.762e+01 6.763e+01 6.764e+01 6.765e+01 6.766e+01 6.767e+01 6.768e+01\n",
      " 6.769e+01 6.770e+01 6.771e+01 6.772e+01 6.773e+01 6.774e+01 6.775e+01\n",
      " 6.776e+01 6.777e+01 6.778e+01 6.779e+01 6.780e+01 6.781e+01 6.782e+01\n",
      " 6.783e+01 6.784e+01 6.785e+01 6.786e+01 6.787e+01 6.788e+01 6.789e+01\n",
      " 6.790e+01 6.791e+01 6.792e+01 6.793e+01 6.794e+01 6.795e+01 6.796e+01\n",
      " 6.797e+01 6.798e+01 6.799e+01 6.800e+01 6.801e+01 6.802e+01 6.803e+01\n",
      " 6.804e+01 6.805e+01 6.806e+01 6.807e+01 6.808e+01 6.809e+01 6.810e+01\n",
      " 6.811e+01 6.812e+01 6.813e+01 6.814e+01 6.815e+01 6.816e+01 6.817e+01\n",
      " 6.818e+01 6.819e+01 6.820e+01 6.821e+01 6.822e+01 6.823e+01 6.824e+01\n",
      " 6.825e+01 6.826e+01 6.827e+01 6.828e+01 6.829e+01 6.830e+01 6.831e+01\n",
      " 6.832e+01 6.833e+01 6.834e+01 6.835e+01 6.836e+01 6.837e+01 6.838e+01\n",
      " 6.839e+01 6.840e+01 6.841e+01 6.842e+01 6.843e+01 6.844e+01 6.845e+01\n",
      " 6.846e+01 6.847e+01 6.848e+01 6.849e+01 6.850e+01 6.851e+01 6.852e+01\n",
      " 6.853e+01 6.854e+01 6.855e+01 6.856e+01 6.857e+01 6.858e+01 6.859e+01\n",
      " 6.860e+01 6.861e+01 6.862e+01 6.863e+01 6.864e+01 6.865e+01 6.866e+01\n",
      " 6.867e+01 6.868e+01 6.869e+01 6.870e+01 6.871e+01 6.872e+01 6.873e+01\n",
      " 6.874e+01 6.875e+01 6.876e+01 6.877e+01 6.878e+01 6.879e+01 6.880e+01\n",
      " 6.881e+01 6.882e+01 6.883e+01 6.884e+01 6.885e+01 6.886e+01 6.887e+01\n",
      " 6.888e+01 6.889e+01 6.890e+01 6.891e+01 6.892e+01 6.893e+01 6.894e+01\n",
      " 6.895e+01 6.896e+01 6.897e+01 6.898e+01 6.899e+01 6.900e+01 6.901e+01\n",
      " 6.902e+01 6.903e+01 6.904e+01 6.905e+01 6.906e+01 6.907e+01 6.908e+01\n",
      " 6.909e+01 6.910e+01 6.911e+01 6.912e+01 6.913e+01 6.914e+01 6.915e+01\n",
      " 6.916e+01 6.917e+01 6.918e+01 6.919e+01 6.920e+01 6.921e+01 6.922e+01\n",
      " 6.923e+01 6.924e+01 6.925e+01 6.926e+01 6.927e+01 6.928e+01 6.929e+01\n",
      " 6.930e+01 6.931e+01 6.932e+01 6.933e+01 6.934e+01 6.935e+01 6.936e+01\n",
      " 6.937e+01 6.938e+01 6.939e+01 6.940e+01 6.941e+01 6.942e+01 6.943e+01\n",
      " 6.944e+01 6.945e+01 6.946e+01 6.947e+01 6.948e+01 6.949e+01 6.950e+01\n",
      " 6.951e+01 6.952e+01 6.953e+01 6.954e+01 6.955e+01 6.956e+01 6.957e+01\n",
      " 6.958e+01 6.959e+01 6.960e+01 6.961e+01 6.962e+01 6.963e+01 6.964e+01\n",
      " 6.965e+01 6.966e+01 6.967e+01 6.968e+01 6.969e+01 6.970e+01 6.971e+01\n",
      " 6.972e+01 6.973e+01 6.974e+01 6.975e+01 6.976e+01 6.977e+01 6.978e+01\n",
      " 6.979e+01 6.980e+01 6.981e+01 6.982e+01 6.983e+01 6.984e+01 6.985e+01\n",
      " 6.986e+01 6.987e+01 6.988e+01 6.989e+01 6.990e+01 6.991e+01 6.992e+01\n",
      " 6.993e+01 6.994e+01 6.995e+01 6.996e+01 6.997e+01 6.998e+01 6.999e+01\n",
      " 7.000e+01 7.001e+01 7.002e+01 7.003e+01 7.004e+01 7.005e+01 7.006e+01\n",
      " 7.007e+01 7.008e+01 7.009e+01 7.010e+01 7.011e+01 7.012e+01 7.013e+01\n",
      " 7.014e+01 7.015e+01 7.016e+01 7.017e+01 7.018e+01 7.019e+01 7.020e+01\n",
      " 7.021e+01 7.022e+01 7.023e+01 7.024e+01 7.025e+01 7.026e+01 7.027e+01\n",
      " 7.028e+01 7.029e+01 7.030e+01 7.031e+01 7.032e+01 7.033e+01 7.034e+01\n",
      " 7.035e+01 7.036e+01 7.037e+01 7.038e+01 7.039e+01 7.040e+01 7.041e+01\n",
      " 7.042e+01 7.043e+01 7.044e+01 7.045e+01 7.046e+01 7.047e+01 7.048e+01\n",
      " 7.049e+01 7.050e+01 7.051e+01 7.052e+01 7.053e+01 7.054e+01 7.055e+01\n",
      " 7.056e+01 7.057e+01 7.058e+01 7.059e+01 7.060e+01 7.061e+01 7.062e+01\n",
      " 7.063e+01 7.064e+01 7.065e+01 7.066e+01 7.067e+01 7.068e+01 7.069e+01\n",
      " 7.070e+01 7.071e+01 7.072e+01 7.073e+01 7.074e+01 7.075e+01 7.076e+01\n",
      " 7.077e+01 7.078e+01 7.079e+01 7.080e+01 7.081e+01 7.082e+01 7.083e+01\n",
      " 7.084e+01 7.085e+01 7.086e+01 7.087e+01 7.088e+01 7.089e+01 7.090e+01\n",
      " 7.091e+01 7.092e+01 7.093e+01 7.094e+01 7.095e+01 7.096e+01 7.097e+01\n",
      " 7.098e+01 7.099e+01 7.100e+01 7.101e+01 7.102e+01 7.103e+01 7.104e+01\n",
      " 7.105e+01 7.106e+01 7.107e+01 7.108e+01 7.109e+01 7.110e+01 7.111e+01\n",
      " 7.112e+01 7.113e+01 7.114e+01 7.115e+01 7.116e+01 7.117e+01 7.118e+01\n",
      " 7.119e+01 7.120e+01 7.121e+01 7.122e+01 7.123e+01 7.124e+01 7.125e+01\n",
      " 7.126e+01 7.127e+01 7.128e+01 7.129e+01 7.130e+01 7.131e+01 7.132e+01\n",
      " 7.133e+01 7.134e+01 7.135e+01 7.136e+01 7.137e+01 7.138e+01 7.139e+01\n",
      " 7.140e+01 7.141e+01 7.142e+01 7.143e+01 7.144e+01 7.145e+01 7.146e+01\n",
      " 7.147e+01 7.148e+01 7.149e+01 7.150e+01 7.151e+01 7.152e+01 7.153e+01\n",
      " 7.154e+01 7.155e+01 7.156e+01 7.157e+01 7.158e+01 7.159e+01 7.160e+01\n",
      " 7.161e+01 7.162e+01 7.163e+01 7.164e+01 7.165e+01 7.166e+01 7.167e+01\n",
      " 7.168e+01 7.169e+01 7.170e+01 7.171e+01 7.172e+01 7.173e+01 7.174e+01\n",
      " 7.175e+01 7.176e+01 7.177e+01 7.178e+01 7.179e+01 7.180e+01 7.181e+01\n",
      " 7.182e+01 7.183e+01 7.184e+01 7.185e+01 7.186e+01 7.187e+01 7.188e+01\n",
      " 7.189e+01 7.190e+01 7.191e+01 7.192e+01 7.193e+01 7.194e+01 7.195e+01\n",
      " 7.196e+01 7.197e+01 7.198e+01 7.199e+01 7.200e+01 7.201e+01 7.202e+01\n",
      " 7.203e+01 7.204e+01 7.205e+01 7.206e+01 7.207e+01 7.208e+01 7.209e+01\n",
      " 7.210e+01 7.211e+01 7.212e+01 7.213e+01 7.214e+01 7.215e+01 7.216e+01\n",
      " 7.217e+01 7.218e+01 7.219e+01 7.220e+01 7.221e+01 7.222e+01 7.223e+01\n",
      " 7.224e+01 7.225e+01 7.226e+01 7.227e+01 7.228e+01 7.229e+01 7.230e+01\n",
      " 7.231e+01 7.232e+01 7.233e+01 7.234e+01 7.235e+01 7.236e+01 7.237e+01\n",
      " 7.238e+01 7.239e+01 7.240e+01 7.241e+01 7.242e+01 7.243e+01 7.244e+01\n",
      " 7.245e+01 7.246e+01 7.247e+01 7.248e+01 7.249e+01 7.250e+01 7.251e+01\n",
      " 7.252e+01 7.253e+01 7.254e+01 7.255e+01 7.256e+01 7.257e+01 7.258e+01\n",
      " 7.259e+01 7.260e+01 7.261e+01 7.262e+01 7.263e+01 7.264e+01 7.265e+01\n",
      " 7.266e+01 7.267e+01 7.268e+01 7.269e+01 7.270e+01 7.271e+01 7.272e+01\n",
      " 7.273e+01 7.274e+01 7.275e+01 7.276e+01 7.277e+01 7.278e+01 7.279e+01\n",
      " 7.280e+01 7.281e+01 7.282e+01 7.283e+01 7.284e+01 7.285e+01 7.286e+01\n",
      " 7.287e+01 7.288e+01 7.289e+01 7.290e+01 7.291e+01 7.292e+01 7.293e+01\n",
      " 7.294e+01 7.295e+01 7.296e+01 7.297e+01 7.298e+01 7.299e+01 7.300e+01\n",
      " 7.301e+01 7.302e+01 7.303e+01 7.304e+01 7.305e+01 7.306e+01 7.307e+01\n",
      " 7.308e+01 7.309e+01 7.310e+01 7.311e+01 7.312e+01 7.313e+01 7.314e+01\n",
      " 7.315e+01 7.316e+01 7.317e+01 7.318e+01 7.319e+01 7.320e+01 7.321e+01\n",
      " 7.322e+01 7.323e+01 7.324e+01 7.325e+01 7.326e+01 7.327e+01 7.328e+01\n",
      " 7.329e+01 7.330e+01 7.331e+01 7.332e+01 7.333e+01 7.334e+01 7.335e+01\n",
      " 7.336e+01 7.337e+01 7.338e+01 7.339e+01 7.340e+01 7.341e+01 7.342e+01\n",
      " 7.343e+01 7.344e+01 7.345e+01 7.346e+01 7.347e+01 7.348e+01 7.349e+01\n",
      " 7.350e+01 7.351e+01 7.352e+01 7.353e+01 7.354e+01 7.355e+01 7.356e+01\n",
      " 7.357e+01 7.358e+01 7.359e+01 7.360e+01 7.361e+01 7.362e+01 7.363e+01\n",
      " 7.364e+01 7.365e+01 7.366e+01 7.367e+01 7.368e+01 7.369e+01 7.370e+01\n",
      " 7.371e+01 7.372e+01 7.373e+01 7.374e+01 7.375e+01 7.376e+01 7.377e+01\n",
      " 7.378e+01 7.379e+01 7.380e+01 7.381e+01 7.382e+01 7.383e+01 7.384e+01\n",
      " 7.385e+01 7.386e+01 7.387e+01 7.388e+01 7.389e+01 7.390e+01 7.391e+01\n",
      " 7.392e+01 7.393e+01 7.394e+01 7.395e+01 7.396e+01 7.397e+01 7.398e+01\n",
      " 7.399e+01 7.400e+01 7.401e+01 7.402e+01 7.403e+01 7.404e+01 7.405e+01\n",
      " 7.406e+01 7.407e+01 7.408e+01 7.409e+01 7.410e+01 7.411e+01 7.412e+01\n",
      " 7.413e+01 7.414e+01 7.415e+01 7.416e+01 7.417e+01 7.418e+01 7.419e+01\n",
      " 7.420e+01 7.421e+01 7.422e+01 7.423e+01 7.424e+01 7.425e+01 7.426e+01\n",
      " 7.427e+01 7.428e+01 7.429e+01 7.430e+01 7.431e+01 7.432e+01 7.433e+01\n",
      " 7.434e+01 7.435e+01 7.436e+01 7.437e+01 7.438e+01 7.439e+01 7.440e+01\n",
      " 7.441e+01 7.442e+01 7.443e+01 7.444e+01 7.445e+01 7.446e+01 7.447e+01\n",
      " 7.448e+01 7.449e+01 7.450e+01 7.451e+01 7.452e+01 7.453e+01 7.454e+01\n",
      " 7.455e+01 7.456e+01 7.457e+01 7.458e+01 7.459e+01 7.460e+01 7.461e+01\n",
      " 7.462e+01 7.463e+01 7.464e+01 7.465e+01 7.466e+01 7.467e+01 7.468e+01\n",
      " 7.469e+01 7.470e+01 7.471e+01 7.472e+01 7.473e+01 7.474e+01 7.475e+01\n",
      " 7.476e+01 7.477e+01 7.478e+01 7.479e+01 7.480e+01 7.481e+01 7.482e+01\n",
      " 7.483e+01 7.484e+01 7.485e+01 7.486e+01 7.487e+01 7.488e+01 7.489e+01\n",
      " 7.490e+01 7.491e+01 7.492e+01 7.493e+01 7.494e+01 7.495e+01 7.496e+01\n",
      " 7.497e+01 7.498e+01 7.499e+01 7.500e+01 7.501e+01 7.502e+01 7.503e+01\n",
      " 7.504e+01 7.505e+01 7.506e+01 7.507e+01 7.508e+01 7.509e+01 7.510e+01\n",
      " 7.511e+01 7.512e+01 7.513e+01 7.514e+01 7.515e+01 7.516e+01 7.517e+01\n",
      " 7.518e+01 7.519e+01 7.520e+01 7.521e+01 7.522e+01 7.523e+01 7.524e+01\n",
      " 7.525e+01 7.526e+01 7.527e+01 7.528e+01 7.529e+01 7.530e+01 7.531e+01\n",
      " 7.532e+01 7.533e+01 7.534e+01 7.535e+01 7.536e+01 7.537e+01 7.538e+01\n",
      " 7.539e+01 7.540e+01 7.541e+01 7.542e+01 7.543e+01 7.544e+01 7.545e+01\n",
      " 7.546e+01 7.547e+01 7.548e+01 7.549e+01 7.550e+01 7.551e+01 7.552e+01\n",
      " 7.553e+01 7.554e+01 7.555e+01 7.556e+01 7.557e+01 7.558e+01 7.559e+01\n",
      " 7.560e+01 7.561e+01 7.562e+01 7.563e+01 7.564e+01 7.565e+01 7.566e+01\n",
      " 7.567e+01 7.568e+01 7.569e+01 7.570e+01 7.571e+01 7.572e+01 7.573e+01\n",
      " 7.574e+01 7.575e+01 7.576e+01 7.577e+01 7.578e+01 7.579e+01 7.580e+01\n",
      " 7.581e+01 7.582e+01 7.583e+01 7.584e+01 7.585e+01 7.586e+01 7.587e+01\n",
      " 7.588e+01 7.589e+01 7.590e+01 7.591e+01 7.592e+01 7.593e+01 7.594e+01\n",
      " 7.595e+01 7.596e+01 7.597e+01 7.598e+01 7.599e+01 7.600e+01 7.601e+01\n",
      " 7.602e+01 7.603e+01 7.604e+01 7.605e+01 7.606e+01 7.607e+01 7.608e+01\n",
      " 7.609e+01 7.610e+01 7.611e+01 7.612e+01 7.613e+01 7.614e+01 7.615e+01\n",
      " 7.616e+01 7.617e+01 7.618e+01 7.619e+01 7.620e+01 7.621e+01 7.622e+01\n",
      " 7.623e+01 7.624e+01 7.625e+01 7.626e+01 7.627e+01 7.628e+01 7.629e+01\n",
      " 7.630e+01 7.631e+01 7.632e+01 7.633e+01 7.634e+01 7.635e+01 7.636e+01\n",
      " 7.637e+01 7.638e+01 7.639e+01 7.640e+01 7.641e+01 7.642e+01 7.643e+01\n",
      " 7.644e+01 7.645e+01 7.646e+01 7.647e+01 7.648e+01 7.649e+01 7.650e+01\n",
      " 7.651e+01 7.652e+01 7.653e+01 7.654e+01 7.655e+01 7.656e+01 7.657e+01\n",
      " 7.658e+01 7.659e+01 7.660e+01 7.661e+01 7.662e+01 7.663e+01 7.664e+01\n",
      " 7.665e+01 7.666e+01 7.667e+01 7.668e+01 7.669e+01 7.670e+01 7.671e+01\n",
      " 7.672e+01 7.673e+01 7.674e+01 7.675e+01 7.676e+01 7.677e+01 7.678e+01\n",
      " 7.679e+01 7.680e+01 7.681e+01 7.682e+01 7.683e+01 7.684e+01 7.685e+01\n",
      " 7.686e+01 7.687e+01 7.688e+01 7.689e+01 7.690e+01 7.691e+01 7.692e+01\n",
      " 7.693e+01 7.694e+01 7.695e+01 7.696e+01 7.697e+01 7.698e+01 7.699e+01\n",
      " 7.700e+01 7.701e+01 7.702e+01 7.703e+01 7.704e+01 7.705e+01 7.706e+01\n",
      " 7.707e+01 7.708e+01 7.709e+01 7.710e+01 7.711e+01 7.712e+01 7.713e+01\n",
      " 7.714e+01 7.715e+01 7.716e+01 7.717e+01 7.718e+01 7.719e+01 7.720e+01\n",
      " 7.721e+01 7.722e+01 7.723e+01 7.724e+01 7.725e+01 7.726e+01 7.727e+01\n",
      " 7.728e+01 7.729e+01 7.730e+01 7.731e+01 7.732e+01 7.733e+01 7.734e+01\n",
      " 7.735e+01 7.736e+01 7.737e+01 7.738e+01 7.739e+01 7.740e+01 7.741e+01\n",
      " 7.742e+01 7.743e+01 7.744e+01 7.745e+01 7.746e+01 7.747e+01 7.748e+01\n",
      " 7.749e+01 7.750e+01 7.751e+01 7.752e+01 7.753e+01 7.754e+01 7.755e+01\n",
      " 7.756e+01 7.757e+01 7.758e+01 7.759e+01 7.760e+01 7.761e+01 7.762e+01\n",
      " 7.763e+01 7.764e+01 7.765e+01 7.766e+01 7.767e+01 7.768e+01 7.769e+01\n",
      " 7.770e+01 7.771e+01 7.772e+01 7.773e+01 7.774e+01 7.775e+01 7.776e+01\n",
      " 7.777e+01 7.778e+01 7.779e+01 7.780e+01 7.781e+01 7.782e+01 7.783e+01\n",
      " 7.784e+01 7.785e+01 7.786e+01 7.787e+01 7.788e+01 7.789e+01 7.790e+01\n",
      " 7.791e+01 7.792e+01 7.793e+01 7.794e+01 7.795e+01 7.796e+01 7.797e+01\n",
      " 7.798e+01 7.799e+01 7.800e+01 7.801e+01 7.802e+01 7.803e+01 7.804e+01\n",
      " 7.805e+01 7.806e+01 7.807e+01 7.808e+01 7.809e+01 7.810e+01 7.811e+01\n",
      " 7.812e+01 7.813e+01 7.814e+01 7.815e+01 7.816e+01 7.817e+01 7.818e+01\n",
      " 7.819e+01 7.820e+01 7.821e+01 7.822e+01 7.823e+01 7.824e+01 7.825e+01\n",
      " 7.826e+01 7.827e+01 7.828e+01 7.829e+01 7.830e+01 7.831e+01 7.832e+01\n",
      " 7.833e+01 7.834e+01 7.835e+01 7.836e+01 7.837e+01 7.838e+01 7.839e+01\n",
      " 7.840e+01 7.841e+01 7.842e+01 7.843e+01 7.844e+01 7.845e+01 7.846e+01\n",
      " 7.847e+01 7.848e+01 7.849e+01 7.850e+01 7.851e+01 7.852e+01 7.853e+01\n",
      " 7.854e+01 7.855e+01 7.856e+01 7.857e+01 7.858e+01 7.859e+01 7.860e+01\n",
      " 7.861e+01 7.862e+01 7.863e+01 7.864e+01 7.865e+01 7.866e+01 7.867e+01\n",
      " 7.868e+01 7.869e+01 7.870e+01 7.871e+01 7.872e+01 7.873e+01 7.874e+01\n",
      " 7.875e+01 7.876e+01 7.877e+01 7.878e+01 7.879e+01 7.880e+01 7.881e+01\n",
      " 7.882e+01 7.883e+01 7.884e+01 7.885e+01 7.886e+01 7.887e+01 7.888e+01\n",
      " 7.889e+01 7.890e+01 7.891e+01 7.892e+01 7.893e+01 7.894e+01 7.895e+01\n",
      " 7.896e+01 7.897e+01 7.898e+01 7.899e+01 7.900e+01 7.901e+01 7.902e+01\n",
      " 7.903e+01 7.904e+01 7.905e+01 7.906e+01 7.907e+01 7.908e+01 7.909e+01\n",
      " 7.910e+01 7.911e+01 7.912e+01 7.913e+01 7.914e+01 7.915e+01 7.916e+01\n",
      " 7.917e+01 7.918e+01 7.919e+01 7.920e+01 7.921e+01 7.922e+01 7.923e+01\n",
      " 7.924e+01 7.925e+01 7.926e+01 7.927e+01 7.928e+01 7.929e+01 7.930e+01\n",
      " 7.931e+01 7.932e+01 7.933e+01 7.934e+01 7.935e+01 7.936e+01 7.937e+01\n",
      " 7.938e+01 7.939e+01 7.940e+01 7.941e+01 7.942e+01 7.943e+01 7.944e+01\n",
      " 7.945e+01 7.946e+01 7.947e+01 7.948e+01 7.949e+01 7.950e+01 7.951e+01\n",
      " 7.952e+01 7.953e+01 7.954e+01 7.955e+01 7.956e+01 7.957e+01 7.958e+01\n",
      " 7.959e+01 7.960e+01 7.961e+01 7.962e+01 7.963e+01 7.964e+01 7.965e+01\n",
      " 7.966e+01 7.967e+01 7.968e+01 7.969e+01 7.970e+01 7.971e+01 7.972e+01\n",
      " 7.973e+01 7.974e+01 7.975e+01 7.976e+01 7.977e+01 7.978e+01 7.979e+01\n",
      " 7.980e+01 7.981e+01 7.982e+01 7.983e+01 7.984e+01 7.985e+01 7.986e+01\n",
      " 7.987e+01 7.988e+01 7.989e+01 7.990e+01 7.991e+01 7.992e+01 7.993e+01\n",
      " 7.994e+01 7.995e+01 7.996e+01 7.997e+01 7.998e+01 7.999e+01 8.000e+01\n",
      " 8.001e+01 8.002e+01 8.003e+01 8.004e+01 8.005e+01 8.006e+01 8.007e+01\n",
      " 8.008e+01 8.009e+01 8.010e+01 8.011e+01 8.012e+01 8.013e+01 8.014e+01\n",
      " 8.015e+01 8.016e+01 8.017e+01 8.018e+01 8.019e+01 8.020e+01 8.021e+01\n",
      " 8.022e+01 8.023e+01 8.024e+01 8.025e+01 8.026e+01 8.027e+01 8.028e+01\n",
      " 8.029e+01 8.030e+01 8.031e+01 8.032e+01 8.033e+01 8.034e+01 8.035e+01\n",
      " 8.036e+01 8.037e+01 8.038e+01 8.039e+01 8.040e+01 8.041e+01 8.042e+01\n",
      " 8.043e+01 8.044e+01 8.045e+01 8.046e+01 8.047e+01 8.048e+01 8.049e+01\n",
      " 8.050e+01 8.051e+01 8.052e+01 8.053e+01 8.054e+01 8.055e+01 8.056e+01\n",
      " 8.057e+01 8.058e+01 8.059e+01 8.060e+01 8.061e+01 8.062e+01 8.063e+01\n",
      " 8.064e+01 8.065e+01 8.066e+01 8.067e+01 8.068e+01 8.069e+01 8.070e+01\n",
      " 8.071e+01 8.072e+01 8.073e+01 8.074e+01 8.075e+01 8.076e+01 8.077e+01\n",
      " 8.078e+01 8.079e+01 8.080e+01 8.081e+01 8.082e+01 8.083e+01 8.084e+01\n",
      " 8.085e+01 8.086e+01 8.087e+01 8.088e+01 8.089e+01 8.090e+01 8.091e+01\n",
      " 8.092e+01 8.093e+01 8.094e+01 8.095e+01 8.096e+01 8.097e+01 8.098e+01\n",
      " 8.099e+01 8.100e+01 8.101e+01 8.102e+01 8.103e+01 8.104e+01 8.105e+01\n",
      " 8.106e+01 8.107e+01 8.108e+01 8.109e+01 8.110e+01 8.111e+01 8.112e+01\n",
      " 8.113e+01 8.114e+01 8.115e+01 8.116e+01 8.117e+01 8.118e+01 8.119e+01\n",
      " 8.120e+01 8.121e+01 8.122e+01 8.123e+01 8.124e+01 8.125e+01 8.126e+01\n",
      " 8.127e+01 8.128e+01 8.129e+01 8.130e+01 8.131e+01 8.132e+01 8.133e+01\n",
      " 8.134e+01 8.135e+01 8.136e+01 8.137e+01 8.138e+01 8.139e+01 8.140e+01\n",
      " 8.141e+01 8.142e+01 8.143e+01 8.144e+01 8.145e+01 8.146e+01 8.147e+01\n",
      " 8.148e+01 8.149e+01 8.150e+01 8.151e+01 8.152e+01 8.153e+01 8.154e+01\n",
      " 8.155e+01 8.156e+01 8.157e+01 8.158e+01 8.159e+01 8.160e+01 8.161e+01\n",
      " 8.162e+01 8.163e+01 8.164e+01 8.165e+01 8.166e+01 8.167e+01 8.168e+01\n",
      " 8.169e+01 8.170e+01 8.171e+01 8.172e+01 8.173e+01 8.174e+01 8.175e+01\n",
      " 8.176e+01 8.177e+01 8.178e+01 8.179e+01 8.180e+01 8.181e+01 8.182e+01\n",
      " 8.183e+01 8.184e+01 8.185e+01 8.186e+01 8.187e+01 8.188e+01 8.189e+01\n",
      " 8.190e+01 8.191e+01 8.192e+01 8.193e+01 8.194e+01 8.195e+01 8.196e+01\n",
      " 8.197e+01 8.198e+01 8.199e+01 8.200e+01 8.201e+01 8.202e+01 8.203e+01\n",
      " 8.204e+01 8.205e+01 8.206e+01 8.207e+01 8.208e+01 8.209e+01 8.210e+01\n",
      " 8.211e+01 8.212e+01 8.213e+01 8.214e+01 8.215e+01 8.216e+01 8.217e+01\n",
      " 8.218e+01 8.219e+01 8.220e+01 8.221e+01 8.222e+01 8.223e+01 8.224e+01\n",
      " 8.225e+01 8.226e+01 8.227e+01 8.228e+01 8.229e+01 8.230e+01 8.231e+01\n",
      " 8.232e+01 8.233e+01 8.234e+01 8.235e+01 8.236e+01 8.237e+01 8.238e+01\n",
      " 8.239e+01 8.240e+01 8.241e+01 8.242e+01 8.243e+01 8.244e+01 8.245e+01\n",
      " 8.246e+01 8.247e+01 8.248e+01 8.249e+01 8.250e+01 8.251e+01 8.252e+01\n",
      " 8.253e+01 8.254e+01 8.255e+01 8.256e+01 8.257e+01 8.258e+01 8.259e+01\n",
      " 8.260e+01 8.261e+01 8.262e+01 8.263e+01 8.264e+01 8.265e+01 8.266e+01\n",
      " 8.267e+01 8.268e+01 8.269e+01 8.270e+01 8.271e+01 8.272e+01 8.273e+01\n",
      " 8.274e+01 8.275e+01 8.276e+01 8.277e+01 8.278e+01 8.279e+01 8.280e+01\n",
      " 8.281e+01 8.282e+01 8.283e+01 8.284e+01 8.285e+01 8.286e+01 8.287e+01\n",
      " 8.288e+01 8.289e+01 8.290e+01 8.291e+01 8.292e+01 8.293e+01 8.294e+01\n",
      " 8.295e+01 8.296e+01 8.297e+01 8.298e+01 8.299e+01 8.300e+01 8.301e+01\n",
      " 8.302e+01 8.303e+01 8.304e+01 8.305e+01 8.306e+01 8.307e+01 8.308e+01\n",
      " 8.309e+01 8.310e+01 8.311e+01 8.312e+01 8.313e+01 8.314e+01 8.315e+01\n",
      " 8.316e+01 8.317e+01 8.318e+01 8.319e+01 8.320e+01 8.321e+01 8.322e+01\n",
      " 8.323e+01 8.324e+01 8.325e+01 8.326e+01 8.327e+01 8.328e+01 8.329e+01\n",
      " 8.330e+01 8.331e+01 8.332e+01 8.333e+01 8.334e+01 8.335e+01 8.336e+01\n",
      " 8.337e+01 8.338e+01 8.339e+01 8.340e+01 8.341e+01 8.342e+01 8.343e+01\n",
      " 8.344e+01 8.345e+01 8.346e+01 8.347e+01 8.348e+01 8.349e+01 8.350e+01\n",
      " 8.351e+01 8.352e+01 8.353e+01 8.354e+01 8.355e+01 8.356e+01 8.357e+01\n",
      " 8.358e+01 8.359e+01 8.360e+01 8.361e+01 8.362e+01 8.363e+01 8.364e+01\n",
      " 8.365e+01 8.366e+01 8.367e+01 8.368e+01 8.369e+01 8.370e+01 8.371e+01\n",
      " 8.372e+01 8.373e+01 8.374e+01 8.375e+01 8.376e+01 8.377e+01 8.378e+01\n",
      " 8.379e+01 8.380e+01 8.381e+01 8.382e+01 8.383e+01 8.384e+01 8.385e+01\n",
      " 8.386e+01 8.387e+01 8.388e+01 8.389e+01 8.390e+01 8.391e+01 8.392e+01\n",
      " 8.393e+01 8.394e+01 8.395e+01 8.396e+01 8.397e+01 8.398e+01 8.399e+01\n",
      " 8.400e+01 8.401e+01 8.402e+01 8.403e+01 8.404e+01 8.405e+01 8.406e+01\n",
      " 8.407e+01 8.408e+01 8.409e+01 8.410e+01 8.411e+01 8.412e+01 8.413e+01\n",
      " 8.414e+01 8.415e+01 8.416e+01 8.417e+01 8.418e+01 8.419e+01 8.420e+01\n",
      " 8.421e+01 8.422e+01 8.423e+01 8.424e+01 8.425e+01 8.426e+01 8.427e+01\n",
      " 8.428e+01 8.429e+01 8.430e+01 8.431e+01 8.432e+01 8.433e+01 8.434e+01\n",
      " 8.435e+01 8.436e+01 8.437e+01 8.438e+01 8.439e+01 8.440e+01 8.441e+01\n",
      " 8.442e+01 8.443e+01 8.444e+01 8.445e+01 8.446e+01 8.447e+01 8.448e+01\n",
      " 8.449e+01 8.450e+01 8.451e+01 8.452e+01 8.453e+01 8.454e+01 8.455e+01\n",
      " 8.456e+01 8.457e+01 8.458e+01 8.459e+01 8.460e+01 8.461e+01 8.462e+01\n",
      " 8.463e+01 8.464e+01 8.465e+01 8.466e+01 8.467e+01 8.468e+01 8.469e+01\n",
      " 8.470e+01 8.471e+01 8.472e+01 8.473e+01 8.474e+01 8.475e+01 8.476e+01\n",
      " 8.477e+01 8.478e+01 8.479e+01 8.480e+01 8.481e+01 8.482e+01 8.483e+01\n",
      " 8.484e+01 8.485e+01 8.486e+01 8.487e+01 8.488e+01 8.489e+01 8.490e+01\n",
      " 8.491e+01 8.492e+01 8.493e+01 8.494e+01 8.495e+01 8.496e+01 8.497e+01\n",
      " 8.498e+01 8.499e+01 8.500e+01 8.501e+01 8.502e+01 8.503e+01 8.504e+01\n",
      " 8.505e+01 8.506e+01 8.507e+01 8.508e+01 8.509e+01 8.510e+01 8.511e+01\n",
      " 8.512e+01 8.513e+01 8.514e+01 8.515e+01 8.516e+01 8.517e+01 8.518e+01\n",
      " 8.519e+01 8.520e+01 8.521e+01 8.522e+01 8.523e+01 8.524e+01 8.525e+01\n",
      " 8.526e+01 8.527e+01 8.528e+01 8.529e+01 8.530e+01 8.531e+01 8.532e+01\n",
      " 8.533e+01 8.534e+01 8.535e+01 8.536e+01 8.537e+01 8.538e+01 8.539e+01\n",
      " 8.540e+01 8.541e+01 8.542e+01 8.543e+01 8.544e+01 8.545e+01 8.546e+01\n",
      " 8.547e+01 8.548e+01 8.549e+01 8.550e+01 8.551e+01 8.552e+01 8.553e+01\n",
      " 8.554e+01 8.555e+01 8.556e+01 8.557e+01 8.558e+01 8.559e+01 8.560e+01\n",
      " 8.561e+01 8.562e+01 8.563e+01 8.564e+01 8.565e+01 8.566e+01 8.567e+01\n",
      " 8.568e+01 8.569e+01 8.570e+01 8.571e+01 8.572e+01 8.573e+01 8.574e+01\n",
      " 8.575e+01 8.576e+01 8.577e+01 8.578e+01 8.579e+01 8.580e+01 8.581e+01\n",
      " 8.582e+01 8.583e+01 8.584e+01 8.585e+01 8.586e+01 8.587e+01 8.588e+01\n",
      " 8.589e+01 8.590e+01 8.591e+01 8.592e+01 8.593e+01 8.594e+01 8.595e+01\n",
      " 8.596e+01 8.597e+01 8.598e+01 8.599e+01 8.600e+01 8.601e+01 8.602e+01\n",
      " 8.603e+01 8.604e+01 8.605e+01 8.606e+01 8.607e+01 8.608e+01 8.609e+01\n",
      " 8.610e+01 8.611e+01 8.612e+01 8.613e+01 8.614e+01 8.615e+01 8.616e+01\n",
      " 8.617e+01 8.618e+01 8.619e+01 8.620e+01 8.621e+01 8.622e+01 8.623e+01\n",
      " 8.624e+01 8.625e+01 8.626e+01 8.627e+01 8.628e+01 8.629e+01 8.630e+01\n",
      " 8.631e+01 8.632e+01 8.633e+01 8.634e+01 8.635e+01 8.636e+01 8.637e+01\n",
      " 8.638e+01 8.639e+01 8.640e+01 8.641e+01 8.642e+01 8.643e+01 8.644e+01\n",
      " 8.645e+01 8.646e+01 8.647e+01 8.648e+01 8.649e+01 8.650e+01 8.651e+01\n",
      " 8.652e+01 8.653e+01 8.654e+01 8.655e+01 8.656e+01 8.657e+01 8.658e+01\n",
      " 8.659e+01 8.660e+01 8.661e+01 8.662e+01 8.663e+01 8.664e+01 8.665e+01\n",
      " 8.666e+01 8.667e+01 8.668e+01 8.669e+01 8.670e+01 8.671e+01 8.672e+01\n",
      " 8.673e+01 8.674e+01 8.675e+01 8.676e+01 8.677e+01 8.678e+01 8.679e+01\n",
      " 8.680e+01 8.681e+01 8.682e+01 8.683e+01 8.684e+01 8.685e+01 8.686e+01\n",
      " 8.687e+01 8.688e+01 8.689e+01 8.690e+01 8.691e+01 8.692e+01 8.693e+01\n",
      " 8.694e+01 8.695e+01 8.696e+01 8.697e+01 8.698e+01 8.699e+01 8.700e+01\n",
      " 8.701e+01 8.702e+01 8.703e+01 8.704e+01 8.705e+01 8.706e+01 8.707e+01\n",
      " 8.708e+01 8.709e+01 8.710e+01 8.711e+01 8.712e+01 8.713e+01 8.714e+01\n",
      " 8.715e+01 8.716e+01 8.717e+01 8.718e+01 8.719e+01 8.720e+01 8.721e+01\n",
      " 8.722e+01 8.723e+01 8.724e+01 8.725e+01 8.726e+01 8.727e+01 8.728e+01\n",
      " 8.729e+01 8.730e+01 8.731e+01 8.732e+01 8.733e+01 8.734e+01 8.735e+01\n",
      " 8.736e+01 8.737e+01 8.738e+01 8.739e+01 8.740e+01 8.741e+01 8.742e+01\n",
      " 8.743e+01 8.744e+01 8.745e+01 8.746e+01 8.747e+01 8.748e+01 8.749e+01\n",
      " 8.750e+01 8.751e+01 8.752e+01 8.753e+01 8.754e+01 8.755e+01 8.756e+01\n",
      " 8.757e+01 8.758e+01 8.759e+01 8.760e+01 8.761e+01 8.762e+01 8.763e+01\n",
      " 8.764e+01 8.765e+01 8.766e+01 8.767e+01 8.768e+01 8.769e+01 8.770e+01\n",
      " 8.771e+01 8.772e+01 8.773e+01 8.774e+01 8.775e+01 8.776e+01 8.777e+01\n",
      " 8.778e+01 8.779e+01 8.780e+01 8.781e+01 8.782e+01 8.783e+01 8.784e+01\n",
      " 8.785e+01 8.786e+01 8.787e+01 8.788e+01 8.789e+01 8.790e+01 8.791e+01\n",
      " 8.792e+01 8.793e+01 8.794e+01 8.795e+01 8.796e+01 8.797e+01 8.798e+01\n",
      " 8.799e+01 8.800e+01 8.801e+01 8.802e+01 8.803e+01 8.804e+01 8.805e+01\n",
      " 8.806e+01 8.807e+01 8.808e+01 8.809e+01 8.810e+01 8.811e+01 8.812e+01\n",
      " 8.813e+01 8.814e+01 8.815e+01 8.816e+01 8.817e+01 8.818e+01 8.819e+01\n",
      " 8.820e+01 8.821e+01 8.822e+01 8.823e+01 8.824e+01 8.825e+01 8.826e+01\n",
      " 8.827e+01 8.828e+01 8.829e+01 8.830e+01 8.831e+01 8.832e+01 8.833e+01\n",
      " 8.834e+01 8.835e+01 8.836e+01 8.837e+01 8.838e+01 8.839e+01 8.840e+01\n",
      " 8.841e+01 8.842e+01 8.843e+01 8.844e+01 8.845e+01 8.846e+01 8.847e+01\n",
      " 8.848e+01 8.849e+01 8.850e+01 8.851e+01 8.852e+01 8.853e+01 8.854e+01\n",
      " 8.855e+01 8.856e+01 8.857e+01 8.858e+01 8.859e+01 8.860e+01 8.861e+01\n",
      " 8.862e+01 8.863e+01 8.864e+01 8.865e+01 8.866e+01 8.867e+01 8.868e+01\n",
      " 8.869e+01 8.870e+01 8.871e+01 8.872e+01 8.873e+01 8.874e+01 8.875e+01\n",
      " 8.876e+01 8.877e+01 8.878e+01 8.879e+01 8.880e+01 8.881e+01 8.882e+01\n",
      " 8.883e+01 8.884e+01 8.885e+01 8.886e+01 8.887e+01 8.888e+01 8.889e+01\n",
      " 8.890e+01 8.891e+01 8.892e+01 8.893e+01 8.894e+01 8.895e+01 8.896e+01\n",
      " 8.897e+01 8.898e+01 8.899e+01 8.900e+01 8.901e+01 8.902e+01 8.903e+01\n",
      " 8.904e+01 8.905e+01 8.906e+01 8.907e+01 8.908e+01 8.909e+01 8.910e+01\n",
      " 8.911e+01 8.912e+01 8.913e+01 8.914e+01 8.915e+01 8.916e+01 8.917e+01\n",
      " 8.918e+01 8.919e+01 8.920e+01 8.921e+01 8.922e+01 8.923e+01 8.924e+01\n",
      " 8.925e+01 8.926e+01 8.927e+01 8.928e+01 8.929e+01 8.930e+01 8.931e+01\n",
      " 8.932e+01 8.933e+01 8.934e+01 8.935e+01 8.936e+01 8.937e+01 8.938e+01\n",
      " 8.939e+01 8.940e+01 8.941e+01 8.942e+01 8.943e+01 8.944e+01 8.945e+01\n",
      " 8.946e+01 8.947e+01 8.948e+01 8.949e+01 8.950e+01 8.951e+01 8.952e+01\n",
      " 8.953e+01 8.954e+01 8.955e+01 8.956e+01 8.957e+01 8.958e+01 8.959e+01\n",
      " 8.960e+01 8.961e+01 8.962e+01 8.963e+01 8.964e+01 8.965e+01 8.966e+01\n",
      " 8.967e+01 8.968e+01 8.969e+01 8.970e+01 8.971e+01 8.972e+01 8.973e+01\n",
      " 8.974e+01 8.975e+01 8.976e+01 8.977e+01 8.978e+01 8.979e+01 8.980e+01\n",
      " 8.981e+01 8.982e+01 8.983e+01 8.984e+01 8.985e+01 8.986e+01 8.987e+01\n",
      " 8.988e+01 8.989e+01 8.990e+01 8.991e+01 8.992e+01 8.993e+01 8.994e+01\n",
      " 8.995e+01 8.996e+01 8.997e+01 8.998e+01 8.999e+01 9.000e+01 9.001e+01\n",
      " 9.002e+01 9.003e+01 9.004e+01 9.005e+01 9.006e+01 9.007e+01 9.008e+01\n",
      " 9.009e+01 9.010e+01 9.011e+01 9.012e+01 9.013e+01 9.014e+01 9.015e+01\n",
      " 9.016e+01 9.017e+01 9.018e+01 9.019e+01 9.020e+01 9.021e+01 9.022e+01\n",
      " 9.023e+01 9.024e+01 9.025e+01 9.026e+01 9.027e+01 9.028e+01 9.029e+01\n",
      " 9.030e+01 9.031e+01 9.032e+01 9.033e+01 9.034e+01 9.035e+01 9.036e+01\n",
      " 9.037e+01 9.038e+01 9.039e+01 9.040e+01 9.041e+01 9.042e+01 9.043e+01\n",
      " 9.044e+01 9.045e+01 9.046e+01 9.047e+01 9.048e+01 9.049e+01 9.050e+01\n",
      " 9.051e+01 9.052e+01 9.053e+01 9.054e+01 9.055e+01 9.056e+01 9.057e+01\n",
      " 9.058e+01 9.059e+01 9.060e+01 9.061e+01 9.062e+01 9.063e+01 9.064e+01\n",
      " 9.065e+01 9.066e+01 9.067e+01 9.068e+01 9.069e+01 9.070e+01 9.071e+01\n",
      " 9.072e+01 9.073e+01 9.074e+01 9.075e+01 9.076e+01 9.077e+01 9.078e+01\n",
      " 9.079e+01 9.080e+01 9.081e+01 9.082e+01 9.083e+01 9.084e+01 9.085e+01\n",
      " 9.086e+01 9.087e+01 9.088e+01 9.089e+01 9.090e+01 9.091e+01 9.092e+01\n",
      " 9.093e+01 9.094e+01 9.095e+01 9.096e+01 9.097e+01 9.098e+01 9.099e+01\n",
      " 9.100e+01 9.101e+01 9.102e+01 9.103e+01 9.104e+01 9.105e+01 9.106e+01\n",
      " 9.107e+01 9.108e+01 9.109e+01 9.110e+01 9.111e+01 9.112e+01 9.113e+01\n",
      " 9.114e+01 9.115e+01 9.116e+01 9.117e+01 9.118e+01 9.119e+01 9.120e+01\n",
      " 9.121e+01 9.122e+01 9.123e+01 9.124e+01 9.125e+01 9.126e+01 9.127e+01\n",
      " 9.128e+01 9.129e+01 9.130e+01 9.131e+01 9.132e+01 9.133e+01 9.134e+01\n",
      " 9.135e+01 9.136e+01 9.137e+01 9.138e+01 9.139e+01 9.140e+01 9.141e+01\n",
      " 9.142e+01 9.143e+01 9.144e+01 9.145e+01 9.146e+01 9.147e+01 9.148e+01\n",
      " 9.149e+01 9.150e+01 9.151e+01 9.152e+01 9.153e+01 9.154e+01 9.155e+01\n",
      " 9.156e+01 9.157e+01 9.158e+01 9.159e+01 9.160e+01 9.161e+01 9.162e+01\n",
      " 9.163e+01 9.164e+01 9.165e+01 9.166e+01 9.167e+01 9.168e+01 9.169e+01\n",
      " 9.170e+01 9.171e+01 9.172e+01 9.173e+01 9.174e+01 9.175e+01 9.176e+01\n",
      " 9.177e+01 9.178e+01 9.179e+01 9.180e+01 9.181e+01 9.182e+01 9.183e+01\n",
      " 9.184e+01 9.185e+01 9.186e+01 9.187e+01 9.188e+01 9.189e+01 9.190e+01\n",
      " 9.191e+01 9.192e+01 9.193e+01 9.194e+01 9.195e+01 9.196e+01 9.197e+01\n",
      " 9.198e+01 9.199e+01 9.200e+01 9.201e+01 9.202e+01 9.203e+01 9.204e+01\n",
      " 9.205e+01 9.206e+01 9.207e+01 9.208e+01 9.209e+01 9.210e+01 9.211e+01\n",
      " 9.212e+01 9.213e+01 9.214e+01 9.215e+01 9.216e+01 9.217e+01 9.218e+01\n",
      " 9.219e+01 9.220e+01 9.221e+01 9.222e+01 9.223e+01 9.224e+01 9.225e+01\n",
      " 9.226e+01 9.227e+01 9.228e+01 9.229e+01 9.230e+01 9.231e+01 9.232e+01\n",
      " 9.233e+01 9.234e+01 9.235e+01 9.236e+01 9.237e+01 9.238e+01 9.239e+01\n",
      " 9.240e+01 9.241e+01 9.242e+01 9.243e+01 9.244e+01 9.245e+01 9.246e+01\n",
      " 9.247e+01 9.248e+01 9.249e+01 9.250e+01 9.251e+01 9.252e+01 9.253e+01\n",
      " 9.254e+01 9.255e+01 9.256e+01 9.257e+01 9.258e+01 9.259e+01 9.260e+01\n",
      " 9.261e+01 9.262e+01 9.263e+01 9.264e+01 9.265e+01 9.266e+01 9.267e+01\n",
      " 9.268e+01 9.269e+01 9.270e+01 9.271e+01 9.272e+01 9.273e+01 9.274e+01\n",
      " 9.275e+01 9.276e+01 9.277e+01 9.278e+01 9.279e+01 9.280e+01 9.281e+01\n",
      " 9.282e+01 9.283e+01 9.284e+01 9.285e+01 9.286e+01 9.287e+01 9.288e+01\n",
      " 9.289e+01 9.290e+01 9.291e+01 9.292e+01 9.293e+01 9.294e+01 9.295e+01\n",
      " 9.296e+01 9.297e+01 9.298e+01 9.299e+01 9.300e+01 9.301e+01 9.302e+01\n",
      " 9.303e+01 9.304e+01 9.305e+01 9.306e+01 9.307e+01 9.308e+01 9.309e+01\n",
      " 9.310e+01 9.311e+01 9.312e+01 9.313e+01 9.314e+01 9.315e+01 9.316e+01\n",
      " 9.317e+01 9.318e+01 9.319e+01 9.320e+01 9.321e+01 9.322e+01 9.323e+01\n",
      " 9.324e+01 9.325e+01 9.326e+01 9.327e+01 9.328e+01 9.329e+01 9.330e+01\n",
      " 9.331e+01 9.332e+01 9.333e+01 9.334e+01 9.335e+01 9.336e+01 9.337e+01\n",
      " 9.338e+01 9.339e+01 9.340e+01 9.341e+01 9.342e+01 9.343e+01 9.344e+01\n",
      " 9.345e+01 9.346e+01 9.347e+01 9.348e+01 9.349e+01 9.350e+01 9.351e+01\n",
      " 9.352e+01 9.353e+01 9.354e+01 9.355e+01 9.356e+01 9.357e+01 9.358e+01\n",
      " 9.359e+01 9.360e+01 9.361e+01 9.362e+01 9.363e+01 9.364e+01 9.365e+01\n",
      " 9.366e+01 9.367e+01 9.368e+01 9.369e+01 9.370e+01 9.371e+01 9.372e+01\n",
      " 9.373e+01 9.374e+01 9.375e+01 9.376e+01 9.377e+01 9.378e+01 9.379e+01\n",
      " 9.380e+01 9.381e+01 9.382e+01 9.383e+01 9.384e+01 9.385e+01 9.386e+01\n",
      " 9.387e+01 9.388e+01 9.389e+01 9.390e+01 9.391e+01 9.392e+01 9.393e+01\n",
      " 9.394e+01 9.395e+01 9.396e+01 9.397e+01 9.398e+01 9.399e+01 9.400e+01\n",
      " 9.401e+01 9.402e+01 9.403e+01 9.404e+01 9.405e+01 9.406e+01 9.407e+01\n",
      " 9.408e+01 9.409e+01 9.410e+01 9.411e+01 9.412e+01 9.413e+01 9.414e+01\n",
      " 9.415e+01 9.416e+01 9.417e+01 9.418e+01 9.419e+01 9.420e+01 9.421e+01\n",
      " 9.422e+01 9.423e+01 9.424e+01 9.425e+01 9.426e+01 9.427e+01 9.428e+01\n",
      " 9.429e+01 9.430e+01 9.431e+01 9.432e+01 9.433e+01 9.434e+01 9.435e+01\n",
      " 9.436e+01 9.437e+01 9.438e+01 9.439e+01 9.440e+01 9.441e+01 9.442e+01\n",
      " 9.443e+01 9.444e+01 9.445e+01 9.446e+01 9.447e+01 9.448e+01 9.449e+01\n",
      " 9.450e+01 9.451e+01 9.452e+01 9.453e+01 9.454e+01 9.455e+01 9.456e+01\n",
      " 9.457e+01 9.458e+01 9.459e+01 9.460e+01 9.461e+01 9.462e+01 9.463e+01\n",
      " 9.464e+01 9.465e+01 9.466e+01 9.467e+01 9.468e+01 9.469e+01 9.470e+01\n",
      " 9.471e+01 9.472e+01 9.473e+01 9.474e+01 9.475e+01 9.476e+01 9.477e+01\n",
      " 9.478e+01 9.479e+01 9.480e+01 9.481e+01 9.482e+01 9.483e+01 9.484e+01\n",
      " 9.485e+01 9.486e+01 9.487e+01 9.488e+01 9.489e+01 9.490e+01 9.491e+01\n",
      " 9.492e+01 9.493e+01 9.494e+01 9.495e+01 9.496e+01 9.497e+01 9.498e+01\n",
      " 9.499e+01 9.500e+01 9.501e+01 9.502e+01 9.503e+01 9.504e+01 9.505e+01\n",
      " 9.506e+01 9.507e+01 9.508e+01 9.509e+01 9.510e+01 9.511e+01 9.512e+01\n",
      " 9.513e+01 9.514e+01 9.515e+01 9.516e+01 9.517e+01 9.518e+01 9.519e+01\n",
      " 9.520e+01 9.521e+01 9.522e+01 9.523e+01 9.524e+01 9.525e+01 9.526e+01\n",
      " 9.527e+01 9.528e+01 9.529e+01 9.530e+01 9.531e+01 9.532e+01 9.533e+01\n",
      " 9.534e+01 9.535e+01 9.536e+01 9.537e+01 9.538e+01 9.539e+01 9.540e+01\n",
      " 9.541e+01 9.542e+01 9.543e+01 9.544e+01 9.545e+01 9.546e+01 9.547e+01\n",
      " 9.548e+01 9.549e+01 9.550e+01 9.551e+01 9.552e+01 9.553e+01 9.554e+01\n",
      " 9.555e+01 9.556e+01 9.557e+01 9.558e+01 9.559e+01 9.560e+01 9.561e+01\n",
      " 9.562e+01 9.563e+01 9.564e+01 9.565e+01 9.566e+01 9.567e+01 9.568e+01\n",
      " 9.569e+01 9.570e+01 9.571e+01 9.572e+01 9.573e+01 9.574e+01 9.575e+01\n",
      " 9.576e+01 9.577e+01 9.578e+01 9.579e+01 9.580e+01 9.581e+01 9.582e+01\n",
      " 9.583e+01 9.584e+01 9.585e+01 9.586e+01 9.587e+01 9.588e+01 9.589e+01\n",
      " 9.590e+01 9.591e+01 9.592e+01 9.593e+01 9.594e+01 9.595e+01 9.596e+01\n",
      " 9.597e+01 9.598e+01 9.599e+01 9.600e+01 9.601e+01 9.602e+01 9.603e+01\n",
      " 9.604e+01 9.605e+01 9.606e+01 9.607e+01 9.608e+01 9.609e+01 9.610e+01\n",
      " 9.611e+01 9.612e+01 9.613e+01 9.614e+01 9.615e+01 9.616e+01 9.617e+01\n",
      " 9.618e+01 9.619e+01 9.620e+01 9.621e+01 9.622e+01 9.623e+01 9.624e+01\n",
      " 9.625e+01 9.626e+01 9.627e+01 9.628e+01 9.629e+01 9.630e+01 9.631e+01\n",
      " 9.632e+01 9.633e+01 9.634e+01 9.635e+01 9.636e+01 9.637e+01 9.638e+01\n",
      " 9.639e+01 9.640e+01 9.641e+01 9.642e+01 9.643e+01 9.644e+01 9.645e+01\n",
      " 9.646e+01 9.647e+01 9.648e+01 9.649e+01 9.650e+01 9.651e+01 9.652e+01\n",
      " 9.653e+01 9.654e+01 9.655e+01 9.656e+01 9.657e+01 9.658e+01 9.659e+01\n",
      " 9.660e+01 9.661e+01 9.662e+01 9.663e+01 9.664e+01 9.665e+01 9.666e+01\n",
      " 9.667e+01 9.668e+01 9.669e+01 9.670e+01 9.671e+01 9.672e+01 9.673e+01\n",
      " 9.674e+01 9.675e+01 9.676e+01 9.677e+01 9.678e+01 9.679e+01 9.680e+01\n",
      " 9.681e+01 9.682e+01 9.683e+01 9.684e+01 9.685e+01 9.686e+01 9.687e+01\n",
      " 9.688e+01 9.689e+01 9.690e+01 9.691e+01 9.692e+01 9.693e+01 9.694e+01\n",
      " 9.695e+01 9.696e+01 9.697e+01 9.698e+01 9.699e+01 9.700e+01 9.701e+01\n",
      " 9.702e+01 9.703e+01 9.704e+01 9.705e+01 9.706e+01 9.707e+01 9.708e+01\n",
      " 9.709e+01 9.710e+01 9.711e+01 9.712e+01 9.713e+01 9.714e+01 9.715e+01\n",
      " 9.716e+01 9.717e+01 9.718e+01 9.719e+01 9.720e+01 9.721e+01 9.722e+01\n",
      " 9.723e+01 9.724e+01 9.725e+01 9.726e+01 9.727e+01 9.728e+01 9.729e+01\n",
      " 9.730e+01 9.731e+01 9.732e+01 9.733e+01 9.734e+01 9.735e+01 9.736e+01\n",
      " 9.737e+01 9.738e+01 9.739e+01 9.740e+01 9.741e+01 9.742e+01 9.743e+01\n",
      " 9.744e+01 9.745e+01 9.746e+01 9.747e+01 9.748e+01 9.749e+01 9.750e+01\n",
      " 9.751e+01 9.752e+01 9.753e+01 9.754e+01 9.755e+01 9.756e+01 9.757e+01\n",
      " 9.758e+01 9.759e+01 9.760e+01 9.761e+01 9.762e+01 9.763e+01 9.764e+01\n",
      " 9.765e+01 9.766e+01 9.767e+01 9.768e+01 9.769e+01 9.770e+01 9.771e+01\n",
      " 9.772e+01 9.773e+01 9.774e+01 9.775e+01 9.776e+01 9.777e+01 9.778e+01\n",
      " 9.779e+01 9.780e+01 9.781e+01 9.782e+01 9.783e+01 9.784e+01 9.785e+01\n",
      " 9.786e+01 9.787e+01 9.788e+01 9.789e+01 9.790e+01 9.791e+01 9.792e+01\n",
      " 9.793e+01 9.794e+01 9.795e+01 9.796e+01 9.797e+01 9.798e+01 9.799e+01\n",
      " 9.800e+01 9.801e+01 9.802e+01 9.803e+01 9.804e+01 9.805e+01 9.806e+01\n",
      " 9.807e+01 9.808e+01 9.809e+01 9.810e+01 9.811e+01 9.812e+01 9.813e+01\n",
      " 9.814e+01 9.815e+01 9.816e+01 9.817e+01 9.818e+01 9.819e+01 9.820e+01\n",
      " 9.821e+01 9.822e+01 9.823e+01 9.824e+01 9.825e+01 9.826e+01 9.827e+01\n",
      " 9.828e+01 9.829e+01 9.830e+01 9.831e+01 9.832e+01 9.833e+01 9.834e+01\n",
      " 9.835e+01 9.836e+01 9.837e+01 9.838e+01 9.839e+01 9.840e+01 9.841e+01\n",
      " 9.842e+01 9.843e+01 9.844e+01 9.845e+01 9.846e+01 9.847e+01 9.848e+01\n",
      " 9.849e+01 9.850e+01 9.851e+01 9.852e+01 9.853e+01 9.854e+01 9.855e+01\n",
      " 9.856e+01 9.857e+01 9.858e+01 9.859e+01 9.860e+01 9.861e+01 9.862e+01\n",
      " 9.863e+01 9.864e+01 9.865e+01 9.866e+01 9.867e+01 9.868e+01 9.869e+01\n",
      " 9.870e+01 9.871e+01 9.872e+01 9.873e+01 9.874e+01 9.875e+01 9.876e+01\n",
      " 9.877e+01 9.878e+01 9.879e+01 9.880e+01 9.881e+01 9.882e+01 9.883e+01\n",
      " 9.884e+01 9.885e+01 9.886e+01 9.887e+01 9.888e+01 9.889e+01 9.890e+01\n",
      " 9.891e+01 9.892e+01 9.893e+01 9.894e+01 9.895e+01 9.896e+01 9.897e+01\n",
      " 9.898e+01 9.899e+01 9.900e+01 9.901e+01 9.902e+01 9.903e+01 9.904e+01\n",
      " 9.905e+01 9.906e+01 9.907e+01 9.908e+01 9.909e+01 9.910e+01 9.911e+01\n",
      " 9.912e+01 9.913e+01 9.914e+01 9.915e+01 9.916e+01 9.917e+01 9.918e+01\n",
      " 9.919e+01 9.920e+01 9.921e+01 9.922e+01 9.923e+01 9.924e+01 9.925e+01\n",
      " 9.926e+01 9.927e+01 9.928e+01 9.929e+01 9.930e+01 9.931e+01 9.932e+01\n",
      " 9.933e+01 9.934e+01 9.935e+01 9.936e+01 9.937e+01 9.938e+01 9.939e+01\n",
      " 9.940e+01 9.941e+01 9.942e+01 9.943e+01 9.944e+01 9.945e+01 9.946e+01\n",
      " 9.947e+01 9.948e+01 9.949e+01 9.950e+01 9.951e+01 9.952e+01 9.953e+01\n",
      " 9.954e+01 9.955e+01 9.956e+01 9.957e+01 9.958e+01 9.959e+01 9.960e+01\n",
      " 9.961e+01 9.962e+01 9.963e+01 9.964e+01 9.965e+01 9.966e+01 9.967e+01\n",
      " 9.968e+01 9.969e+01 9.970e+01 9.971e+01 9.972e+01 9.973e+01 9.974e+01\n",
      " 9.975e+01 9.976e+01 9.977e+01 9.978e+01 9.979e+01 9.980e+01 9.981e+01\n",
      " 9.982e+01 9.983e+01 9.984e+01 9.985e+01 9.986e+01 9.987e+01 9.988e+01\n",
      " 9.989e+01 9.990e+01 9.991e+01 9.992e+01 9.993e+01 9.994e+01 9.995e+01\n",
      " 9.996e+01 9.997e+01 9.998e+01 9.999e+01]\n"
     ]
    }
   ],
   "source": [
    "print(F)"
   ]
  },
  {
   "cell_type": "code",
   "execution_count": 53,
   "metadata": {},
   "outputs": [],
   "source": [
    "np.set_printoptions(precision = 1, threshold=100, edgeitems = 4)\n"
   ]
  },
  {
   "cell_type": "code",
   "execution_count": 54,
   "metadata": {},
   "outputs": [
    {
     "name": "stdout",
     "output_type": "stream",
     "text": [
      "[0.e+00 1.e-02 2.e-02 3.e-02 ... 1.e+02 1.e+02 1.e+02 1.e+02]\n"
     ]
    }
   ],
   "source": [
    "print(F)"
   ]
  },
  {
   "cell_type": "markdown",
   "metadata": {},
   "source": [
    "### 1.3 Operaciones básicas"
   ]
  },
  {
   "cell_type": "markdown",
   "metadata": {},
   "source": [
    "Los operadores aritméticos en arrays se aplican elemento a elemento:"
   ]
  },
  {
   "cell_type": "code",
   "execution_count": 55,
   "metadata": {},
   "outputs": [
    {
     "name": "stdout",
     "output_type": "stream",
     "text": [
      "A = [20 30 40 50]\n",
      "B = [0 1 2 3]\n"
     ]
    }
   ],
   "source": [
    "A = np.array([20,30,40,50])\n",
    "B = np.arange(4)\n",
    "\n",
    "print('A =', A)\n",
    "print('B =', B)"
   ]
  },
  {
   "cell_type": "code",
   "execution_count": 56,
   "metadata": {},
   "outputs": [
    {
     "name": "stdout",
     "output_type": "stream",
     "text": [
      "C = [20 29 38 47]\n"
     ]
    }
   ],
   "source": [
    "C = A - B\n",
    "print('C =', C)"
   ]
  },
  {
   "cell_type": "code",
   "execution_count": 57,
   "metadata": {},
   "outputs": [
    {
     "name": "stdout",
     "output_type": "stream",
     "text": [
      "D = [0 1 4 9]\n"
     ]
    }
   ],
   "source": [
    "D = B**2\n",
    "\n",
    "print('D =', D)"
   ]
  },
  {
   "cell_type": "code",
   "execution_count": 58,
   "metadata": {},
   "outputs": [
    {
     "name": "stdout",
     "output_type": "stream",
     "text": [
      "E = [ 9.1 -9.9  7.5 -2.6]\n"
     ]
    }
   ],
   "source": [
    "E = 10*np.sin(A)\n",
    "\n",
    "print('E =', E)"
   ]
  },
  {
   "cell_type": "code",
   "execution_count": 59,
   "metadata": {},
   "outputs": [
    {
     "name": "stdout",
     "output_type": "stream",
     "text": [
      "F = [ True  True False False]\n"
     ]
    }
   ],
   "source": [
    "F = A<35\n",
    "\n",
    "print('F =', F)"
   ]
  },
  {
   "cell_type": "markdown",
   "metadata": {},
   "source": [
    "A diferencia de muchos lenguajes matriciales, el operador producto (*) opera elemento a elemento. \n",
    "\n",
    "(El producto matricial se puede realizar usando np.dot())"
   ]
  },
  {
   "cell_type": "code",
   "execution_count": 60,
   "metadata": {},
   "outputs": [
    {
     "name": "stdout",
     "output_type": "stream",
     "text": [
      "[[1. 0.]\n",
      " [0. 1.]]\n",
      "[[2. 0.]\n",
      " [3. 4.]]\n",
      "[[2. 0.]\n",
      " [0. 4.]]\n"
     ]
    }
   ],
   "source": [
    "A = np.array([[1.0, 0.0], [0.0, 1.0]])\n",
    "\n",
    "B = np.array([[2.0, 0.0], [3.0, 4.0]] )\n",
    "\n",
    "C = A*B                         #<--- producto elemento a elemento\n",
    "\n",
    "print(A)\n",
    "print(B)\n",
    "print(C)"
   ]
  },
  {
   "cell_type": "code",
   "execution_count": 61,
   "metadata": {},
   "outputs": [
    {
     "name": "stdout",
     "output_type": "stream",
     "text": [
      "[[2. 0.]\n",
      " [3. 4.]]\n",
      "[[2. 0.]\n",
      " [3. 4.]]\n"
     ]
    }
   ],
   "source": [
    "D = A.dot(B)                # <---- producto matricial\n",
    "\n",
    "E = np.dot(A, B)                # <---- producto matricial\n",
    "\n",
    "print(D)\n",
    "print(E)"
   ]
  },
  {
   "cell_type": "code",
   "execution_count": 66,
   "metadata": {},
   "outputs": [
    {
     "name": "stdout",
     "output_type": "stream",
     "text": [
      "[[3 3 3]\n",
      " [3 3 3]]\n",
      "int32\n"
     ]
    }
   ],
   "source": [
    "A = np.ones((2,3), dtype=int)\n",
    "\n",
    "A *= 3\n",
    "\n",
    "print(A)\n",
    "print(A.dtype)"
   ]
  },
  {
   "cell_type": "code",
   "execution_count": 63,
   "metadata": {},
   "outputs": [
    {
     "name": "stdout",
     "output_type": "stream",
     "text": [
      "[[3.3 3.5 4. ]\n",
      " [3.2 3.2 3.4]]\n",
      "float64\n"
     ]
    }
   ],
   "source": [
    "B = np.random.random((2,3))\n",
    "\n",
    "B += A\n",
    "\n",
    "print(B)\n",
    "print(B.dtype)"
   ]
  },
  {
   "cell_type": "code",
   "execution_count": 67,
   "metadata": {},
   "outputs": [
    {
     "name": "stdout",
     "output_type": "stream",
     "text": [
      "[[6 6 6]\n",
      " [6 6 6]]\n",
      "int32\n"
     ]
    }
   ],
   "source": [
    "A += B.astype(np.int32)         # B no se convierte a entero automaticamente, ni hay upcasting de A\n",
    "\n",
    "print(A)\n",
    "print(A.dtype)"
   ]
  },
  {
   "cell_type": "markdown",
   "metadata": {},
   "source": [
    "Cuando se opera con arrays de diferentes tipos, el tipo de array resultante corresponde al más general o preciso (un comportamiento conocido como upcasting)."
   ]
  },
  {
   "cell_type": "code",
   "execution_count": 68,
   "metadata": {},
   "outputs": [
    {
     "name": "stdout",
     "output_type": "stream",
     "text": [
      "int32\n",
      "float64\n",
      "float64\n"
     ]
    }
   ],
   "source": [
    "A = np.ones(3, dtype=np.int32)\n",
    "B = np.linspace(0,np.pi,3)\n",
    "\n",
    "print(A.dtype)\n",
    "print(B.dtype)\n",
    "\n",
    "C = A + B\n",
    "\n",
    "print(C.dtype)\n",
    "\n",
    "\n"
   ]
  },
  {
   "cell_type": "code",
   "execution_count": 69,
   "metadata": {},
   "outputs": [
    {
     "name": "stdout",
     "output_type": "stream",
     "text": [
      "complex128\n"
     ]
    }
   ],
   "source": [
    "D = np.exp(C*1j)\n",
    "\n",
    "print(D.dtype)"
   ]
  },
  {
   "cell_type": "markdown",
   "metadata": {},
   "source": [
    "Muchas operaciones, como computar la suma de todos los elementos de un array, son métodos de la clase ndarray."
   ]
  },
  {
   "cell_type": "code",
   "execution_count": 70,
   "metadata": {},
   "outputs": [
    {
     "data": {
      "text/plain": [
       "array([[0. , 0.5, 0.6],\n",
       "       [0.6, 0.6, 0.2]])"
      ]
     },
     "execution_count": 70,
     "metadata": {},
     "output_type": "execute_result"
    }
   ],
   "source": [
    "A = np.random.random((2,3))\n",
    "A"
   ]
  },
  {
   "cell_type": "code",
   "execution_count": 71,
   "metadata": {},
   "outputs": [
    {
     "data": {
      "text/plain": [
       "2.40713908757927"
      ]
     },
     "execution_count": 71,
     "metadata": {},
     "output_type": "execute_result"
    }
   ],
   "source": [
    "A.sum()"
   ]
  },
  {
   "cell_type": "code",
   "execution_count": 72,
   "metadata": {},
   "outputs": [
    {
     "data": {
      "text/plain": [
       "0.02441664978028879"
      ]
     },
     "execution_count": 72,
     "metadata": {},
     "output_type": "execute_result"
    }
   ],
   "source": [
    "A.min()"
   ]
  },
  {
   "cell_type": "code",
   "execution_count": 73,
   "metadata": {},
   "outputs": [
    {
     "data": {
      "text/plain": [
       "0.5851549648978227"
      ]
     },
     "execution_count": 73,
     "metadata": {},
     "output_type": "execute_result"
    }
   ],
   "source": [
    "A.max()"
   ]
  },
  {
   "cell_type": "markdown",
   "metadata": {},
   "source": [
    "Por defecto, estas operaciones se aplican al array como si se tratara de una lista de números, independientemente de su forma. Sin embargo, al especificar el parámetro de eje, se puede aplicar una operación a lo largo del eje especificado:"
   ]
  },
  {
   "cell_type": "code",
   "execution_count": 74,
   "metadata": {},
   "outputs": [
    {
     "data": {
      "text/plain": [
       "array([[ 0,  1,  2,  3],\n",
       "       [ 4,  5,  6,  7],\n",
       "       [ 8,  9, 10, 11]])"
      ]
     },
     "execution_count": 74,
     "metadata": {},
     "output_type": "execute_result"
    }
   ],
   "source": [
    "B = np.arange(12).reshape(3,4)\n",
    "B"
   ]
  },
  {
   "cell_type": "code",
   "execution_count": 75,
   "metadata": {},
   "outputs": [
    {
     "data": {
      "text/plain": [
       "array([12, 15, 18, 21])"
      ]
     },
     "execution_count": 75,
     "metadata": {},
     "output_type": "execute_result"
    }
   ],
   "source": [
    "B.sum(axis=0)                            # suma sobre cada columna"
   ]
  },
  {
   "cell_type": "code",
   "execution_count": 76,
   "metadata": {},
   "outputs": [
    {
     "data": {
      "text/plain": [
       "array([0, 4, 8])"
      ]
     },
     "execution_count": 76,
     "metadata": {},
     "output_type": "execute_result"
    }
   ],
   "source": [
    "B.min(axis=1)                            # mínimo de cada fila"
   ]
  },
  {
   "cell_type": "code",
   "execution_count": 78,
   "metadata": {},
   "outputs": [
    {
     "data": {
      "text/plain": [
       "array([[ 0,  1,  3,  6],\n",
       "       [ 4,  9, 15, 22],\n",
       "       [ 8, 17, 27, 38]], dtype=int32)"
      ]
     },
     "execution_count": 78,
     "metadata": {},
     "output_type": "execute_result"
    }
   ],
   "source": [
    "B.cumsum(axis=1)                         # suma acumulada sobre cada fila"
   ]
  },
  {
   "cell_type": "markdown",
   "metadata": {},
   "source": [
    "NumPy proporciona funciones matemáticas tales como sin, cos y exp. Dentro de NumPy, estas funciones operan elemento a elemento, produciendo una array como salida."
   ]
  },
  {
   "cell_type": "code",
   "execution_count": 82,
   "metadata": {},
   "outputs": [
    {
     "data": {
      "text/plain": [
       "array([0, 1, 2, 3])"
      ]
     },
     "execution_count": 82,
     "metadata": {},
     "output_type": "execute_result"
    }
   ],
   "source": [
    "B = np.arange(4)\n",
    "B"
   ]
  },
  {
   "cell_type": "code",
   "execution_count": 83,
   "metadata": {},
   "outputs": [
    {
     "data": {
      "text/plain": [
       "array([ 1. ,  2.7,  7.4, 20.1])"
      ]
     },
     "execution_count": 83,
     "metadata": {},
     "output_type": "execute_result"
    }
   ],
   "source": [
    "np.exp(B)"
   ]
  },
  {
   "cell_type": "code",
   "execution_count": 84,
   "metadata": {},
   "outputs": [
    {
     "data": {
      "text/plain": [
       "array([0. , 1. , 1.4, 1.7])"
      ]
     },
     "execution_count": 84,
     "metadata": {},
     "output_type": "execute_result"
    }
   ],
   "source": [
    "np.sqrt(B)"
   ]
  },
  {
   "cell_type": "code",
   "execution_count": 86,
   "metadata": {},
   "outputs": [
    {
     "data": {
      "text/plain": [
       "array([2., 0., 6., 3.])"
      ]
     },
     "execution_count": 86,
     "metadata": {},
     "output_type": "execute_result"
    }
   ],
   "source": [
    "C = np.array([2., -1., 4., 0.])\n",
    "\n",
    "np.add(B, C)"
   ]
  },
  {
   "cell_type": "markdown",
   "metadata": {},
   "source": [
    "### 1.4 Indexado, slicing e iteración sobre arrays"
   ]
  },
  {
   "cell_type": "markdown",
   "metadata": {},
   "source": [
    "Los arrays 1D pueden indexarse, rebanarse e iterar sobre ellos, exactamente igual a como se hace con las listas de Python."
   ]
  },
  {
   "cell_type": "code",
   "execution_count": 87,
   "metadata": {},
   "outputs": [
    {
     "data": {
      "text/plain": [
       "array([  0,   1,   8,  27,  64, 125, 216, 343, 512, 729], dtype=int32)"
      ]
     },
     "execution_count": 87,
     "metadata": {},
     "output_type": "execute_result"
    }
   ],
   "source": [
    "A = np.arange(10)**3\n",
    "AA = np.arange(10)**3"
   ]
  },
  {
   "cell_type": "code",
   "execution_count": 88,
   "metadata": {},
   "outputs": [
    {
     "data": {
      "text/plain": [
       "8"
      ]
     },
     "execution_count": 88,
     "metadata": {},
     "output_type": "execute_result"
    }
   ],
   "source": [
    "A[2]"
   ]
  },
  {
   "cell_type": "code",
   "execution_count": 89,
   "metadata": {},
   "outputs": [
    {
     "data": {
      "text/plain": [
       "array([ 8, 27, 64], dtype=int32)"
      ]
     },
     "execution_count": 89,
     "metadata": {},
     "output_type": "execute_result"
    }
   ],
   "source": [
    "A[2:5]"
   ]
  },
  {
   "cell_type": "code",
   "execution_count": 90,
   "metadata": {},
   "outputs": [
    {
     "data": {
      "text/plain": [
       "array([-1000,     1, -1000,    27, -1000,   125,   216,   343,   512,\n",
       "         729], dtype=int32)"
      ]
     },
     "execution_count": 90,
     "metadata": {},
     "output_type": "execute_result"
    }
   ],
   "source": [
    "A[:6:2] = -1000 \n",
    "A"
   ]
  },
  {
   "cell_type": "code",
   "execution_count": 92,
   "metadata": {},
   "outputs": [
    {
     "data": {
      "text/plain": [
       "array([  729,   512,   343,   216,   125, -1000,    27, -1000,     1,\n",
       "       -1000], dtype=int32)"
      ]
     },
     "execution_count": 92,
     "metadata": {},
     "output_type": "execute_result"
    }
   ],
   "source": [
    "A[::-1]                               "
   ]
  },
  {
   "cell_type": "code",
   "execution_count": 109,
   "metadata": {},
   "outputs": [
    {
     "name": "stdout",
     "output_type": "stream",
     "text": [
      "[-1000     1 -1000    27 -1000   125   216   343   512   729]\n",
      "-333.3333333333333\n",
      "0.3333333333333333\n",
      "-333.3333333333333\n",
      "9.0\n",
      "-333.3333333333333\n",
      "41.666666666666664\n",
      "72.0\n",
      "114.33333333333333\n",
      "170.66666666666666\n",
      "243.0\n"
     ]
    }
   ],
   "source": [
    "print(A)\n",
    "\n",
    "for elem in A:\n",
    "    print(elem*(1/3.0))"
   ]
  },
  {
   "cell_type": "markdown",
   "metadata": {},
   "source": [
    "Otro ejemplo:"
   ]
  },
  {
   "cell_type": "code",
   "execution_count": 14,
   "metadata": {},
   "outputs": [
    {
     "data": {
      "text/plain": [
       "array([[14,  9,  4,  3,  6],\n",
       "       [ 9,  8,  0, 14, 12],\n",
       "       [ 3,  3, 11,  0,  1],\n",
       "       [10,  6,  6, 10,  5]])"
      ]
     },
     "execution_count": 14,
     "metadata": {},
     "output_type": "execute_result"
    }
   ],
   "source": [
    "B = (15*np.random.random([4,5])).astype(np.int32)\n",
    "B"
   ]
  },
  {
   "cell_type": "code",
   "execution_count": 15,
   "metadata": {},
   "outputs": [
    {
     "data": {
      "text/plain": [
       "0"
      ]
     },
     "execution_count": 15,
     "metadata": {},
     "output_type": "execute_result"
    }
   ],
   "source": [
    "B[2,3]"
   ]
  },
  {
   "cell_type": "code",
   "execution_count": 16,
   "metadata": {},
   "outputs": [
    {
     "data": {
      "text/plain": [
       "array([9, 8, 3, 6])"
      ]
     },
     "execution_count": 16,
     "metadata": {},
     "output_type": "execute_result"
    }
   ],
   "source": [
    "B[0:5, 1]                   # todos los elementos de la segunda columna"
   ]
  },
  {
   "cell_type": "code",
   "execution_count": 17,
   "metadata": {},
   "outputs": [
    {
     "data": {
      "text/plain": [
       "array([9, 8, 3, 6])"
      ]
     },
     "execution_count": 17,
     "metadata": {},
     "output_type": "execute_result"
    }
   ],
   "source": [
    "B[:,1]                        # lo mismo"
   ]
  },
  {
   "cell_type": "code",
   "execution_count": 18,
   "metadata": {},
   "outputs": [
    {
     "data": {
      "text/plain": [
       "array([[ 9,  8,  0],\n",
       "       [ 3,  3, 11]])"
      ]
     },
     "execution_count": 18,
     "metadata": {},
     "output_type": "execute_result"
    }
   ],
   "source": [
    "B[1:3,:3]                      # todos los elementos de la segunda y tercer columna"
   ]
  },
  {
   "cell_type": "markdown",
   "metadata": {},
   "source": [
    "Cuando se proporcionan menos índices que la cantidad de ejes, los índices que faltan se consideran como el slice completo:"
   ]
  },
  {
   "cell_type": "code",
   "execution_count": 115,
   "metadata": {},
   "outputs": [
    {
     "data": {
      "text/plain": [
       "array([ 6,  3,  5, 12,  7])"
      ]
     },
     "execution_count": 115,
     "metadata": {},
     "output_type": "execute_result"
    }
   ],
   "source": [
    "B[-1]                        # última fila. Equivalente a B[-1,:]"
   ]
  },
  {
   "cell_type": "markdown",
   "metadata": {},
   "source": [
    "La expresión 'B[i]' se trata como un 'i' seguido de tantas instancias de ':' como sea necesario para representar los ejes restantes. NumPy también le permite escribir esto usando puntos: 'B[i, ...]'.\n",
    "\n",
    "Los puntos (...) representan tantos puntos como sea necesario para producir una tupla de indexación completa. Por ejemplo, si X es un array de rango 5 (es decir, tiene 5 ejes), entonces:\n",
    "\n",
    "* X[1,2, ...]    es equivalente a    X[1,2,:,:,:], \n",
    "* X[..., 3]    a    X[:,:,:,:, 3] y \n",
    "* X[ 4, ..., 5 ,:]    a    X[4,:,:, 5 ,:]."
   ]
  },
  {
   "cell_type": "code",
   "execution_count": 116,
   "metadata": {},
   "outputs": [
    {
     "data": {
      "text/plain": [
       "(2, 2, 3)"
      ]
     },
     "execution_count": 116,
     "metadata": {},
     "output_type": "execute_result"
    }
   ],
   "source": [
    "C = np.array( [[[  0,  1,  2],               # a 3D array (two stacked 2D arrays)\n",
    "                [ 10, 12, 13]],\n",
    "               [[100,101,102],\n",
    "                [110,112,113]]])\n",
    "C.shape"
   ]
  },
  {
   "cell_type": "code",
   "execution_count": 117,
   "metadata": {},
   "outputs": [
    {
     "data": {
      "text/plain": [
       "array([[100, 101, 102],\n",
       "       [110, 112, 113]])"
      ]
     },
     "execution_count": 117,
     "metadata": {},
     "output_type": "execute_result"
    }
   ],
   "source": [
    "C[1,...]                                   # same as c[1,:,:] or c[1]"
   ]
  },
  {
   "cell_type": "code",
   "execution_count": 118,
   "metadata": {},
   "outputs": [
    {
     "data": {
      "text/plain": [
       "array([[  2,  13],\n",
       "       [102, 113]])"
      ]
     },
     "execution_count": 118,
     "metadata": {},
     "output_type": "execute_result"
    }
   ],
   "source": [
    "C[...,2]                                   # same as c[:,:,2]"
   ]
  },
  {
   "cell_type": "markdown",
   "metadata": {},
   "source": [
    "Iterar sobre arrays multidimensionales se hace con respecto al primer eje:"
   ]
  },
  {
   "cell_type": "code",
   "execution_count": 119,
   "metadata": {},
   "outputs": [
    {
     "name": "stdout",
     "output_type": "stream",
     "text": [
      "[11  4  1  8  2]\n",
      "[14  7  1  1  9]\n",
      "[ 0 10  7  2  6]\n",
      "[ 6  3  5 12  7]\n"
     ]
    }
   ],
   "source": [
    "for row in B:\n",
    "    print(row)\n"
   ]
  },
  {
   "cell_type": "markdown",
   "metadata": {},
   "source": [
    "Sin embargo, si uno desea realizar una operación en cada elemento del array, se puede usar el atributo flat, que es un iterador sobre todos los elementos:"
   ]
  },
  {
   "cell_type": "code",
   "execution_count": 120,
   "metadata": {},
   "outputs": [
    {
     "name": "stdout",
     "output_type": "stream",
     "text": [
      "11\n",
      "4\n",
      "1\n",
      "8\n",
      "2\n",
      "14\n",
      "7\n",
      "1\n",
      "1\n",
      "9\n",
      "0\n",
      "10\n",
      "7\n",
      "2\n",
      "6\n",
      "6\n",
      "3\n",
      "5\n",
      "12\n",
      "7\n"
     ]
    }
   ],
   "source": [
    "for element in B.flat:\n",
    "    print(element)"
   ]
  },
  {
   "cell_type": "markdown",
   "metadata": {},
   "source": [
    "## 2. Cambio de forma de un array"
   ]
  },
  {
   "cell_type": "code",
   "execution_count": 121,
   "metadata": {},
   "outputs": [
    {
     "data": {
      "text/plain": [
       "array([[3., 1., 3., 9.],\n",
       "       [3., 7., 6., 2.],\n",
       "       [9., 7., 9., 5.]])"
      ]
     },
     "execution_count": 121,
     "metadata": {},
     "output_type": "execute_result"
    }
   ],
   "source": [
    "A = np.floor(10*np.random.random((3,4)))\n",
    "A"
   ]
  },
  {
   "cell_type": "code",
   "execution_count": 122,
   "metadata": {},
   "outputs": [
    {
     "data": {
      "text/plain": [
       "(3, 4)"
      ]
     },
     "execution_count": 122,
     "metadata": {},
     "output_type": "execute_result"
    }
   ],
   "source": [
    "A.shape"
   ]
  },
  {
   "cell_type": "markdown",
   "metadata": {},
   "source": [
    "La forma de un array se puede cambiar con varios comandos. Los siguientes tres comandos devuelven un array modificado, pero no cambian el array original:"
   ]
  },
  {
   "cell_type": "code",
   "execution_count": 123,
   "metadata": {},
   "outputs": [
    {
     "data": {
      "text/plain": [
       "array([3., 1., 3., 9., 3., 7., 6., 2., 9., 7., 9., 5.])"
      ]
     },
     "execution_count": 123,
     "metadata": {},
     "output_type": "execute_result"
    }
   ],
   "source": [
    "A.ravel()  # devuelve un array lineal con todos los elementos del array original"
   ]
  },
  {
   "cell_type": "code",
   "execution_count": 127,
   "metadata": {},
   "outputs": [
    {
     "data": {
      "text/plain": [
       "array([[3., 1.],\n",
       "       [3., 9.],\n",
       "       [3., 7.],\n",
       "       [6., 2.],\n",
       "       [9., 7.],\n",
       "       [9., 5.]])"
      ]
     },
     "execution_count": 127,
     "metadata": {},
     "output_type": "execute_result"
    }
   ],
   "source": [
    "A.reshape(6,2)  # devuelve un array cambiandole la forma al primero"
   ]
  },
  {
   "cell_type": "code",
   "execution_count": 128,
   "metadata": {},
   "outputs": [
    {
     "data": {
      "text/plain": [
       "array([[3., 3., 9.],\n",
       "       [1., 7., 7.],\n",
       "       [3., 6., 9.],\n",
       "       [9., 2., 5.]])"
      ]
     },
     "execution_count": 128,
     "metadata": {},
     "output_type": "execute_result"
    }
   ],
   "source": [
    "A.T  # devuelve el array transpuesto"
   ]
  },
  {
   "cell_type": "code",
   "execution_count": 129,
   "metadata": {},
   "outputs": [
    {
     "data": {
      "text/plain": [
       "(4, 3)"
      ]
     },
     "execution_count": 129,
     "metadata": {},
     "output_type": "execute_result"
    }
   ],
   "source": [
    "A.T.shape"
   ]
  },
  {
   "cell_type": "code",
   "execution_count": 130,
   "metadata": {},
   "outputs": [
    {
     "data": {
      "text/plain": [
       "(3, 4)"
      ]
     },
     "execution_count": 130,
     "metadata": {},
     "output_type": "execute_result"
    }
   ],
   "source": [
    "A.shape"
   ]
  },
  {
   "cell_type": "markdown",
   "metadata": {},
   "source": [
    "La función de reshape devuelve un array modificado, mientras que el método ndarray.resize modifica el array mismo:"
   ]
  },
  {
   "cell_type": "code",
   "execution_count": 131,
   "metadata": {},
   "outputs": [
    {
     "data": {
      "text/plain": [
       "array([[3., 1., 3., 9.],\n",
       "       [3., 7., 6., 2.],\n",
       "       [9., 7., 9., 5.]])"
      ]
     },
     "execution_count": 131,
     "metadata": {},
     "output_type": "execute_result"
    }
   ],
   "source": [
    "A"
   ]
  },
  {
   "cell_type": "code",
   "execution_count": 134,
   "metadata": {},
   "outputs": [
    {
     "data": {
      "text/plain": [
       "array([[3., 1.],\n",
       "       [3., 9.],\n",
       "       [3., 7.],\n",
       "       [6., 2.],\n",
       "       [9., 7.],\n",
       "       [9., 5.]])"
      ]
     },
     "execution_count": 134,
     "metadata": {},
     "output_type": "execute_result"
    }
   ],
   "source": [
    "A.resize((6,2))\n",
    "A"
   ]
  },
  {
   "cell_type": "markdown",
   "metadata": {},
   "source": [
    "Si una dimensión se da como -1 en a reshape, las otras dimensiones se calculan automáticamente:"
   ]
  },
  {
   "cell_type": "code",
   "execution_count": 135,
   "metadata": {},
   "outputs": [
    {
     "data": {
      "text/plain": [
       "array([[3., 1., 3., 9., 3., 7.],\n",
       "       [6., 2., 9., 7., 9., 5.]])"
      ]
     },
     "execution_count": 135,
     "metadata": {},
     "output_type": "execute_result"
    }
   ],
   "source": [
    "A.reshape(2,-1)"
   ]
  },
  {
   "cell_type": "markdown",
   "metadata": {},
   "source": [
    "### Apilando arrays"
   ]
  },
  {
   "cell_type": "code",
   "execution_count": 136,
   "metadata": {},
   "outputs": [
    {
     "data": {
      "text/plain": [
       "array([[3., 6.],\n",
       "       [8., 2.]])"
      ]
     },
     "execution_count": 136,
     "metadata": {},
     "output_type": "execute_result"
    }
   ],
   "source": [
    "A = np.floor(10*np.random.random((2,2)))\n",
    "A"
   ]
  },
  {
   "cell_type": "code",
   "execution_count": 137,
   "metadata": {},
   "outputs": [
    {
     "data": {
      "text/plain": [
       "array([[8., 1.],\n",
       "       [9., 7.]])"
      ]
     },
     "execution_count": 137,
     "metadata": {},
     "output_type": "execute_result"
    }
   ],
   "source": [
    "B = np.floor(10*np.random.random((2,2)))\n",
    "B"
   ]
  },
  {
   "cell_type": "code",
   "execution_count": 138,
   "metadata": {},
   "outputs": [
    {
     "data": {
      "text/plain": [
       "array([[3., 6.],\n",
       "       [8., 2.],\n",
       "       [8., 1.],\n",
       "       [9., 7.]])"
      ]
     },
     "execution_count": 138,
     "metadata": {},
     "output_type": "execute_result"
    }
   ],
   "source": [
    "np.vstack((A,B))"
   ]
  },
  {
   "cell_type": "code",
   "execution_count": 139,
   "metadata": {},
   "outputs": [
    {
     "data": {
      "text/plain": [
       "array([[3., 6., 8., 1.],\n",
       "       [8., 2., 9., 7.]])"
      ]
     },
     "execution_count": 139,
     "metadata": {},
     "output_type": "execute_result"
    }
   ],
   "source": [
    "np.hstack((A,B))"
   ]
  },
  {
   "cell_type": "code",
   "execution_count": 140,
   "metadata": {},
   "outputs": [
    {
     "name": "stdout",
     "output_type": "stream",
     "text": [
      "(2, 2, 2)\n"
     ]
    }
   ],
   "source": [
    "C = np.dstack((A,B))\n",
    "\n",
    "print(C.shape)"
   ]
  },
  {
   "cell_type": "code",
   "execution_count": 141,
   "metadata": {},
   "outputs": [
    {
     "data": {
      "text/plain": [
       "array([[3., 6.],\n",
       "       [8., 2.],\n",
       "       [8., 1.],\n",
       "       [9., 7.]])"
      ]
     },
     "execution_count": 141,
     "metadata": {},
     "output_type": "execute_result"
    }
   ],
   "source": [
    "np.concatenate((A,B), axis=0)"
   ]
  },
  {
   "cell_type": "code",
   "execution_count": 142,
   "metadata": {},
   "outputs": [
    {
     "data": {
      "text/plain": [
       "array([[3., 6., 8., 1.],\n",
       "       [8., 2., 9., 7.]])"
      ]
     },
     "execution_count": 142,
     "metadata": {},
     "output_type": "execute_result"
    }
   ],
   "source": [
    "np.concatenate((A, B), axis=1)"
   ]
  },
  {
   "cell_type": "code",
   "execution_count": 143,
   "metadata": {},
   "outputs": [
    {
     "name": "stdout",
     "output_type": "stream",
     "text": [
      "(10, 10)\n",
      "(10, 10)\n",
      "(10, 10, 2)\n"
     ]
    }
   ],
   "source": [
    "A = np.floor(10*np.random.random([10,10]))\n",
    "B = np.floor(10*np.random.random([10,10]))\n",
    "\n",
    "print(A.shape)\n",
    "print(B.shape)\n",
    "\n",
    "C = np.concatenate((A[..., np.newaxis], B[..., np.newaxis]), axis=2)\n",
    "\n",
    "print(C.shape)"
   ]
  },
  {
   "cell_type": "markdown",
   "metadata": {},
   "source": [
    "Usando hsplit, se puede dividir un array a lo largo de su eje horizontal, especificando el número de arrays (de igual forma) que devuelve, o especificando las columnas después de las cuales debería ocurrir la división:"
   ]
  },
  {
   "cell_type": "code",
   "execution_count": 144,
   "metadata": {},
   "outputs": [
    {
     "data": {
      "text/plain": [
       "array([[0., 8., 7., 6., 0., 3., 4., 1., 2., 3., 2., 4.],\n",
       "       [1., 2., 6., 4., 7., 7., 9., 8., 7., 1., 9., 1.]])"
      ]
     },
     "execution_count": 144,
     "metadata": {},
     "output_type": "execute_result"
    }
   ],
   "source": [
    "A = np.floor(10*np.random.random((2,12)))\n",
    "A"
   ]
  },
  {
   "cell_type": "code",
   "execution_count": 145,
   "metadata": {},
   "outputs": [
    {
     "name": "stdout",
     "output_type": "stream",
     "text": [
      "[[0. 8. 7. 6.]\n",
      " [1. 2. 6. 4.]]\n",
      "[[0. 3. 4. 1.]\n",
      " [7. 7. 9. 8.]]\n",
      "[[2. 3. 2. 4.]\n",
      " [7. 1. 9. 1.]]\n"
     ]
    }
   ],
   "source": [
    "A1, A2, A3 = np.hsplit(A,3)   # Split en 3\n",
    "\n",
    "print(A1)\n",
    "print(A2)\n",
    "print(A3)"
   ]
  },
  {
   "cell_type": "code",
   "execution_count": null,
   "metadata": {
    "collapsed": true
   },
   "outputs": [],
   "source": [
    "A1, A2, A3 = np.hsplit(A,(3,5))   # Split en la tercera y quita columna del array original\n",
    "\n",
    "print(A1)\n",
    "print(A2)\n",
    "print(A3)"
   ]
  },
  {
   "cell_type": "markdown",
   "metadata": {},
   "source": [
    "## 3. Copias y vistas"
   ]
  },
  {
   "cell_type": "markdown",
   "metadata": {},
   "source": [
    "Al operar y manipular arrays, sus datos a veces se copian en un nuevo array y otras veces no. Esto puede ser muy confuso. Hay tres casos:"
   ]
  },
  {
   "cell_type": "markdown",
   "metadata": {},
   "source": [
    "1) Las asignaciones simples no hacen copia del array"
   ]
  },
  {
   "cell_type": "code",
   "execution_count": 146,
   "metadata": {},
   "outputs": [],
   "source": [
    "import numpy as np"
   ]
  },
  {
   "cell_type": "code",
   "execution_count": 147,
   "metadata": {},
   "outputs": [
    {
     "data": {
      "text/plain": [
       "True"
      ]
     },
     "execution_count": 147,
     "metadata": {},
     "output_type": "execute_result"
    }
   ],
   "source": [
    "A = np.arange(12)\n",
    "B = A            # No se crea un array nuevo\n",
    "B is A           # A y B son dos nombres para el mismo array"
   ]
  },
  {
   "cell_type": "code",
   "execution_count": 148,
   "metadata": {},
   "outputs": [
    {
     "data": {
      "text/plain": [
       "(3, 4)"
      ]
     },
     "execution_count": 148,
     "metadata": {},
     "output_type": "execute_result"
    }
   ],
   "source": [
    "B.shape = 3,4    # por ejemplo, cambiarle la forma a B, le cambia la forma a A\n",
    "A.shape"
   ]
  },
  {
   "cell_type": "code",
   "execution_count": 149,
   "metadata": {},
   "outputs": [
    {
     "name": "stdout",
     "output_type": "stream",
     "text": [
      "[[80 80 80 80]\n",
      " [ 4  5  6  7]\n",
      " [ 8  9 10 11]]\n"
     ]
    }
   ],
   "source": [
    "B[0] = 80\n",
    "\n",
    "print(A)"
   ]
  },
  {
   "cell_type": "markdown",
   "metadata": {},
   "source": [
    "Python pasa arrays 'como referencia', por lo que las llamadas a funciones no hacen copia."
   ]
  },
  {
   "cell_type": "code",
   "execution_count": 150,
   "metadata": {},
   "outputs": [
    {
     "name": "stdout",
     "output_type": "stream",
     "text": [
      "Antes de llamar a la función: [1. 1. 1. 1. 1.]\n",
      "Luego de llamar a la función: [2. 2. 2. 2. 2.]\n"
     ]
    }
   ],
   "source": [
    "def f(X):\n",
    "    '''\n",
    "    Una función que espera un array X y cambia X[0] a 2.0\n",
    "    '''\n",
    "    X[0] = 2.0\n",
    "    \n",
    "\n",
    "A = np.ones([4,5])   # <--- array de unos, de 4 filas y 5 columnas\n",
    "\n",
    "print('Antes de llamar a la función:', A[0])          # <--- imprimo la primer fila\n",
    "\n",
    "f(A)\n",
    "\n",
    "print('Luego de llamar a la función:', A[0])                        "
   ]
  },
  {
   "cell_type": "markdown",
   "metadata": {},
   "source": [
    "2) Vistas. Diferentes arrays pueden compartir los mismos datos. El método de view crea un nuevo array que \"mira\" los mismos datos."
   ]
  },
  {
   "cell_type": "code",
   "execution_count": 155,
   "metadata": {},
   "outputs": [
    {
     "name": "stdout",
     "output_type": "stream",
     "text": [
      "[[2. 2. 2. 2. 2.]\n",
      " [1. 1. 1. 1. 1.]\n",
      " [1. 1. 1. 1. 1.]\n",
      " [1. 1. 1. 1. 1.]]\n"
     ]
    },
    {
     "data": {
      "text/plain": [
       "False"
      ]
     },
     "execution_count": 155,
     "metadata": {},
     "output_type": "execute_result"
    }
   ],
   "source": [
    "C = A.view()\n",
    "print(C)\n",
    "C is A"
   ]
  },
  {
   "cell_type": "code",
   "execution_count": 156,
   "metadata": {},
   "outputs": [
    {
     "data": {
      "text/plain": [
       "(4, 5)"
      ]
     },
     "execution_count": 156,
     "metadata": {},
     "output_type": "execute_result"
    }
   ],
   "source": [
    "C.shape = 2,10                      # Cambiar la forma de C, no cambia la de A\n",
    "A.shape"
   ]
  },
  {
   "cell_type": "code",
   "execution_count": 157,
   "metadata": {},
   "outputs": [
    {
     "data": {
      "text/plain": [
       "array([[3., 3., 3., 3., 3.],\n",
       "       [3., 3., 3., 3., 3.],\n",
       "       [1., 1., 1., 1., 1.],\n",
       "       [1., 1., 1., 1., 1.]])"
      ]
     },
     "execution_count": 157,
     "metadata": {},
     "output_type": "execute_result"
    }
   ],
   "source": [
    "C[0] = 3.0                         # Pero cambiar los datos de C, cambia los datos de A\n",
    "A"
   ]
  },
  {
   "cell_type": "markdown",
   "metadata": {},
   "source": [
    "Hacer un slicing de un array devuelve una vista:"
   ]
  },
  {
   "cell_type": "code",
   "execution_count": 158,
   "metadata": {},
   "outputs": [
    {
     "data": {
      "text/plain": [
       "array([[ 3., 10., 10.,  3.,  3.],\n",
       "       [ 3., 10., 10.,  3.,  3.],\n",
       "       [ 1., 10., 10.,  1.,  1.],\n",
       "       [ 1., 10., 10.,  1.,  1.]])"
      ]
     },
     "execution_count": 158,
     "metadata": {},
     "output_type": "execute_result"
    }
   ],
   "source": [
    "S = A[:, 1:3]     \n",
    "S[:] = 10           \n",
    "A"
   ]
  },
  {
   "cell_type": "markdown",
   "metadata": {},
   "source": [
    "3) Copia"
   ]
  },
  {
   "cell_type": "code",
   "execution_count": 159,
   "metadata": {},
   "outputs": [
    {
     "data": {
      "text/plain": [
       "False"
      ]
     },
     "execution_count": 159,
     "metadata": {},
     "output_type": "execute_result"
    }
   ],
   "source": [
    "D = A.copy()                          # se crea un nuevo array y se copian los datos\n",
    "D is A"
   ]
  },
  {
   "cell_type": "code",
   "execution_count": 160,
   "metadata": {},
   "outputs": [
    {
     "data": {
      "text/plain": [
       "array([[ 3., 10., 10.,  3.,  3.],\n",
       "       [ 3., 10., 10.,  3.,  3.],\n",
       "       [ 1., 10., 10.,  1.,  1.],\n",
       "       [ 1., 10., 10.,  1.,  1.]])"
      ]
     },
     "execution_count": 160,
     "metadata": {},
     "output_type": "execute_result"
    }
   ],
   "source": [
    "D[0] = 23\n",
    "A"
   ]
  },
  {
   "cell_type": "markdown",
   "metadata": {},
   "source": [
    "## 4. Indexado (más sofisticado)\n",
    "\n",
    "NumPy ofrece más técnicas de indexación que las secuencias regulares de Python. Además de indexar por enteros y sectores, como vimos anteriormente, los arrays pueden indexarse mediante arrays de enteros y arrays lógicos.\n"
   ]
  },
  {
   "cell_type": "markdown",
   "metadata": {
    "collapsed": true
   },
   "source": [
    "### Indexado con un array de índices¶"
   ]
  },
  {
   "cell_type": "code",
   "execution_count": 2,
   "metadata": {},
   "outputs": [],
   "source": [
    "import numpy as np"
   ]
  },
  {
   "cell_type": "code",
   "execution_count": 3,
   "metadata": {},
   "outputs": [
    {
     "name": "stdout",
     "output_type": "stream",
     "text": [
      "[  0   1   4   9  16  25  36  49  64  81 100 121]\n"
     ]
    },
    {
     "data": {
      "text/plain": [
       "array([ 1,  1,  9, 64, 25], dtype=int32)"
      ]
     },
     "execution_count": 3,
     "metadata": {},
     "output_type": "execute_result"
    }
   ],
   "source": [
    "A = np.arange(12)**2                       # array de cuadrados de los números del 0 al 11\n",
    "print(A)\n",
    "\n",
    "I = np.array([1, 1, 3, 8, 5])              # array de índices\n",
    "\n",
    "A[I]                                       # Los elementos de A en las posiciones dada por I                         "
   ]
  },
  {
   "cell_type": "code",
   "execution_count": 163,
   "metadata": {},
   "outputs": [
    {
     "data": {
      "text/plain": [
       "array([[ 9, 16],\n",
       "       [81, 49]], dtype=int32)"
      ]
     },
     "execution_count": 163,
     "metadata": {},
     "output_type": "execute_result"
    }
   ],
   "source": [
    "J = np.array([[3, 4], [9, 7]])      # array bidimensional de índices\n",
    "\n",
    "A[J]                                # <--- con la misma forma que J"
   ]
  },
  {
   "cell_type": "markdown",
   "metadata": {},
   "source": [
    "Cuando el array indexado es multidimensional, un array de índices se refiere a la primera dimensión del array indexado.\n",
    "\n",
    "El siguiente ejemplo muestra este comportamiento al convertir una imagen 'grayscale' en una imagen 'truecolor' (o RGB) usando una paleta."
   ]
  },
  {
   "cell_type": "code",
   "execution_count": 4,
   "metadata": {},
   "outputs": [
    {
     "name": "stdout",
     "output_type": "stream",
     "text": [
      "(5, 3)\n",
      "(2, 4)\n",
      "(2, 4, 3)\n",
      "paleta\n",
      "[[0. 0. 0.]\n",
      " [1. 0. 0.]\n",
      " [0. 1. 0.]\n",
      " [0. 0. 1.]\n",
      " [1. 1. 1.]]\n",
      "imagen\n",
      "[[0 1 2 0]\n",
      " [0 3 4 0]]\n",
      "index\n",
      "[[[0. 0. 0.]\n",
      "  [1. 0. 0.]\n",
      "  [0. 1. 0.]\n",
      "  [0. 0. 0.]]\n",
      "\n",
      " [[0. 0. 0.]\n",
      "  [0. 0. 1.]\n",
      "  [1. 1. 1.]\n",
      "  [0. 0. 0.]]]\n"
     ]
    }
   ],
   "source": [
    "paleta = np.array( [ [0.0, 0.0, 0.0],              # negro\n",
    "                      [1.0, 0.0, 0.0],             # rojo\n",
    "                      [0.0, 1.0, 0.0],             # verde\n",
    "                      [0.0, 0.0, 1.0],             # azul\n",
    "                      [1.0, 1.0, 1.0] ] )          # blanco\n",
    "\n",
    "imagen = np.array([[ 0, 1, 2, 0 ],           # cada valor, sirve como indice en el mapa de colores (paleta)\n",
    "                   [ 0, 3, 4, 0 ]])\n",
    "\n",
    "print(paleta.shape)   \n",
    "print(imagen.shape)\n",
    "print(paleta[imagen].shape) \n",
    "   \n",
    "print('paleta')\n",
    "print(paleta)\n",
    "print('imagen')\n",
    "print(imagen)\n",
    "\n",
    "print('index')\n",
    "print(paleta[imagen])"
   ]
  },
  {
   "cell_type": "code",
   "execution_count": 182,
   "metadata": {},
   "outputs": [
    {
     "data": {
      "image/png": "[encoded data removed]",
      "text/plain": [
       "<Figure size 432x288 with 1 Axes>"
      ]
     },
     "metadata": {
      "needs_background": "light"
     },
     "output_type": "display_data"
    },
    {
     "data": {
      "image/png": "[encoded data removed]",
      "text/plain": [
       "<Figure size 432x288 with 1 Axes>"
      ]
     },
     "metadata": {
      "needs_background": "light"
     },
     "output_type": "display_data"
    }
   ],
   "source": [
    "import matplotlib.pyplot as plt\n",
    "\n",
    "plt.figure()\n",
    "plt.imshow(imagen, cmap = 'gray')\n",
    "plt.axis('off')\n",
    "plt.show()\n",
    "\n",
    "\n",
    "\n",
    "plt.figure()\n",
    "plt.imshow(paleta[imagen], cmap = 'gray')\n",
    "plt.axis('off')\n",
    "plt.show()"
   ]
  },
  {
   "cell_type": "markdown",
   "metadata": {},
   "source": [
    "También podemos proporcionar índices para más de una dimensión. Los arrays de índices para cada dimensión deben tener la misma forma."
   ]
  },
  {
   "cell_type": "code",
   "execution_count": 183,
   "metadata": {},
   "outputs": [
    {
     "data": {
      "text/plain": [
       "array([[ 0,  1,  2,  3],\n",
       "       [ 4,  5,  6,  7],\n",
       "       [ 8,  9, 10, 11]])"
      ]
     },
     "execution_count": 183,
     "metadata": {},
     "output_type": "execute_result"
    }
   ],
   "source": [
    "A = np.arange(12).reshape(3,4)\n",
    "A"
   ]
  },
  {
   "cell_type": "code",
   "execution_count": 184,
   "metadata": {},
   "outputs": [
    {
     "data": {
      "text/plain": [
       "array([[ 2,  5],\n",
       "       [ 7, 11]])"
      ]
     },
     "execution_count": 184,
     "metadata": {},
     "output_type": "execute_result"
    }
   ],
   "source": [
    "I = np.array([[0,1],                        # Índices para la primera dimesión de A\n",
    "              [1,2]])\n",
    "\n",
    "J = np.array([[2,1],                        # Índices para la segunda dimesión de A\n",
    "              [3,3]])\n",
    "\n",
    "A[I,J]                                      # I y J deben tener la misma forma"
   ]
  },
  {
   "cell_type": "code",
   "execution_count": 189,
   "metadata": {},
   "outputs": [
    {
     "data": {
      "text/plain": [
       "array([[ 2,  6],\n",
       "       [ 6, 10]])"
      ]
     },
     "execution_count": 189,
     "metadata": {},
     "output_type": "execute_result"
    }
   ],
   "source": [
    "A[I,2]"
   ]
  },
  {
   "cell_type": "code",
   "execution_count": 190,
   "metadata": {},
   "outputs": [
    {
     "data": {
      "text/plain": [
       "array([[[ 2,  1],\n",
       "        [ 3,  3]],\n",
       "\n",
       "       [[ 6,  5],\n",
       "        [ 7,  7]],\n",
       "\n",
       "       [[10,  9],\n",
       "        [11, 11]]])"
      ]
     },
     "execution_count": 190,
     "metadata": {},
     "output_type": "execute_result"
    }
   ],
   "source": [
    "A[:,J]                                     "
   ]
  },
  {
   "cell_type": "markdown",
   "metadata": {},
   "source": [
    "Podemos poner I y J en una lista y luego hacer la indexación con la lista"
   ]
  },
  {
   "cell_type": "code",
   "execution_count": 191,
   "metadata": {},
   "outputs": [
    {
     "name": "stdout",
     "output_type": "stream",
     "text": [
      "[array([[0, 1],\n",
      "       [1, 2]]), array([[2, 1],\n",
      "       [3, 3]])]\n"
     ]
    },
    {
     "name": "stderr",
     "output_type": "stream",
     "text": [
      "D:\\Python\\lib\\site-packages\\ipykernel_launcher.py:4: FutureWarning: Using a non-tuple sequence for multidimensional indexing is deprecated; use `arr[tuple(seq)]` instead of `arr[seq]`. In the future this will be interpreted as an array index, `arr[np.array(seq)]`, which will result either in an error or a different result.\n",
      "  after removing the cwd from sys.path.\n"
     ]
    },
    {
     "data": {
      "text/plain": [
       "array([[ 2,  5],\n",
       "       [ 7, 11]])"
      ]
     },
     "execution_count": 191,
     "metadata": {},
     "output_type": "execute_result"
    }
   ],
   "source": [
    "L = [I,J]\n",
    "print(L)\n",
    "\n",
    "A[L]                                       # equivalente a A[I,J]"
   ]
  },
  {
   "cell_type": "markdown",
   "metadata": {},
   "source": [
    "Sin embargo, no podemos hacer esto poniendo I y J en un array, ya que este array se interpretará como indexando la primera dimensión de A."
   ]
  },
  {
   "cell_type": "code",
   "execution_count": 192,
   "metadata": {},
   "outputs": [
    {
     "name": "stdout",
     "output_type": "stream",
     "text": [
      "[[[0 1]\n",
      "  [1 2]]\n",
      "\n",
      " [[2 1]\n",
      "  [3 3]]]\n"
     ]
    },
    {
     "ename": "IndexError",
     "evalue": "index 3 is out of bounds for axis 0 with size 3",
     "output_type": "error",
     "traceback": [
      "\u001b[1;31m---------------------------------------------------------------------------\u001b[0m",
      "\u001b[1;31mIndexError\u001b[0m                                Traceback (most recent call last)",
      "\u001b[1;32m<ipython-input-192-10027921e738>\u001b[0m in \u001b[0;36m<module>\u001b[1;34m\u001b[0m\n\u001b[0;32m      2\u001b[0m \u001b[0mprint\u001b[0m\u001b[1;33m(\u001b[0m\u001b[0mS\u001b[0m\u001b[1;33m)\u001b[0m\u001b[1;33m\u001b[0m\u001b[1;33m\u001b[0m\u001b[0m\n\u001b[0;32m      3\u001b[0m \u001b[1;33m\u001b[0m\u001b[0m\n\u001b[1;32m----> 4\u001b[1;33m \u001b[0mA\u001b[0m\u001b[1;33m[\u001b[0m\u001b[0mS\u001b[0m\u001b[1;33m]\u001b[0m                                       \u001b[1;31m# No es lo mismo que lo visto arriba\u001b[0m\u001b[1;33m\u001b[0m\u001b[1;33m\u001b[0m\u001b[0m\n\u001b[0m",
      "\u001b[1;31mIndexError\u001b[0m: index 3 is out of bounds for axis 0 with size 3"
     ]
    }
   ],
   "source": [
    "S = np.array([I,J])\n",
    "print(S)\n",
    "\n",
    "A[S]                                       # No es lo mismo que lo visto arriba"
   ]
  },
  {
   "cell_type": "code",
   "execution_count": 193,
   "metadata": {},
   "outputs": [
    {
     "data": {
      "text/plain": [
       "array([[ 2,  5],\n",
       "       [ 7, 11]])"
      ]
     },
     "execution_count": 193,
     "metadata": {},
     "output_type": "execute_result"
    }
   ],
   "source": [
    "A[tuple(S)]                                # lo mismo que A[I,J]"
   ]
  },
  {
   "cell_type": "markdown",
   "metadata": {},
   "source": [
    "Otro ejemplo de indexación con arrays de índices, es la búsqueda del valor máximo de series dependientes del tiempo:"
   ]
  },
  {
   "cell_type": "code",
   "execution_count": 198,
   "metadata": {},
   "outputs": [
    {
     "name": "stdout",
     "output_type": "stream",
     "text": [
      "[ 20.   51.2  82.5 113.8 145. ]\n",
      "[[0.7 0.3 0.5 0.8]\n",
      " [0.8 0.7 0.6 0.6]\n",
      " [0.4 0.6 0.3 0.7]\n",
      " [0.1 0.7 0.4 0.5]\n",
      " [0.8 0.3 0.1 0.6]]\n"
     ]
    }
   ],
   "source": [
    "time = np.linspace(20, 145, 5)                 # array arbitrario que simula el tiempo    \n",
    "data = np.random.random((5,4))                 # 4 series arbitrarias (columnas) que simulan depender del tiempo\n",
    "\n",
    "print(time)\n",
    "\n",
    "print(data)\n",
    "\n"
   ]
  },
  {
   "cell_type": "code",
   "execution_count": 199,
   "metadata": {},
   "outputs": [
    {
     "data": {
      "text/plain": [
       "array([4, 1, 1, 0], dtype=int64)"
      ]
     },
     "execution_count": 199,
     "metadata": {},
     "output_type": "execute_result"
    }
   ],
   "source": [
    "ind = data.argmax(axis=0)                   # índices de los máximos para cada columna\n",
    "ind"
   ]
  },
  {
   "cell_type": "code",
   "execution_count": 200,
   "metadata": {},
   "outputs": [
    {
     "name": "stdout",
     "output_type": "stream",
     "text": [
      "[145.   51.2  51.2  20. ]\n",
      "[0.8 0.7 0.6 0.8]\n"
     ]
    }
   ],
   "source": [
    "time_max = time[ind]                        # tiempos correspondientes al máximo \n",
    "data_max = data[ind, range(data.shape[1])]  # => data[ind[0],0], data[ind[1],1]...\n",
    "\n",
    "print(time_max)\n",
    "\n",
    "print(data_max)"
   ]
  },
  {
   "cell_type": "code",
   "execution_count": 201,
   "metadata": {},
   "outputs": [
    {
     "data": {
      "image/png": "[encoded data removed]",
      "text/plain": [
       "<Figure size 432x288 with 1 Axes>"
      ]
     },
     "metadata": {
      "needs_background": "light"
     },
     "output_type": "display_data"
    }
   ],
   "source": [
    "# graficando los resultados...\n",
    "\n",
    "plt.figure()\n",
    "plt.plot(time, data)\n",
    "plt.plot(time_max, data_max, 'ok')\n",
    "plt.show()"
   ]
  },
  {
   "cell_type": "markdown",
   "metadata": {},
   "source": [
    "También puede usar la indexación para asignar valores a arrays:"
   ]
  },
  {
   "cell_type": "code",
   "execution_count": 202,
   "metadata": {},
   "outputs": [
    {
     "data": {
      "text/plain": [
       "array([0, 1, 2, 3, 4])"
      ]
     },
     "execution_count": 202,
     "metadata": {},
     "output_type": "execute_result"
    }
   ],
   "source": [
    "A = np.arange(5)\n",
    "A"
   ]
  },
  {
   "cell_type": "code",
   "execution_count": 203,
   "metadata": {},
   "outputs": [
    {
     "data": {
      "text/plain": [
       "array([0, 0, 2, 0, 0])"
      ]
     },
     "execution_count": 203,
     "metadata": {},
     "output_type": "execute_result"
    }
   ],
   "source": [
    "A[[1,3,4]] = 0\n",
    "A"
   ]
  },
  {
   "cell_type": "markdown",
   "metadata": {},
   "source": [
    "Sin embargo, cuando la lista de índices contiene repeticiones, la asignación se realiza varias veces, pisando el último valor:"
   ]
  },
  {
   "cell_type": "code",
   "execution_count": 204,
   "metadata": {},
   "outputs": [
    {
     "data": {
      "text/plain": [
       "array([0, 1, 2, 3, 4])"
      ]
     },
     "execution_count": 204,
     "metadata": {},
     "output_type": "execute_result"
    }
   ],
   "source": [
    "A = np.arange(5)\n",
    "A"
   ]
  },
  {
   "cell_type": "code",
   "execution_count": 205,
   "metadata": {},
   "outputs": [
    {
     "data": {
      "text/plain": [
       "array([2, 1, 3, 3, 4])"
      ]
     },
     "execution_count": 205,
     "metadata": {},
     "output_type": "execute_result"
    }
   ],
   "source": [
    "A[[0,0,2]] = [1,2,3]\n",
    "A"
   ]
  },
  {
   "cell_type": "markdown",
   "metadata": {},
   "source": [
    "### Indexado lógico"
   ]
  },
  {
   "cell_type": "code",
   "execution_count": 206,
   "metadata": {},
   "outputs": [
    {
     "name": "stdout",
     "output_type": "stream",
     "text": [
      "[[ 0  1  2  3]\n",
      " [ 4  5  6  7]\n",
      " [ 8  9 10 11]]\n",
      "[[False False False False]\n",
      " [False  True  True  True]\n",
      " [ True  True  True  True]]\n"
     ]
    }
   ],
   "source": [
    "A = np.arange(12).reshape(3,4)\n",
    "B = A > 4\n",
    "\n",
    "print(A)\n",
    "print(B)                                          # B es un array lógico de las mismas forma de A"
   ]
  },
  {
   "cell_type": "code",
   "execution_count": 207,
   "metadata": {},
   "outputs": [
    {
     "data": {
      "text/plain": [
       "array([ 5,  6,  7,  8,  9, 10, 11])"
      ]
     },
     "execution_count": 207,
     "metadata": {},
     "output_type": "execute_result"
    }
   ],
   "source": [
    "A[B]                                       # array 1D con los elementos de A donde B es True"
   ]
  },
  {
   "cell_type": "markdown",
   "metadata": {},
   "source": [
    "Esto es muy util para hacer asignaciones basados en un criterio:"
   ]
  },
  {
   "cell_type": "code",
   "execution_count": 208,
   "metadata": {},
   "outputs": [
    {
     "data": {
      "text/plain": [
       "array([[0, 1, 2, 3],\n",
       "       [4, 0, 0, 0],\n",
       "       [0, 0, 0, 0]])"
      ]
     },
     "execution_count": 208,
     "metadata": {},
     "output_type": "execute_result"
    }
   ],
   "source": [
    "A[B] = 0                                   # Esto hace cero todos los elementos de A que son mayores a 4\n",
    "A"
   ]
  },
  {
   "cell_type": "markdown",
   "metadata": {},
   "source": [
    "Como ejemplo, de indexado lógico, trataremos de segmentar el \"tejido blando\" de un fantoma:"
   ]
  },
  {
   "cell_type": "code",
   "execution_count": 15,
   "metadata": {},
   "outputs": [
    {
     "data": {
      "image/png": "[encoded data removed]",
      "text/plain": [
       "<Figure size 432x432 with 1 Axes>"
      ]
     },
     "metadata": {
      "needs_background": "light"
     },
     "output_type": "display_data"
    }
   ],
   "source": [
    "import matplotlib.pyplot as plt\n",
    "import numpy as np\n",
    "I = plt.imread('./cirs_slice.png')[...,0]\n",
    "\n",
    "\n",
    "plt.figure(figsize = (6,6))\n",
    "plt.imshow(I, cmap = 'gray')\n",
    "plt.show()"
   ]
  },
  {
   "cell_type": "code",
   "execution_count": 16,
   "metadata": {},
   "outputs": [
    {
     "name": "stderr",
     "output_type": "stream",
     "text": [
      "D:\\Python\\lib\\site-packages\\ipykernel_launcher.py:2: MatplotlibDeprecationWarning: \n",
      "The 'normed' kwarg was deprecated in Matplotlib 2.1 and will be removed in 3.1. Use 'density' instead.\n",
      "  \n"
     ]
    },
    {
     "data": {
      "image/png": "[encoded data removed]",
      "text/plain": [
       "<Figure size 432x288 with 1 Axes>"
      ]
     },
     "metadata": {
      "needs_background": "light"
     },
     "output_type": "display_data"
    }
   ],
   "source": [
    "plt.figure()\n",
    "plt.hist(I.ravel(), bins=100, normed=1)       # matplotlib version (plot)\n",
    "plt.show()"
   ]
  },
  {
   "cell_type": "code",
   "execution_count": 17,
   "metadata": {},
   "outputs": [
    {
     "name": "stdout",
     "output_type": "stream",
     "text": [
      "1.0\n",
      "0.0\n"
     ]
    }
   ],
   "source": [
    "Mask = np.zeros(I.shape)\n",
    "\n",
    "Mask[(I>0.4) & (I<0.45)] = 1 #usar 0.6 y 0.8 para la médula y 0.4 y 0.45 para el tejido blando.¿y para pulmón?\n",
    "\n",
    "print(Mask.max())\n",
    "print(Mask.min())"
   ]
  },
  {
   "cell_type": "code",
   "execution_count": 18,
   "metadata": {},
   "outputs": [
    {
     "data": {
      "image/png": "[encoded data removed]",
      "text/plain": [
       "<Figure size 432x432 with 1 Axes>"
      ]
     },
     "metadata": {
      "needs_background": "light"
     },
     "output_type": "display_data"
    }
   ],
   "source": [
    "plt.figure(figsize = (6,6))\n",
    "plt.imshow(Mask, cmap = 'gray')\n",
    "plt.show()"
   ]
  },
  {
   "cell_type": "code",
   "execution_count": 24,
   "metadata": {},
   "outputs": [
    {
     "name": "stdout",
     "output_type": "stream",
     "text": [
      "(483, 491, 3)\n"
     ]
    }
   ],
   "source": [
    "red_mask = np.dstack([np.zeros_like(Mask), Mask, np.zeros_like(Mask)])\n",
    "\n",
    "print(red_mask.shape)"
   ]
  },
  {
   "cell_type": "code",
   "execution_count": 25,
   "metadata": {},
   "outputs": [
    {
     "data": {
      "image/png": "[encoded data removed]",
      "text/plain": [
       "<Figure size 432x432 with 1 Axes>"
      ]
     },
     "metadata": {
      "needs_background": "light"
     },
     "output_type": "display_data"
    }
   ],
   "source": [
    "\n",
    "plt.figure(figsize = (6,6))\n",
    "plt.imshow(I, cmap = 'gray')\n",
    "plt.imshow(red_mask, alpha = 0.5, cmap = 'gray')\n",
    "plt.show()\n"
   ]
  },
  {
   "cell_type": "markdown",
   "metadata": {},
   "source": [
    "## 5. Un poco de IO\n",
    "\n",
    "### De y hacia texto"
   ]
  },
  {
   "cell_type": "code",
   "execution_count": 45,
   "metadata": {},
   "outputs": [
    {
     "name": "stdout",
     "output_type": "stream",
     "text": [
      "[[ 0.          0.          0.        ]\n",
      " [ 1.          0.84147098  1.        ]\n",
      " [ 2.          0.90929743  2.        ]\n",
      " [ 3.          0.14112001  3.        ]\n",
      " [ 4.         -0.7568025   4.        ]\n",
      " [ 5.         -0.95892427  5.        ]\n",
      " [ 6.         -0.2794155   6.        ]\n",
      " [ 7.          0.6569866   7.        ]\n",
      " [ 8.          0.98935825  8.        ]\n",
      " [ 9.          0.41211849  9.        ]\n",
      " [10.         -0.54402111 10.        ]\n",
      " [11.         -0.99999021 11.        ]\n",
      " [12.         -0.53657292 12.        ]\n",
      " [13.          0.42016704 13.        ]\n",
      " [14.          0.99060736 14.        ]\n",
      " [15.          0.65028784 15.        ]\n",
      " [16.         -0.28790332 16.        ]\n",
      " [17.         -0.96139749 17.        ]\n",
      " [18.         -0.75098725 18.        ]\n",
      " [19.          0.14987721 19.        ]]\n"
     ]
    }
   ],
   "source": [
    "data = np.loadtxt('./ejemplo_texto_tabla.txt', delimiter = ',', skiprows = 7)\n",
    "data.shape\n",
    "print(data)\n"
   ]
  },
  {
   "cell_type": "code",
   "execution_count": 51,
   "metadata": {},
   "outputs": [
    {
     "data": {
      "image/png": "[encoded data removed]",
      "text/plain": [
       "<Figure size 432x288 with 1 Axes>"
      ]
     },
     "metadata": {
      "needs_background": "light"
     },
     "output_type": "display_data"
    }
   ],
   "source": [
    "plt.figure()\n",
    "plt.plot(data[0:10,0], data[0:10,1], '-*')\n",
    "plt.show()"
   ]
  },
  {
   "cell_type": "code",
   "execution_count": 32,
   "metadata": {},
   "outputs": [
    {
     "name": "stdout",
     "output_type": "stream",
     "text": [
      "(20,)\n"
     ]
    },
    {
     "data": {
      "image/png": "[encoded data removed]",
      "text/plain": [
       "<Figure size 432x288 with 1 Axes>"
      ]
     },
     "metadata": {
      "needs_background": "light"
     },
     "output_type": "display_data"
    }
   ],
   "source": [
    "z = -np.cos(data[:,0])\n",
    "\n",
    "print(z.shape)\n",
    "\n",
    "nueva_data = np.concatenate([data, z[:,np.newaxis]], axis = 1)\n",
    "\n",
    "plt.figure()\n",
    "plt.plot(nueva_data[:,0], nueva_data[:,1], '-*')\n",
    "plt.plot(nueva_data[:,0], nueva_data[:,2], '-+')\n",
    "plt.show()"
   ]
  },
  {
   "cell_type": "code",
   "execution_count": 36,
   "metadata": {},
   "outputs": [],
   "source": [
    "mi_header = \"Este es un ejemplo de header\\ncon más de una línea\\n\\nx, y, z\\n\\n\"\n",
    "\n",
    "np.savetxt('otro_ejemplo.txt', nueva_data, delimiter=',', header = mi_header) "
   ]
  },
  {
   "cell_type": "markdown",
   "metadata": {},
   "source": [
    "### Formatos propios"
   ]
  },
  {
   "cell_type": "code",
   "execution_count": 37,
   "metadata": {},
   "outputs": [],
   "source": [
    "X = np.ones((3, 3))\n",
    "\n",
    "np.save('mi_array.npy', X)"
   ]
  },
  {
   "cell_type": "code",
   "execution_count": 38,
   "metadata": {},
   "outputs": [
    {
     "name": "stdout",
     "output_type": "stream",
     "text": [
      "[[1. 1. 1.]\n",
      " [1. 1. 1.]\n",
      " [1. 1. 1.]]\n"
     ]
    }
   ],
   "source": [
    "X2 = np.load('mi_array.npy')\n",
    "\n",
    "print(X2)"
   ]
  },
  {
   "cell_type": "code",
   "execution_count": 39,
   "metadata": {},
   "outputs": [],
   "source": [
    "Y = 2*X\n",
    "Z = Y + 23\n",
    "\n",
    "np.savez('mis_arrays.npz', a = X, b = Y, c = Z)"
   ]
  },
  {
   "cell_type": "code",
   "execution_count": 40,
   "metadata": {},
   "outputs": [
    {
     "name": "stdout",
     "output_type": "stream",
     "text": [
      "[[1. 1. 1.]\n",
      " [1. 1. 1.]\n",
      " [1. 1. 1.]]\n",
      "[[2. 2. 2.]\n",
      " [2. 2. 2.]\n",
      " [2. 2. 2.]]\n",
      "[[25. 25. 25.]\n",
      " [25. 25. 25.]\n",
      " [25. 25. 25.]]\n"
     ]
    }
   ],
   "source": [
    "data = np.load('mis_arrays.npz')\n",
    "\n",
    "print(data['a'])\n",
    "print(data['b'])\n",
    "print(data['c'])"
   ]
  },
  {
   "cell_type": "code",
   "execution_count": null,
   "metadata": {},
   "outputs": [],
   "source": []
  }
 ],
 "metadata": {
  "kernelspec": {
   "display_name": "Python 3",
   "language": "python",
   "name": "python3"
  },
  "language_info": {
   "codemirror_mode": {
    "name": "ipython",
    "version": 3
   },
   "file_extension": ".py",
   "mimetype": "text/x-python",
   "name": "python",
   "nbconvert_exporter": "python",
   "pygments_lexer": "ipython3",
   "version": "3.8.3"
  }
 },
 "nbformat": 4,
 "nbformat_minor": 2
}
