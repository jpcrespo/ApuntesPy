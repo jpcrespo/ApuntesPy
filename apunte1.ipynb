{
 "cells": [
  {
   "cell_type": "markdown",
   "metadata": {},
   "source": [
    "# Apuntes Python\n",
    "\n",
    "### https://github.com/jpcrespo\n",
    "\n",
    "\n",
    "\n",
    "# Introducción a Python"
   ]
  },
  {
   "cell_type": "markdown",
   "metadata": {
    "collapsed": true
   },
   "source": [
    "## 1. Tipos de Variables"
   ]
  },
  {
   "cell_type": "markdown",
   "metadata": {},
   "source": [
    "### 1.1 Tipos numéricos"
   ]
  },
  {
   "cell_type": "markdown",
   "metadata": {},
   "source": [
    "Números de reales y enteros"
   ]
  },
  {
   "cell_type": "code",
   "execution_count": 1,
   "metadata": {
    "scrolled": true
   },
   "outputs": [
    {
     "name": "stdout",
     "output_type": "stream",
     "text": [
      "7.584\n",
      "<class 'float'>\n",
      "8\n",
      "<class 'int'>\n",
      "(10+5j)\n",
      "<class 'complex'>\n"
     ]
    }
   ],
   "source": [
    "a = 7.584 # número real\n",
    "\n",
    "print(a)\n",
    "print(type(a))\n",
    "\n",
    "b = 8 # número entero\n",
    "\n",
    "print(b)\n",
    "print(type(b))\n",
    "\n",
    "c = 10 + 5j\n",
    "\n",
    "print(c)\n",
    "print(type(c))"
   ]
  },
  {
   "cell_type": "markdown",
   "metadata": {},
   "source": [
    "Cast"
   ]
  },
  {
   "cell_type": "code",
   "execution_count": 2,
   "metadata": {
    "scrolled": true
   },
   "outputs": [
    {
     "name": "stdout",
     "output_type": "stream",
     "text": [
      "8.0\n",
      "<class 'float'>\n",
      "7\n",
      "<class 'int'>\n",
      "(7.584+0j)\n",
      "<class 'complex'>\n",
      "7.584\n",
      "0.0\n"
     ]
    }
   ],
   "source": [
    "d = float(b) # cast a float\n",
    "\n",
    "print(d)\n",
    "print(type(d))\n",
    "\n",
    "e = int(a) # cast a int\n",
    "\n",
    "print(e)\n",
    "print(type(e))\n",
    "\n",
    "f = complex(a)\n",
    "\n",
    "print(f)\n",
    "print(type(f))\n",
    "\n",
    "print(f.real)\n",
    "print(f.imag)"
   ]
  },
  {
   "cell_type": "markdown",
   "metadata": {},
   "source": [
    "Python realiza un cast dinámico al realizar una operación. Por ejemplo, al sumar un float y un int, el int es promovido a float antes de sumar"
   ]
  },
  {
   "cell_type": "code",
   "execution_count": 3,
   "metadata": {},
   "outputs": [
    {
     "name": "stdout",
     "output_type": "stream",
     "text": [
      "15.584 <class 'float'>\n",
      "(-2.4160000000000004-5j) <class 'complex'>\n"
     ]
    }
   ],
   "source": [
    "d = a + b\n",
    "\n",
    "print(d, type(d))\n",
    "\n",
    "d = a - c\n",
    "\n",
    "print(d, type(d))"
   ]
  },
  {
   "cell_type": "code",
   "execution_count": 4,
   "metadata": {},
   "outputs": [
    {
     "name": "stdout",
     "output_type": "stream",
     "text": [
      "7.584 <class 'float'>\n",
      "8 <class 'int'>\n",
      "60.672 <class 'float'>\n"
     ]
    }
   ],
   "source": [
    "f = a*b\n",
    "\n",
    "print(a, type(a))\n",
    "print(b, type(b))\n",
    "print(f, type(f))"
   ]
  },
  {
   "cell_type": "markdown",
   "metadata": {},
   "source": [
    "En la división de dos enteros (usando /), se obtiene un float. Nota: esto no ocurria en Python 2.x, donde la división de dos enteros usando /, daba un entero. \n",
    "\n",
    "Para recuperar la división de enteros, uso //."
   ]
  },
  {
   "cell_type": "code",
   "execution_count": 5,
   "metadata": {},
   "outputs": [
    {
     "name": "stdout",
     "output_type": "stream",
     "text": [
      "1.5 <class 'float'>\n",
      "1 <class 'int'>\n"
     ]
    }
   ],
   "source": [
    "a = 3\n",
    "b = 2\n",
    "\n",
    "c = a/b # <---- en python 2.x, la división de enteros con / da un entero\n",
    "\n",
    "print(c, type(c))\n",
    "\n",
    "c2 = a//b\n",
    "\n",
    "print(c2, type(c2))"
   ]
  },
  {
   "cell_type": "markdown",
   "metadata": {},
   "source": [
    "Potencias:"
   ]
  },
  {
   "cell_type": "code",
   "execution_count": 6,
   "metadata": {},
   "outputs": [
    {
     "name": "stdout",
     "output_type": "stream",
     "text": [
      "9 <class 'int'>\n",
      "9.0 <class 'float'>\n",
      "9.0 <class 'float'>\n",
      "9.0 <class 'float'>\n"
     ]
    }
   ],
   "source": [
    "h = 3**2\n",
    "\n",
    "print(h, type(h))\n",
    "\n",
    "h1 = 3.0**2\n",
    "\n",
    "print(h1, type(h1))\n",
    "\n",
    "h2 = 3**2.0\n",
    "\n",
    "print(h2, type(h2))\n",
    "\n",
    "h3 = 3.0**2.0\n",
    "\n",
    "print(h3, type(h3))"
   ]
  },
  {
   "cell_type": "markdown",
   "metadata": {},
   "source": [
    "Modulo:"
   ]
  },
  {
   "cell_type": "code",
   "execution_count": 7,
   "metadata": {},
   "outputs": [
    {
     "name": "stdout",
     "output_type": "stream",
     "text": [
      "2 <class 'int'>\n",
      "1.79 <class 'float'>\n"
     ]
    }
   ],
   "source": [
    "a = 11\n",
    "b = 3\n",
    "\n",
    "c = a%b\n",
    "\n",
    "print(c, type(c))\n",
    "\n",
    "a = 11.42\n",
    "b = 3.21\n",
    "\n",
    "c = a%b\n",
    "\n",
    "print(c, type(c))"
   ]
  },
  {
   "cell_type": "markdown",
   "metadata": {},
   "source": [
    "Otras operaciones con números:"
   ]
  },
  {
   "cell_type": "code",
   "execution_count": 17,
   "metadata": {},
   "outputs": [
    {
     "name": "stdout",
     "output_type": "stream",
     "text": [
      "3.0\n",
      "27\n",
      "6.907755278982137\n",
      "-16.254302227637734 360.0\n"
     ]
    }
   ],
   "source": [
    "from math import *\n",
    "\n",
    "c = sqrt(9)\n",
    "\n",
    "print(c)\n",
    "\n",
    "d = floor(27.25)\n",
    "\n",
    "print(d)\n",
    "\n",
    "f = log(1000)\n",
    "\n",
    "print(f)\n",
    "\n",
    "f = degrees(cos(degrees(2*pi)))\n",
    "\n",
    "print(f,degrees(2*pi))"
   ]
  },
  {
   "cell_type": "markdown",
   "metadata": {},
   "source": [
    "Constantes:"
   ]
  },
  {
   "cell_type": "code",
   "execution_count": 18,
   "metadata": {},
   "outputs": [
    {
     "name": "stdout",
     "output_type": "stream",
     "text": [
      "3.141592653589793\n",
      "2.718281828459045\n"
     ]
    }
   ],
   "source": [
    "print(pi)\n",
    "print(e)"
   ]
  },
  {
   "cell_type": "code",
   "execution_count": 19,
   "metadata": {},
   "outputs": [
    {
     "ename": "NameError",
     "evalue": "name 'math' is not defined",
     "output_type": "error",
     "traceback": [
      "\u001b[1;31m---------------------------------------------------------------------------\u001b[0m",
      "\u001b[1;31mNameError\u001b[0m                                 Traceback (most recent call last)",
      "\u001b[1;32m<ipython-input-19-0400902ae352>\u001b[0m in \u001b[0;36m<module>\u001b[1;34m\u001b[0m\n\u001b[1;32m----> 1\u001b[1;33m \u001b[0mmath\u001b[0m\u001b[1;33m.\u001b[0m\u001b[0msqrt\u001b[0m\u001b[1;33m(\u001b[0m\u001b[1;33m-\u001b[0m\u001b[1;36m1\u001b[0m\u001b[1;33m)\u001b[0m \u001b[1;31m# <--- no\u001b[0m\u001b[1;33m\u001b[0m\u001b[1;33m\u001b[0m\u001b[0m\n\u001b[0m",
      "\u001b[1;31mNameError\u001b[0m: name 'math' is not defined"
     ]
    }
   ],
   "source": [
    "math.sqrt(-1) # <--- no"
   ]
  },
  {
   "cell_type": "markdown",
   "metadata": {},
   "source": [
    "Existe un modulo aparte para operaciones con complejos"
   ]
  },
  {
   "cell_type": "code",
   "execution_count": 20,
   "metadata": {},
   "outputs": [
    {
     "data": {
      "text/plain": [
       "1j"
      ]
     },
     "execution_count": 20,
     "metadata": {},
     "output_type": "execute_result"
    }
   ],
   "source": [
    "import cmath\n",
    "\n",
    "cmath.sqrt(-1)"
   ]
  },
  {
   "cell_type": "code",
   "execution_count": 21,
   "metadata": {},
   "outputs": [
    {
     "name": "stdout",
     "output_type": "stream",
     "text": [
      "3.0\n",
      "(3-3j)\n"
     ]
    }
   ],
   "source": [
    "z = 3.0 + 3.0j\n",
    "\n",
    "print(z.real)\n",
    "\n",
    "print(z.conjugate())"
   ]
  },
  {
   "cell_type": "code",
   "execution_count": 22,
   "metadata": {},
   "outputs": [
    {
     "name": "stdout",
     "output_type": "stream",
     "text": [
      "0.7853981633974483\n",
      "45.0\n",
      "4.242640687119285\n",
      "(4.242640687119285, 0.7853981633974483)\n"
     ]
    }
   ],
   "source": [
    "import math\n",
    "\n",
    "print(cmath.phase(z)) \n",
    "\n",
    "print(math.degrees(cmath.phase(z)))\n",
    "\n",
    "print(abs(z))\n",
    "\n",
    "print(cmath.polar(z))"
   ]
  },
  {
   "cell_type": "markdown",
   "metadata": {},
   "source": [
    "Tipos lógicos (bool)"
   ]
  },
  {
   "cell_type": "code",
   "execution_count": 23,
   "metadata": {},
   "outputs": [
    {
     "name": "stdout",
     "output_type": "stream",
     "text": [
      "False\n",
      "<class 'bool'>\n"
     ]
    }
   ],
   "source": [
    "T = True\n",
    "F = False\n",
    "\n",
    "print(F)\n",
    "print(type(F))"
   ]
  },
  {
   "cell_type": "code",
   "execution_count": 24,
   "metadata": {},
   "outputs": [
    {
     "name": "stdout",
     "output_type": "stream",
     "text": [
      "0\n",
      "2\n"
     ]
    }
   ],
   "source": [
    "print(T*F)\n",
    "print(2*T)"
   ]
  },
  {
   "cell_type": "code",
   "execution_count": 25,
   "metadata": {},
   "outputs": [
    {
     "name": "stdout",
     "output_type": "stream",
     "text": [
      "Hola 23\n"
     ]
    }
   ],
   "source": [
    "print(\"Hola\", 23)"
   ]
  },
  {
   "cell_type": "code",
   "execution_count": 26,
   "metadata": {},
   "outputs": [
    {
     "name": "stdout",
     "output_type": "stream",
     "text": [
      "28.2\n",
      "99.8\n",
      "28.2\n"
     ]
    }
   ],
   "source": [
    "a = 28.2\n",
    "\n",
    "b = a\n",
    "\n",
    "print(b)\n",
    "\n",
    "# # print('mayor/menor a: ', a < b)\n",
    "c = 99.8\n",
    "a = c\n",
    "\n",
    "print(a)\n",
    "print(b)\n",
    "# print('igual a: ', a == b)\n",
    "# print('distinto a: ', a != b)\n",
    "\n",
    "# print('es: ', a is b)\n",
    "# print('no es: ', a is not b)"
   ]
  },
  {
   "cell_type": "markdown",
   "metadata": {},
   "source": [
    "### 1.2 Strings\n",
    "\n",
    "Un string es una secuencia de caracteres de cualquier tipo (letras, números, símbolos,...) que se definen usando comillas (simple o dobles."
   ]
  },
  {
   "cell_type": "code",
   "execution_count": 27,
   "metadata": {},
   "outputs": [
    {
     "name": "stdout",
     "output_type": "stream",
     "text": [
      "Este es un ejemplo de un string\n",
      "<class 'str'>\n"
     ]
    },
    {
     "data": {
      "text/plain": [
       "'Este es un ejemplo de un string'"
      ]
     },
     "execution_count": 27,
     "metadata": {},
     "output_type": "execute_result"
    }
   ],
   "source": [
    "a = \"Este es un ejemplo de un string\"\n",
    "\n",
    "print(a)\n",
    "print(type(a))\n",
    "a"
   ]
  },
  {
   "cell_type": "code",
   "execution_count": 28,
   "metadata": {},
   "outputs": [
    {
     "name": "stdout",
     "output_type": "stream",
     "text": [
      "Este es un ejemplo de un string\n"
     ]
    }
   ],
   "source": [
    "print(a)"
   ]
  },
  {
   "cell_type": "code",
   "execution_count": 29,
   "metadata": {},
   "outputs": [
    {
     "name": "stdout",
     "output_type": "stream",
     "text": [
      "donde podemos usar comillas simples o usar comillas dobles\n"
     ]
    }
   ],
   "source": [
    "b = 'donde podemos usar comillas simples'\n",
    "c = \"o usar comillas dobles\"\n",
    "\n",
    "print(b, c)"
   ]
  },
  {
   "cell_type": "markdown",
   "metadata": {},
   "source": [
    "Podemos concatenar strings usando +"
   ]
  },
  {
   "cell_type": "code",
   "execution_count": 30,
   "metadata": {},
   "outputs": [
    {
     "name": "stdout",
     "output_type": "stream",
     "text": [
      "Este es un ejemplo de un stringdonde podemos usar comillas simpleso usar comillas doblesy que podemos concatenar usando el signo '+', por ejemplo\n"
     ]
    }
   ],
   "source": [
    "d = a + b + c + \"y que podemos concatenar usando el signo '+', por ejemplo\" \n",
    "\n",
    "print(d)"
   ]
  },
  {
   "cell_type": "code",
   "execution_count": 31,
   "metadata": {},
   "outputs": [
    {
     "name": "stdout",
     "output_type": "stream",
     "text": [
      "También podemos usar \"comillas dobles\" dentro de comillas simple\n",
      "o 'al revés', como en este caso\n"
     ]
    }
   ],
   "source": [
    "f = 'También podemos usar \"comillas dobles\" dentro de comillas simple'\n",
    "print(f)\n",
    "g = \"o 'al revés', como en este caso\"\n",
    "print(g)"
   ]
  },
  {
   "cell_type": "markdown",
   "metadata": {},
   "source": [
    "Podemos agregar caracteres de formato:"
   ]
  },
  {
   "cell_type": "code",
   "execution_count": 32,
   "metadata": {},
   "outputs": [
    {
     "name": "stdout",
     "output_type": "stream",
     "text": [
      "Siempre quise aprender\n",
      "como poner caracteres de formato\n",
      "en un string de Python.\n",
      "\n",
      "Supongamos que queremos hacer una lista que contenga los elementos:\n",
      "\t * elemento 1\n",
      "\t * elemento 2\n",
      "\t * and so on...\n"
     ]
    }
   ],
   "source": [
    "h = \"Siempre quise aprender\\ncomo poner caracteres de formato\\nen un string de Python.\\n\"\n",
    "\n",
    "print(h)\n",
    "\n",
    "j = \"Supongamos que queremos hacer una lista que contenga los elementos:\\n\\t * elemento 1\\n\\t * elemento 2\\n\\t * and so on...\"\n",
    "\n",
    "print(j)"
   ]
  },
  {
   "cell_type": "code",
   "execution_count": 35,
   "metadata": {},
   "outputs": [
    {
     "name": "stdout",
     "output_type": "stream",
     "text": [
      "Siempre quise aprender\n",
      "como poner caracteres de formato\n",
      "en un string de Python.\n",
      "\n",
      "'Siempre quise aprender\\ncomo poner caracteres de formato\\nen un string de Python.\\n'\n"
     ]
    }
   ],
   "source": [
    "print('%s' % h)\n",
    "print('%r' % h)"
   ]
  },
  {
   "cell_type": "markdown",
   "metadata": {},
   "source": [
    "Un ejemplo de docstring:"
   ]
  },
  {
   "cell_type": "code",
   "execution_count": 36,
   "metadata": {},
   "outputs": [
    {
     "name": "stdout",
     "output_type": "stream",
     "text": [
      "\n",
      "Acá puedo poner cuantas lineas \n",
      "quiera, sin preocuparme si son dos \n",
      "lineas, cuantro lineas, 6 lineas...\n",
      "¿habrá algún límite?\n",
      "\n"
     ]
    }
   ],
   "source": [
    "m = '''\n",
    "Acá puedo poner cuantas lineas \n",
    "quiera, sin preocuparme si son dos \n",
    "lineas, cuantro lineas, 6 lineas...\n",
    "¿habrá algún límite?\n",
    "'''\n",
    "\n",
    "\n",
    "\n",
    "print(m)"
   ]
  },
  {
   "cell_type": "markdown",
   "metadata": {},
   "source": [
    "#### 1.2.1 Indexado (en strings)"
   ]
  },
  {
   "cell_type": "markdown",
   "metadata": {},
   "source": [
    "Un string es un ejemplo de 'contenedor' de elementos (en este caso, caracteres), a los cuales se puede acceder mediante el índice que indica su posición:"
   ]
  },
  {
   "cell_type": "code",
   "execution_count": 37,
   "metadata": {},
   "outputs": [
    {
     "name": "stdout",
     "output_type": "stream",
     "text": [
      "H\n",
      " \n",
      "m\n"
     ]
    }
   ],
   "source": [
    "my_string = 'Hola mundo'\n",
    "\n",
    "print(my_string[0])\n",
    "print(my_string[4])\n",
    "print(my_string[5])"
   ]
  },
  {
   "cell_type": "code",
   "execution_count": 40,
   "metadata": {},
   "outputs": [
    {
     "name": "stdout",
     "output_type": "stream",
     "text": [
      "o\n"
     ]
    }
   ],
   "source": [
    "print(my_string[9]) # mi índice no puede ser mayor a la cantidad de elementos"
   ]
  },
  {
   "cell_type": "markdown",
   "metadata": {},
   "source": [
    "Se pueden utilizar índices negativos para acceder a los elementos, referidos al último. Es decir, el -1 es el último, el -2 es el penúltimo, y así por el estilo:"
   ]
  },
  {
   "cell_type": "code",
   "execution_count": 39,
   "metadata": {},
   "outputs": [
    {
     "name": "stdout",
     "output_type": "stream",
     "text": [
      "o\n",
      "d\n",
      "H\n"
     ]
    }
   ],
   "source": [
    "print(my_string[-1])\n",
    "print(my_string[-2])\n",
    "print(my_string[-10])"
   ]
  },
  {
   "cell_type": "markdown",
   "metadata": {},
   "source": [
    "#### 1.2.2 Slicing"
   ]
  },
  {
   "cell_type": "markdown",
   "metadata": {},
   "source": [
    "Puedo acceder a un subconjunto de elementos, utilizando una técnica conocida como \"slicing\", donde, dado un string **a**, obtengo el subconjunto como **a[inicio:fin:paso]**, (donde todos los argumentos son opcionales):"
   ]
  },
  {
   "cell_type": "code",
   "execution_count": 41,
   "metadata": {},
   "outputs": [
    {
     "name": "stdout",
     "output_type": "stream",
     "text": [
      "ola m\n",
      "undo\n",
      "Hundo\n"
     ]
    }
   ],
   "source": [
    "print(my_string[1:6])\n",
    "\n",
    "sub_string = my_string[6:10]\n",
    "print(sub_string)\n",
    "\n",
    "print(my_string[0] + sub_string)"
   ]
  },
  {
   "cell_type": "code",
   "execution_count": 42,
   "metadata": {},
   "outputs": [
    {
     "name": "stdout",
     "output_type": "stream",
     "text": [
      "Hola \n",
      "Hola \n",
      "mundo\n",
      "mundo\n"
     ]
    }
   ],
   "source": [
    "print(my_string[0:5])\n",
    "print(my_string[:5])\n",
    "\n",
    "print(my_string[5:10])\n",
    "print(my_string[5:])"
   ]
  },
  {
   "cell_type": "code",
   "execution_count": 43,
   "metadata": {},
   "outputs": [
    {
     "name": "stdout",
     "output_type": "stream",
     "text": [
      "Hl ud\n",
      "oamno\n"
     ]
    }
   ],
   "source": [
    "print(my_string[::2])\n",
    "print(my_string[1::2])"
   ]
  },
  {
   "cell_type": "code",
   "execution_count": 44,
   "metadata": {},
   "outputs": [
    {
     "name": "stdout",
     "output_type": "stream",
     "text": [
      "onmao\n"
     ]
    }
   ],
   "source": [
    "print(my_string[::-2])"
   ]
  },
  {
   "cell_type": "markdown",
   "metadata": {},
   "source": [
    "#### 1.2.3 Algunos métodos de strings"
   ]
  },
  {
   "cell_type": "code",
   "execution_count": 45,
   "metadata": {},
   "outputs": [
    {
     "name": "stdout",
     "output_type": "stream",
     "text": [
      "se viene el estallido, de mi guitarra, y tu gobierno, también\n",
      "Se viene el estallido, de mi guitarra, y tu gobierno, también\n",
      "SE VIENE EL ESTALLIDO, DE MI GUITARRA, Y TU GOBIERNO, TAMBIÉN\n",
      "se viene el estallido, de mi guitarra, y tu gobierno, también\n"
     ]
    }
   ],
   "source": [
    "string_2 = \"se viene el estallido, de mi guitarra, y tu gobierno, también\"\n",
    "\n",
    "print(string_2)\n",
    "\n",
    "print(string_2.capitalize())\n",
    "\n",
    "print(string_2.upper())\n",
    "\n",
    "string_3 = string_2.upper()\n",
    "\n",
    "print(string_3.lower())"
   ]
  },
  {
   "cell_type": "code",
   "execution_count": 46,
   "metadata": {},
   "outputs": [
    {
     "name": "stdout",
     "output_type": "stream",
     "text": [
      "12\n",
      "estallido, de mi guitarra, y tu gobierno, también\n",
      "6\n",
      "3\n"
     ]
    }
   ],
   "source": [
    "k = string_2.find('est')\n",
    "\n",
    "print(k)\n",
    "\n",
    "print(string_2[k:])\n",
    "\n",
    "N = string_2.count('i')\n",
    "\n",
    "print(N)\n",
    "\n",
    "N = string_2.count('ta')\n",
    "\n",
    "print(N)"
   ]
  },
  {
   "cell_type": "code",
   "execution_count": 49,
   "metadata": {},
   "outputs": [
    {
     "name": "stdout",
     "output_type": "stream",
     "text": [
      "4\n",
      "se viene el estallido\n",
      "de mi guitarra\n",
      "y tu gobierno\n",
      "también\n",
      "['se viene el estallido', 'de mi guitarra', 'y tu gobierno', 'también']\n"
     ]
    }
   ],
   "source": [
    "string_separado = string_2.split(',')\n",
    "\n",
    "print(len(string_separado))\n",
    "\n",
    "string_4 = string_2.replace(', ', '\\n')\n",
    "\n",
    "print(string_4)\n",
    "\n",
    "string_separado_en_lineas = string_4.splitlines()\n",
    "\n",
    "print(string_separado_en_lineas)"
   ]
  },
  {
   "cell_type": "code",
   "execution_count": 50,
   "metadata": {},
   "outputs": [
    {
     "name": "stdout",
     "output_type": "stream",
     "text": [
      "False\n",
      "False\n",
      "True\n"
     ]
    }
   ],
   "source": [
    "string_de_numeros = '123456789asfdsfds'\n",
    "\n",
    "print(string_de_numeros.isnumeric())\n",
    "print(string_de_numeros.isalpha())\n",
    "print(string_de_numeros.isalnum())"
   ]
  },
  {
   "cell_type": "markdown",
   "metadata": {},
   "source": [
    "### 1.3 Listas"
   ]
  },
  {
   "cell_type": "code",
   "execution_count": 51,
   "metadata": {},
   "outputs": [],
   "source": [
    "my_list = [4, 8, 15, 16, 23, 42]"
   ]
  },
  {
   "cell_type": "code",
   "execution_count": 52,
   "metadata": {},
   "outputs": [
    {
     "name": "stdout",
     "output_type": "stream",
     "text": [
      "<class 'list'>\n",
      "[4, 8, 15, 16, 23, 42]\n"
     ]
    }
   ],
   "source": [
    "print(type(my_list))\n",
    "\n",
    "print(my_list)"
   ]
  },
  {
   "cell_type": "markdown",
   "metadata": {},
   "source": [
    "Las listas tambien son secuencias, por lo que el indixado y slicing funcionan como ya hemos visto con los strings"
   ]
  },
  {
   "cell_type": "code",
   "execution_count": 53,
   "metadata": {},
   "outputs": [
    {
     "data": {
      "text/plain": [
       "4"
      ]
     },
     "execution_count": 53,
     "metadata": {},
     "output_type": "execute_result"
    }
   ],
   "source": [
    "my_list[0]"
   ]
  },
  {
   "cell_type": "code",
   "execution_count": 55,
   "metadata": {},
   "outputs": [
    {
     "data": {
      "text/plain": [
       "[23, 16, 15, 8, 4]"
      ]
     },
     "execution_count": 55,
     "metadata": {},
     "output_type": "execute_result"
    }
   ],
   "source": [
    "my_list[-2::-1]"
   ]
  },
  {
   "cell_type": "markdown",
   "metadata": {},
   "source": [
    "Y pueden contener cualquier tipo de objetos:"
   ]
  },
  {
   "cell_type": "code",
   "execution_count": 56,
   "metadata": {},
   "outputs": [],
   "source": [
    "nombre = 'Jack'\n",
    "\n",
    "lista_heterogenea = [108, 'Dharma', my_list, nombre]"
   ]
  },
  {
   "cell_type": "code",
   "execution_count": 57,
   "metadata": {},
   "outputs": [
    {
     "name": "stdout",
     "output_type": "stream",
     "text": [
      "[108, 'Dharma', [4, 8, 15, 16, 23, 42], 'Jack']\n",
      "4\n"
     ]
    }
   ],
   "source": [
    "print(lista_heterogenea)\n",
    "print(lista_heterogenea[2][0])"
   ]
  },
  {
   "cell_type": "code",
   "execution_count": 58,
   "metadata": {},
   "outputs": [
    {
     "data": {
      "text/plain": [
       "[108, 'Dharma', [4, 8, 15, 16, 23, 42], 'Jack', 'Shepard']"
      ]
     },
     "execution_count": 58,
     "metadata": {},
     "output_type": "execute_result"
    }
   ],
   "source": [
    "lista_heterogenea.append('Shepard')\n",
    "\n",
    "lista_heterogenea"
   ]
  },
  {
   "cell_type": "code",
   "execution_count": 59,
   "metadata": {},
   "outputs": [
    {
     "data": {
      "text/plain": [
       "[108, 323, [4, 8, 15, 16, 23, 42], 'Jack', 'Shepard']"
      ]
     },
     "execution_count": 59,
     "metadata": {},
     "output_type": "execute_result"
    }
   ],
   "source": [
    "lista_heterogenea[1] = 323\n",
    "lista_heterogenea"
   ]
  },
  {
   "cell_type": "markdown",
   "metadata": {},
   "source": [
    "Incluso se pueden hacer asignaciones de secuencias sobres \"slices\""
   ]
  },
  {
   "cell_type": "code",
   "execution_count": 60,
   "metadata": {},
   "outputs": [
    {
     "data": {
      "text/plain": [
       "['A', 'B', 'C', 'D', [4, 8, 15, 16, 23, 42], 'Jack', 'Shepard']"
      ]
     },
     "execution_count": 60,
     "metadata": {},
     "output_type": "execute_result"
    }
   ],
   "source": [
    "lista_heterogenea[0:2] = ['A', 'B', 'C', 'D']     # notar que no hace falta que el valor tenga el mismo tamaño que el slice\n",
    "lista_heterogenea"
   ]
  },
  {
   "cell_type": "markdown",
   "metadata": {},
   "source": [
    "Otras operaciones entre listas:"
   ]
  },
  {
   "cell_type": "code",
   "execution_count": 64,
   "metadata": {},
   "outputs": [
    {
     "name": "stdout",
     "output_type": "stream",
     "text": [
      "[4, 8, 15, 16, 23, 42]\n",
      "True\n",
      "False\n",
      "[4, 8, 15, 16, 23, 42, 'A', 'B', 'C', 'D', [4, 8, 15, 16, 23, 42], 'Jack', 'Shepard']\n",
      "[4, 8, 15, 16, 23, 42, 4, 8, 15, 16, 23, 42, 4, 8, 15, 16, 23, 42]\n",
      "108\n",
      "6\n",
      "4\n",
      "42\n",
      "1\n",
      "0\n"
     ]
    }
   ],
   "source": [
    "print (my_list)\n",
    "print(4 in my_list)\n",
    "print(4 not in my_list)\n",
    "\n",
    "L = my_list + lista_heterogenea\n",
    "\n",
    "print(L)\n",
    "\n",
    "L = 3*my_list\n",
    "\n",
    "print(L)\n",
    "\n",
    "print(sum(my_list))\n",
    "\n",
    "print(len(my_list))\n",
    "print(min(my_list))\n",
    "print(max(my_list))\n",
    "\n",
    "print(lista_heterogenea.index('B'))\n",
    "\n",
    "print(lista_heterogenea.count(42))"
   ]
  },
  {
   "cell_type": "code",
   "execution_count": 65,
   "metadata": {},
   "outputs": [
    {
     "name": "stdout",
     "output_type": "stream",
     "text": [
      "['A', 'B', 'C', 'D', [4, 8, 15, 16, 23, 42], 'Jack', 'Shepard']\n",
      "1\n"
     ]
    }
   ],
   "source": [
    "print(lista_heterogenea)\n",
    "print(lista_heterogenea.count([4, 8, 15, 16, 23, 42]))"
   ]
  },
  {
   "cell_type": "code",
   "execution_count": 2,
   "metadata": {},
   "outputs": [
    {
     "name": "stdout",
     "output_type": "stream",
     "text": [
      "[4, 8, 15, 16, 23, 42]\n",
      "[42, 23, 16, 15, 8, 4]\n",
      "[4, 8, 15, 16, 23, 42]\n",
      "[42, 23, 16, 15, 8, 4]\n"
     ]
    }
   ],
   "source": [
    "my_list = [4,8,15,16,23,42]\n",
    "print(my_list)\n",
    "otra_lista = my_list[::-1]\n",
    "print(otra_lista)\n",
    "\n",
    "print(my_list)\n",
    "\n",
    "my_list.reverse()\n",
    "\n",
    "print(my_list)"
   ]
  },
  {
   "cell_type": "code",
   "execution_count": 3,
   "metadata": {},
   "outputs": [
    {
     "name": "stdout",
     "output_type": "stream",
     "text": [
      "[42, 15, 8, 4]\n"
     ]
    }
   ],
   "source": [
    "del my_list[1:3]\n",
    "\n",
    "print(my_list)"
   ]
  },
  {
   "cell_type": "code",
   "execution_count": 4,
   "metadata": {},
   "outputs": [
    {
     "name": "stdout",
     "output_type": "stream",
     "text": [
      "[8, 1, 2]\n",
      "[8, 1, 2]\n"
     ]
    }
   ],
   "source": [
    "list1 = [0,1,2]\n",
    "\n",
    "list2 = list1\n",
    "\n",
    "list2[0] = 8\n",
    "\n",
    "print(list1)\n",
    "print(list2)"
   ]
  },
  {
   "cell_type": "markdown",
   "metadata": {},
   "source": [
    "### 1.4 Tuplas"
   ]
  },
  {
   "cell_type": "markdown",
   "metadata": {},
   "source": [
    "Las tuplas son iguales a las listas, con la diferencia es que las listas son mutables mintras las tuplas no."
   ]
  },
  {
   "cell_type": "code",
   "execution_count": 8,
   "metadata": {},
   "outputs": [
    {
     "name": "stdout",
     "output_type": "stream",
     "text": [
      "<class 'tuple'>\n",
      "('Linus', 42)\n"
     ]
    },
    {
     "data": {
      "text/plain": [
       "('Benjamin', 108, [42, 15, 8, 4], ('Linus', 42))"
      ]
     },
     "execution_count": 8,
     "metadata": {},
     "output_type": "execute_result"
    }
   ],
   "source": [
    "una_tupla = ('Benjamin', 108, my_list, ('Linus', my_list[0]))\n",
    "print(type(una_tupla))\n",
    "print(una_tupla[3])\n",
    "una_tupla"
   ]
  },
  {
   "cell_type": "code",
   "execution_count": 9,
   "metadata": {},
   "outputs": [
    {
     "ename": "AttributeError",
     "evalue": "'tuple' object has no attribute 'append'",
     "output_type": "error",
     "traceback": [
      "\u001b[1;31m---------------------------------------------------------------------------\u001b[0m",
      "\u001b[1;31mAttributeError\u001b[0m                            Traceback (most recent call last)",
      "\u001b[1;32m<ipython-input-9-678858a5b62f>\u001b[0m in \u001b[0;36m<module>\u001b[1;34m\u001b[0m\n\u001b[1;32m----> 1\u001b[1;33m \u001b[0muna_tupla\u001b[0m\u001b[1;33m.\u001b[0m\u001b[0mappend\u001b[0m\u001b[1;33m(\u001b[0m\u001b[1;34m'B'\u001b[0m\u001b[1;33m)\u001b[0m\u001b[1;33m\u001b[0m\u001b[1;33m\u001b[0m\u001b[0m\n\u001b[0m",
      "\u001b[1;31mAttributeError\u001b[0m: 'tuple' object has no attribute 'append'"
     ]
    }
   ],
   "source": [
    "una_tupla.append('B')"
   ]
  },
  {
   "cell_type": "code",
   "execution_count": 146,
   "metadata": {},
   "outputs": [
    {
     "ename": "AttributeError",
     "evalue": "'tuple' object has no attribute 'reverse'",
     "output_type": "error",
     "traceback": [
      "\u001b[1;31m---------------------------------------------------------------------------\u001b[0m",
      "\u001b[1;31mAttributeError\u001b[0m                            Traceback (most recent call last)",
      "\u001b[1;32m<ipython-input-146-bbc68d7ac63c>\u001b[0m in \u001b[0;36m<module>\u001b[1;34m\u001b[0m\n\u001b[1;32m----> 1\u001b[1;33m \u001b[0muna_tupla\u001b[0m\u001b[1;33m.\u001b[0m\u001b[0mreverse\u001b[0m\u001b[1;33m(\u001b[0m\u001b[1;33m)\u001b[0m\u001b[1;33m\u001b[0m\u001b[1;33m\u001b[0m\u001b[0m\n\u001b[0m",
      "\u001b[1;31mAttributeError\u001b[0m: 'tuple' object has no attribute 'reverse'"
     ]
    }
   ],
   "source": [
    "una_tupla.reverse()"
   ]
  },
  {
   "cell_type": "code",
   "execution_count": 10,
   "metadata": {},
   "outputs": [
    {
     "ename": "TypeError",
     "evalue": "'tuple' object does not support item assignment",
     "output_type": "error",
     "traceback": [
      "\u001b[1;31m---------------------------------------------------------------------------\u001b[0m",
      "\u001b[1;31mTypeError\u001b[0m                                 Traceback (most recent call last)",
      "\u001b[1;32m<ipython-input-10-1650538cb6cd>\u001b[0m in \u001b[0;36m<module>\u001b[1;34m\u001b[0m\n\u001b[1;32m----> 1\u001b[1;33m \u001b[0muna_tupla\u001b[0m\u001b[1;33m[\u001b[0m\u001b[1;33m-\u001b[0m\u001b[1;36m1\u001b[0m\u001b[1;33m]\u001b[0m \u001b[1;33m=\u001b[0m \u001b[1;34m'osooo'\u001b[0m\u001b[1;33m\u001b[0m\u001b[1;33m\u001b[0m\u001b[0m\n\u001b[0m",
      "\u001b[1;31mTypeError\u001b[0m: 'tuple' object does not support item assignment"
     ]
    }
   ],
   "source": [
    "una_tupla[-1] = 'osooo'"
   ]
  },
  {
   "cell_type": "markdown",
   "metadata": {},
   "source": [
    "Veremos un tipo nuevo, llamado range. Se crea mediante cualquiera de los siguientes llamados:\n",
    "* range(stop)\n",
    "* range(start, stop, step)"
   ]
  },
  {
   "cell_type": "code",
   "execution_count": 77,
   "metadata": {},
   "outputs": [
    {
     "name": "stdout",
     "output_type": "stream",
     "text": [
      "range(0, 10)\n",
      "<class 'range'>\n"
     ]
    }
   ],
   "source": [
    "r = range(10)\n",
    "\n",
    "print(r)\n",
    "print(type(r))"
   ]
  },
  {
   "cell_type": "code",
   "execution_count": 78,
   "metadata": {},
   "outputs": [
    {
     "name": "stdout",
     "output_type": "stream",
     "text": [
      "[0, 1, 2, 3, 4, 5, 6, 7, 8, 9]\n",
      "<class 'list'>\n"
     ]
    }
   ],
   "source": [
    "r = list(range(10))\n",
    "\n",
    "print(r)\n",
    "print(type(r))"
   ]
  },
  {
   "cell_type": "code",
   "execution_count": 79,
   "metadata": {},
   "outputs": [
    {
     "name": "stdout",
     "output_type": "stream",
     "text": [
      "[2, 4, 6, 8, 10]\n"
     ]
    }
   ],
   "source": [
    "p = list(range(2,12,2))\n",
    "\n",
    "print(p)"
   ]
  },
  {
   "cell_type": "code",
   "execution_count": 81,
   "metadata": {},
   "outputs": [
    {
     "name": "stdout",
     "output_type": "stream",
     "text": [
      "[]\n"
     ]
    }
   ],
   "source": [
    "p = list(range(10,20,-2))\n",
    "\n",
    "print(p)"
   ]
  },
  {
   "cell_type": "markdown",
   "metadata": {},
   "source": [
    "### 1.5 Diccionarios"
   ]
  },
  {
   "cell_type": "markdown",
   "metadata": {},
   "source": [
    "La diccionarios son otro tipo de estructuras de alto nivel que ya vienen incorporados. A diferencia de las secuencias, los valores no están en una posición sino bajo una clave: son asociaciones clave:valor"
   ]
  },
  {
   "cell_type": "code",
   "execution_count": 82,
   "metadata": {},
   "outputs": [
    {
     "data": {
      "text/plain": [
       "{'Manzanas': 1, 'Peras': 10, 'Bananas': 5, 'Frutillas': 'Fuera de temporada'}"
      ]
     },
     "execution_count": 82,
     "metadata": {},
     "output_type": "execute_result"
    }
   ],
   "source": [
    "stock = {'Manzanas': 1, 'Peras': 10, 'Bananas': 5, 'Frutillas': 'Fuera de temporada'} \n",
    "\n",
    "stock"
   ]
  },
  {
   "cell_type": "markdown",
   "metadata": {},
   "source": [
    "Accedemos al valor a traves de un clave"
   ]
  },
  {
   "cell_type": "code",
   "execution_count": 83,
   "metadata": {},
   "outputs": [
    {
     "data": {
      "text/plain": [
       "{'Manzanas': 1, 'Peras': 10, 'Bananas': 5, 'Frutillas': 20}"
      ]
     },
     "execution_count": 83,
     "metadata": {},
     "output_type": "execute_result"
    }
   ],
   "source": [
    "stock['Frutillas'] = 20\n",
    "\n",
    "stock"
   ]
  },
  {
   "cell_type": "code",
   "execution_count": 84,
   "metadata": {},
   "outputs": [
    {
     "data": {
      "text/plain": [
       "{'Manzanas': 1, 'Peras': 10, 'Bananas': 5, 'Frutillas': 20, 'Sandía': 1}"
      ]
     },
     "execution_count": 84,
     "metadata": {},
     "output_type": "execute_result"
    }
   ],
   "source": [
    "stock['Sandía'] = 1\n",
    "\n",
    "stock"
   ]
  },
  {
   "cell_type": "code",
   "execution_count": 85,
   "metadata": {},
   "outputs": [
    {
     "data": {
      "text/plain": [
       "{'Manzanas': 1, 'Peras': 10, 'Bananas': 5, 'Frutillas': 20}"
      ]
     },
     "execution_count": 85,
     "metadata": {},
     "output_type": "execute_result"
    }
   ],
   "source": [
    "del stock['Sandía']\n",
    "\n",
    "stock"
   ]
  },
  {
   "cell_type": "code",
   "execution_count": 87,
   "metadata": {},
   "outputs": [
    {
     "data": {
      "text/plain": [
       "10"
      ]
     },
     "execution_count": 87,
     "metadata": {},
     "output_type": "execute_result"
    }
   ],
   "source": [
    "list(stock.items())[1][1]"
   ]
  },
  {
   "cell_type": "code",
   "execution_count": 88,
   "metadata": {},
   "outputs": [
    {
     "data": {
      "text/plain": [
       "[('Manzanas', 1), ('Peras', 10), ('Bananas', 5), ('Frutillas', 20)]"
      ]
     },
     "execution_count": 88,
     "metadata": {},
     "output_type": "execute_result"
    }
   ],
   "source": [
    "list(stock.items())"
   ]
  },
  {
   "cell_type": "code",
   "execution_count": 89,
   "metadata": {},
   "outputs": [
    {
     "data": {
      "text/plain": [
       "['Manzanas', 'Peras', 'Bananas', 'Frutillas']"
      ]
     },
     "execution_count": 89,
     "metadata": {},
     "output_type": "execute_result"
    }
   ],
   "source": [
    "list(stock.keys())"
   ]
  },
  {
   "cell_type": "code",
   "execution_count": 90,
   "metadata": {},
   "outputs": [
    {
     "data": {
      "text/plain": [
       "dict_values([1, 10, 5, 20])"
      ]
     },
     "execution_count": 90,
     "metadata": {},
     "output_type": "execute_result"
    }
   ],
   "source": [
    "stock.values()"
   ]
  },
  {
   "cell_type": "markdown",
   "metadata": {},
   "source": [
    "## 2. Control de flujo"
   ]
  },
  {
   "cell_type": "code",
   "execution_count": 91,
   "metadata": {},
   "outputs": [
    {
     "name": "stdout",
     "output_type": "stream",
     "text": [
      "Bueno, al menos aprobó!\n"
     ]
    }
   ],
   "source": [
    "Nota = 7\n",
    "if Nota >= 8:\n",
    "    print (\"Aprobó cómodo, felicidades!\")\n",
    "elif 6 <= Nota < 8:\n",
    "    print (\"Bueno, al menos aprobó!\")\n",
    "elif 4 <= Nota < 6 :\n",
    "    print (\"Bastante bien, pero no le alcanzó\")\n",
    "else:\n",
    "    print(\"Lo esperamos después de las vacaciones!\")"
   ]
  },
  {
   "cell_type": "markdown",
   "metadata": {},
   "source": [
    "En un if, la conversión a tipo boolean es implícita. El tipo None (vacío), el 0, una secuencia (lista, tupla, string) (o conjunto o diccionario, que ya veremos) vacía siempre evalua a False. Cualquier otro objeto evalua a True."
   ]
  },
  {
   "cell_type": "code",
   "execution_count": 92,
   "metadata": {},
   "outputs": [
    {
     "name": "stdout",
     "output_type": "stream",
     "text": [
      "respondió!\n"
     ]
    }
   ],
   "source": [
    "respuesta = 'lala'\n",
    "\n",
    "if respuesta:\n",
    "    print('respondió!')\n",
    "else:\n",
    "    print('no respondió!')"
   ]
  },
  {
   "cell_type": "markdown",
   "metadata": {},
   "source": [
    "### 2.2 Iteraciones"
   ]
  },
  {
   "cell_type": "markdown",
   "metadata": {},
   "source": [
    "Loop for"
   ]
  },
  {
   "cell_type": "code",
   "execution_count": 94,
   "metadata": {},
   "outputs": [
    {
     "name": "stdout",
     "output_type": "stream",
     "text": [
      "0\n",
      "1\n",
      "2\n",
      "3\n",
      "4\n",
      "5\n",
      "6\n",
      "7\n",
      "8\n",
      "9\n"
     ]
    }
   ],
   "source": [
    "for elemento in range(10):\n",
    "    print(elemento)\n"
   ]
  },
  {
   "cell_type": "code",
   "execution_count": 95,
   "metadata": {},
   "outputs": [
    {
     "data": {
      "text/plain": [
       "6.6"
      ]
     },
     "execution_count": 95,
     "metadata": {},
     "output_type": "execute_result"
    }
   ],
   "source": [
    "sumatoria = 0\n",
    "\n",
    "for elemento in [1, 2, 3.6]:\n",
    "    sumatoria += elemento\n",
    "    \n",
    "sumatoria"
   ]
  },
  {
   "cell_type": "code",
   "execution_count": 96,
   "metadata": {},
   "outputs": [
    {
     "name": "stdout",
     "output_type": "stream",
     "text": [
      "El valor de la posicion 0 es 4\n",
      "El valor de la posicion 1 es 3\n",
      "El valor de la posicion 2 es 19\n"
     ]
    }
   ],
   "source": [
    "for (posicion, valor) in enumerate([4, 3, 19]):\n",
    "    \n",
    "    print('El valor de la posicion', posicion, 'es', valor)"
   ]
  },
  {
   "cell_type": "code",
   "execution_count": 97,
   "metadata": {},
   "outputs": [
    {
     "name": "stdout",
     "output_type": "stream",
     "text": [
      "La temperatura mínima fue -3.2 y la máxima fue 13.2\n",
      "La temperatura mínima fue -2 y la máxima fue 12\n",
      "La temperatura mínima fue 0 y la máxima fue 13\n",
      "La temperatura mínima fue -1 y la máxima fue 7\n",
      "La temperatura mínima fue 4 y la máxima fue 18\n",
      "La temperatura mínima fue -5 y la máxima fue 5\n",
      "La temperatura mínima fue -2 y la máxima fue 11\n",
      "La temperatura mínima fue 0 y la máxima fue 14\n",
      "La temperatura mínima fue 4 y la máxima fue 10\n",
      "La temperatura mínima fue 0 y la máxima fue 10\n"
     ]
    }
   ],
   "source": [
    "temp_min = [-3.2, -2, 0, -1, 4, -5, -2, 0, 4, 0]\n",
    "temp_max = [13.2, 12, 13, 7, 18, 5, 11, 14, 10 , 10]\n",
    "\n",
    "for t1, t2 in zip(temp_min, temp_max):\n",
    "  print('La temperatura mínima fue', t1, 'y la máxima fue', t2)"
   ]
  },
  {
   "cell_type": "markdown",
   "metadata": {},
   "source": [
    "Se puede salir del loop usando 'break'"
   ]
  },
  {
   "cell_type": "code",
   "execution_count": 98,
   "metadata": {},
   "outputs": [
    {
     "data": {
      "text/plain": [
       "(5050, 101)"
      ]
     },
     "execution_count": 98,
     "metadata": {},
     "output_type": "execute_result"
    }
   ],
   "source": [
    "sumatoria = 0\n",
    "\n",
    "for elemento in range(1000):\n",
    "    \n",
    "    if elemento > 100:\n",
    "        break\n",
    "        \n",
    "    sumatoria = sumatoria + elemento\n",
    "    \n",
    "sumatoria, elemento"
   ]
  },
  {
   "cell_type": "code",
   "execution_count": 99,
   "metadata": {},
   "outputs": [
    {
     "data": {
      "text/plain": [
       "(5050, 100)"
      ]
     },
     "execution_count": 99,
     "metadata": {},
     "output_type": "execute_result"
    }
   ],
   "source": [
    "sumatoria = 0\n",
    "\n",
    "for elemento in range(101):\n",
    "    \n",
    "    sumatoria += elemento\n",
    "    \n",
    "sumatoria, elemento"
   ]
  },
  {
   "cell_type": "markdown",
   "metadata": {},
   "source": [
    "Se puede omitir un iteración usando 'continue'"
   ]
  },
  {
   "cell_type": "code",
   "execution_count": 103,
   "metadata": {},
   "outputs": [
    {
     "name": "stdout",
     "output_type": "stream",
     "text": [
      "0, 2, 4, 6, 8, 10, 12, 14, 16, 18, "
     ]
    },
    {
     "data": {
      "text/plain": [
       "90"
      ]
     },
     "execution_count": 103,
     "metadata": {},
     "output_type": "execute_result"
    }
   ],
   "source": [
    "sumatoria = 0\n",
    "\n",
    "for elemento in range(20):\n",
    "    \n",
    "    if elemento % 2:\n",
    "        continue\n",
    "        \n",
    "        \n",
    "    print(elemento, end=', ')\n",
    "    sumatoria = sumatoria + elemento\n",
    "    \n",
    "sumatoria"
   ]
  },
  {
   "cell_type": "markdown",
   "metadata": {},
   "source": [
    "Un ejemplo práctico, consiste en crear una lista a través de un loop:"
   ]
  },
  {
   "cell_type": "code",
   "execution_count": 104,
   "metadata": {},
   "outputs": [
    {
     "name": "stdout",
     "output_type": "stream",
     "text": [
      "[9, 4, 1, 0, 1, 4, 9, 16, 25, 36, 49, 64, 81, 100, 121, 144, 169, 196]\n"
     ]
    }
   ],
   "source": [
    "cuadrados = []\n",
    "\n",
    "for i in range(-3,15,1):\n",
    "    cuadrados.append(i**2)\n",
    "    \n",
    "print(cuadrados)"
   ]
  },
  {
   "cell_type": "markdown",
   "metadata": {},
   "source": [
    "Loop while"
   ]
  },
  {
   "cell_type": "code",
   "execution_count": 105,
   "metadata": {},
   "outputs": [
    {
     "name": "stdout",
     "output_type": "stream",
     "text": [
      "0\n",
      "1\n",
      "2\n",
      "3\n",
      "4\n",
      "5\n",
      "6\n",
      "7\n",
      "8\n",
      "9\n"
     ]
    }
   ],
   "source": [
    "a = 0\n",
    "while a < 10:\n",
    "    print(a)\n",
    "    a += 1"
   ]
  },
  {
   "cell_type": "code",
   "execution_count": 111,
   "metadata": {},
   "outputs": [
    {
     "name": "stdout",
     "output_type": "stream",
     "text": [
      "2 elefantes se balanceaban sobre la tela de una araña\n",
      "Desea invitar a otro elefante?nO\n"
     ]
    }
   ],
   "source": [
    "n = 1\n",
    "while True:\n",
    "    n = n + 1\n",
    "    print(n, 'elefantes se balanceaban sobre la tela de una araña')\n",
    "    continuar = input('Desea invitar a otro elefante?')\n",
    "    if continuar.lower() == 'no':\n",
    "        break"
   ]
  },
  {
   "cell_type": "markdown",
   "metadata": {},
   "source": [
    "## 3. Funciones"
   ]
  },
  {
   "cell_type": "markdown",
   "metadata": {},
   "source": [
    "Para definir funciones, usamos la palabra reservada 'def'"
   ]
  },
  {
   "cell_type": "code",
   "execution_count": null,
   "metadata": {
    "collapsed": true
   },
   "outputs": [],
   "source": [
    "def saluda():\n",
    "    \n",
    "    print('Hola mundo!')\n",
    "    \n",
    "saluda()"
   ]
  },
  {
   "cell_type": "code",
   "execution_count": 112,
   "metadata": {},
   "outputs": [
    {
     "data": {
      "text/plain": [
       "[0, 1, 1, 2, 3, 5, 8]"
      ]
     },
     "execution_count": 112,
     "metadata": {},
     "output_type": "execute_result"
    }
   ],
   "source": [
    "def fib(n):\n",
    "    \"\"\"Devuelve una lista con los términos\n",
    "    de la serie de Fibonacci hasta n.\"\"\"\n",
    "    \n",
    "    result = []\n",
    "    a, b= 0, 1\n",
    "    \n",
    "    while a < n:\n",
    "        result.append(a)    \n",
    "        a, b = b, a+b\n",
    "        \n",
    "    return result\n",
    "\n",
    "fib(10)"
   ]
  },
  {
   "cell_type": "code",
   "execution_count": 113,
   "metadata": {},
   "outputs": [
    {
     "name": "stdout",
     "output_type": "stream",
     "text": [
      "Help on built-in function sum in module builtins:\n",
      "\n",
      "sum(iterable, start=0, /)\n",
      "    Return the sum of a 'start' value (default: 0) plus an iterable of numbers\n",
      "    \n",
      "    When the iterable is empty, return the start value.\n",
      "    This function is intended specifically for use with numeric values and may\n",
      "    reject non-numeric types.\n",
      "\n"
     ]
    }
   ],
   "source": [
    "help(sum)"
   ]
  },
  {
   "cell_type": "code",
   "execution_count": 114,
   "metadata": {},
   "outputs": [
    {
     "name": "stdout",
     "output_type": "stream",
     "text": [
      "Help on function fib in module __main__:\n",
      "\n",
      "fib(n)\n",
      "    Devuelve una lista con los términos\n",
      "    de la serie de Fibonacci hasta n.\n",
      "\n"
     ]
    }
   ],
   "source": [
    "help(fib)"
   ]
  },
  {
   "cell_type": "markdown",
   "metadata": {},
   "source": [
    "### 3.1 Scope de las variables"
   ]
  },
  {
   "cell_type": "code",
   "execution_count": 115,
   "metadata": {},
   "outputs": [
    {
     "name": "stdout",
     "output_type": "stream",
     "text": [
      "Originalmente x vale 50\n",
      "x entró a la función con el valor 50\n",
      "El nuevo valor de x es 2\n",
      "Ahora x vale 50\n"
     ]
    }
   ],
   "source": [
    "def func1(x):\n",
    "    print('x entró a la función con el valor', x)\n",
    "    x = 2\n",
    "    print('El nuevo valor de x es', x)\n",
    "\n",
    "y = 50\n",
    "print('Originalmente x vale',y)\n",
    "func1(y)\n",
    "print('Ahora x vale',y)  "
   ]
  },
  {
   "cell_type": "code",
   "execution_count": 116,
   "metadata": {},
   "outputs": [
    {
     "name": "stdout",
     "output_type": "stream",
     "text": [
      "Originalmente x vale [50]\n",
      "x entró a la función con el valor [50]\n",
      "El nuevo valor de x es [2]\n",
      "Ahora x vale [50]\n"
     ]
    }
   ],
   "source": [
    "x = [50]\n",
    "print('Originalmente x vale',x)\n",
    "\n",
    "def func2(x):\n",
    "    print('x entró a la función con el valor', x)\n",
    "    x = [2]\n",
    "    print('El nuevo valor de x es', x)\n",
    "\n",
    "func2(x)\n",
    "print('Ahora x vale',x) "
   ]
  },
  {
   "cell_type": "code",
   "execution_count": 125,
   "metadata": {},
   "outputs": [
    {
     "name": "stdout",
     "output_type": "stream",
     "text": [
      "Originalmente x vale [50]\n",
      "<class 'list'>\n",
      "x entró a la función con el valor [50]\n",
      "<class 'int'>\n",
      "El nuevo valor de x es [2]\n",
      "Ahora x vale [2]\n"
     ]
    },
    {
     "data": {
      "text/plain": [
       "[2, 12]"
      ]
     },
     "execution_count": 125,
     "metadata": {},
     "output_type": "execute_result"
    }
   ],
   "source": [
    "x = [50]\n",
    "print('Originalmente x vale',x)\n",
    "print(type(x))\n",
    "\n",
    "def func3(x):\n",
    "    print('x entró a la función con el valor', x)\n",
    "    x[0] = 2\n",
    "    print(type(x[0]))\n",
    "    print('El nuevo valor de x es', x)\n",
    "\n",
    "func3(x)\n",
    "print('Ahora x vale',x)  \n",
    "x.append(12)\n",
    "x"
   ]
  },
  {
   "cell_type": "code",
   "execution_count": 126,
   "metadata": {},
   "outputs": [
    {
     "name": "stdout",
     "output_type": "stream",
     "text": [
      "Originalmente x vale [50]\n",
      "x entró a la función con el valor [50]\n",
      "El nuevo valor de x es lala\n",
      "Ahora x vale [50]\n"
     ]
    }
   ],
   "source": [
    "x = [50]\n",
    "print('Originalmente x vale',x)\n",
    "\n",
    "def func3(x):\n",
    "    print('x entró a la función con el valor', x)\n",
    "    x = 'lala'\n",
    "    print('El nuevo valor de x es', x)\n",
    "\n",
    "func3(x)\n",
    "print('Ahora x vale',x)  "
   ]
  },
  {
   "cell_type": "code",
   "execution_count": 127,
   "metadata": {},
   "outputs": [
    {
     "name": "stdout",
     "output_type": "stream",
     "text": [
      "Originalmente x vale [1, 2, 3, 4, 5]\n",
      "x entró a la función con el valor [1, 2, 3, 4, 5]\n",
      "El nuevo valor de x es [1, 2, 108, 4, 5]\n",
      "Ahora x vale [1, 2, 108, 4, 5]\n"
     ]
    }
   ],
   "source": [
    "x = [1,2,3,4,5]\n",
    "print('Originalmente x vale',x)\n",
    "\n",
    "def func3(x):\n",
    "    print('x entró a la función con el valor', x)\n",
    "    x[2] = 108\n",
    "    print('El nuevo valor de x es', x)\n",
    "\n",
    "func3(x)\n",
    "print('Ahora x vale',x)  "
   ]
  },
  {
   "cell_type": "markdown",
   "metadata": {},
   "source": [
    "Argumentos opcionales"
   ]
  },
  {
   "cell_type": "code",
   "execution_count": 128,
   "metadata": {},
   "outputs": [
    {
     "name": "stdout",
     "output_type": "stream",
     "text": [
      "-98.0\n",
      "509.99999999999994\n",
      "-120.0\n",
      "400.0\n"
     ]
    }
   ],
   "source": [
    "def caida_libre(t, h0, v0 = 0., g=9.8):\n",
    "    \"\"\"\n",
    "    Devuelve la velocidad y la posición de una partícula en\n",
    "    caída libre para condiciones iniciales dadas\n",
    "    \n",
    "    \"\"\"\n",
    "    v = v0 - g*t\n",
    "    h = h0 - v0*t - g*t**2/2.\n",
    "  \n",
    "    return v, h\n",
    "\n",
    "v1, h1 = caida_libre(10, 1000)\n",
    "\n",
    "print(v1)\n",
    "print(h1)\n",
    "\n",
    "v1, h1 = caida_libre(10, 1000, g = 12)\n",
    "\n",
    "print(v1)\n",
    "print(h1)"
   ]
  },
  {
   "cell_type": "markdown",
   "metadata": {},
   "source": [
    "## 4. Algo de I/O"
   ]
  },
  {
   "cell_type": "markdown",
   "metadata": {},
   "source": [
    "### 4.1 Ingresar e imprimir valores \"por pantalla\""
   ]
  },
  {
   "cell_type": "code",
   "execution_count": 129,
   "metadata": {},
   "outputs": [
    {
     "name": "stdout",
     "output_type": "stream",
     "text": [
      "Ingrese algo: jo\n",
      "jo\n"
     ]
    }
   ],
   "source": [
    "algo_ingresado = input('Ingrese algo: ')\n",
    "\n",
    "print(algo_ingresado)"
   ]
  },
  {
   "cell_type": "markdown",
   "metadata": {},
   "source": [
    "### 4.2 Cargar y escribir archivos de texto"
   ]
  },
  {
   "cell_type": "code",
   "execution_count": 131,
   "metadata": {},
   "outputs": [],
   "source": [
    "writeme = open('ejemplo.txt','w') \n",
    "\n",
    "texto = 'Esta es la primer línea,\\nesta es la segunda\\ny esta es la tercera.'\n",
    "\n",
    "writeme.write(texto)\n",
    "\n",
    "writeme.close()"
   ]
  },
  {
   "cell_type": "code",
   "execution_count": 132,
   "metadata": {},
   "outputs": [
    {
     "name": "stdout",
     "output_type": "stream",
     "text": [
      "Esta es la primer línea,\n",
      "esta es la segunda\n",
      "y esta es la tercera.\n"
     ]
    }
   ],
   "source": [
    "readme = open('ejemplo.txt') \n",
    "\n",
    "texto_leido = readme.read()\n",
    "\n",
    "print(texto_leido)\n",
    "\n",
    "readme.close()"
   ]
  },
  {
   "cell_type": "code",
   "execution_count": 141,
   "metadata": {},
   "outputs": [
    {
     "name": "stdout",
     "output_type": "stream",
     "text": [
      "Esta \n",
      "es la primer línea,\n",
      "esta es la segunda\n",
      "y esta es la tercera.\n"
     ]
    }
   ],
   "source": [
    "readme = open('ejemplo.txt') \n",
    "\n",
    "texto_leido = readme.read(5)\n",
    "\n",
    "print(texto_leido)\n",
    "\n",
    "mas_texto_leido = readme.read()\n",
    "\n",
    "print(mas_texto_leido)\n",
    "\n",
    "readme.close()"
   ]
  },
  {
   "cell_type": "code",
   "execution_count": 142,
   "metadata": {},
   "outputs": [
    {
     "name": "stdout",
     "output_type": "stream",
     "text": [
      "Esta es la primer línea,\n",
      "\n",
      "esta es la segunda\n",
      "\n",
      "y esta es la tercera.\n"
     ]
    }
   ],
   "source": [
    "readme = open('ejemplo.txt')\n",
    "\n",
    "for linea in readme:\n",
    "    print(linea)\n",
    "    \n",
    "readme.close() "
   ]
  },
  {
   "cell_type": "code",
   "execution_count": 143,
   "metadata": {},
   "outputs": [
    {
     "name": "stdout",
     "output_type": "stream",
     "text": [
      "<class 'list'>\n",
      "3\n",
      "Esta es la primer línea,\n",
      "\n"
     ]
    }
   ],
   "source": [
    "readme = open('ejemplo.txt')\n",
    "lineas = readme.readlines()\n",
    "\n",
    "print(type(lineas))\n",
    "print(len(lineas))\n",
    "print(lineas[0])"
   ]
  }
 ],
 "metadata": {
  "kernelspec": {
   "display_name": "Python 3",
   "language": "python",
   "name": "python3"
  },
  "language_info": {
   "codemirror_mode": {
    "name": "ipython",
    "version": 3
   },
   "file_extension": ".py",
   "mimetype": "text/x-python",
   "name": "python",
   "nbconvert_exporter": "python",
   "pygments_lexer": "ipython3",
   "version": "3.8.2"
  }
 },
 "nbformat": 4,
 "nbformat_minor": 2
}
